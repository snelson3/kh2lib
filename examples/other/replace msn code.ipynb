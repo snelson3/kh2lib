{
 "cells": [
  {
   "cell_type": "code",
   "execution_count": null,
   "metadata": {},
   "outputs": [],
   "source": [
    "starting_address = '01c4eee0'\n",
    "old_msn = \"EH21_MS101\"\n",
    "new_msn = \"TT05_MS401\"\n",
    "toByte = lambda b, n: hex(b)[2:].zfill(n)\n",
    "padded_msn = new_msn[::-1].zfill(len(old_msn))[::-1]\n",
    "bytes_msn = padded_msn.encode('utf-8')\n",
    "words = []\n",
    "for i in range(0, len(bytes_msn), 4):\n",
    "    byte = bytes_msn[i:i+4]\n",
    "    def _getByte(n):\n",
    "        if n >= len(bytes_msn):\n",
    "            return 0\n",
    "        return bytes_msn[n]\n",
    "    word = {\"addr\": int(starting_address,16)+i, \"value\": bytearray([_getByte(i),_getByte(i+1),_getByte(i+2),_getByte(i+3)])}\n",
    "    words.append(word)\n",
    "for word in words:\n",
    "    print(\"{} {}\".format(toByte(word[\"addr\"], 8), ''.join([toByte(i,2) for i in word[\"value\"]][::-1])))"
   ]
  }
 ],
 "metadata": {
  "kernelspec": {
   "display_name": "Python 3",
   "language": "python",
   "name": "python3"
  },
  "language_info": {
   "codemirror_mode": {
    "name": "ipython",
    "version": 3
   },
   "file_extension": ".py",
   "mimetype": "text/x-python",
   "name": "python",
   "nbconvert_exporter": "python",
   "pygments_lexer": "ipython3",
   "version": "3.7.4"
  }
 },
 "nbformat": 4,
 "nbformat_minor": 2
}
