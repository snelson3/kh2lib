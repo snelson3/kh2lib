{
 "cells": [
  {
   "cell_type": "code",
   "execution_count": null,
   "metadata": {},
   "outputs": [],
   "source": [
    "import time, os\n",
    "directories = [\n",
    "    \"C:\\\\Users\\\\12sam\\\\Desktop\\\\Kingdom Hearts 2 Modding\\\\ISO\\\\export\\\\KH2\\\\effect\",\n",
    "    \"C:\\\\Users\\\\12sam\\\\Desktop\\\\Kingdom Hearts 2 Modding\\\\ISO\\\\export\\\\KH2\\\\file\\\\jp\",\n",
    "    \"C:\\\\Users\\\\12sam\\\\Desktop\\\\Kingdom Hearts 2 Modding\\\\ISO\\\\export\\\\KH2\\\\libretto\\\\us\",\n",
    "    \"C:\\\\Users\\\\12sam\\\\Desktop\\\\Kingdom Hearts 2 Modding\\\\ISO\\\\export\\\\KH2\\\\ard\",\n",
    "    \"C:\\\\Users\\\\12sam\\\\Desktop\\\\Kingdom Hearts 2 Modding\\\\ISO\\\\export\\\\KH2\\\\map\\\\jp\",\n",
    "    \"C:\\\\Users\\\\12sam\\\\Desktop\\\\Kingdom Hearts 2 Modding\\\\ISO\\\\export\\\\KH2\\\\msg\\\\jp\",\n",
    "    \"C:\\\\Users\\\\12sam\\\\Desktop\\\\Kingdom Hearts 2 Modding\\\\ISO\\\\export\\\\KH2\\\\field2d\\\\jp\",\n",
    "    \"C:\\\\Users\\\\12sam\\\\Desktop\\\\Kingdom Hearts 2 Modding\\\\ISO\\\\export\\\\KH2\\\\msn\\\\jp\",\n",
    "    \"C:\\\\Users\\\\12sam\\\\Desktop\\\\Kingdom Hearts 2 Modding\\\\ISO\\\\export\\\\KH2\\\\npack\\\\\",\n",
    "    \"C:\\\\Users\\\\12sam\\\\Desktop\\\\Kingdom Hearts 2 Modding\\\\ISO\\\\export\\\\KH2\\\\se\",\n",
    "    \"C:\\\\Users\\\\12sam\\\\Desktop\\\\Kingdom Hearts 2 Modding\\\\ISO\\\\export\\\\KH2\\\\obj\",\n",
    "    \"\"\"C:\\\\Users\\\\12sam\\\\Desktop\\\\Kingdom Hearts 2 Modding\\\\ISO\\\\export\\\\KH2\"\"\",\n",
    "    \"C:\\\\Users\\\\12sam\\\\Desktop\\\\Kingdom Hearts 2 Modding\\\\ISO\\\\export\\\\KH2\\\\@noname\",\n",
    "    \"C:\\\\Users\\\\12sam\\\\Desktop\\\\Kingdom Hearts 2 Modding\\\\ISO\\\\export\\\\KH2\\\\dbg\",\n",
    "    \n",
    "    \n",
    "]\n",
    "start = time.time()\n",
    "substr = b'HB33_FM_LAR'\n",
    "for d in directories:\n",
    "    fns = [i for i in os.listdir(d) if \".\" in i]\n",
    "    print(\"{} ({})\".format(d, len(fns)))\n",
    "    \n",
    "    for fn in fns:\n",
    "        f = open(os.path.join(d,fn), \"rb\").read()\n",
    "        try:\n",
    "            i = f.index(substr)\n",
    "            print(\"\\t{} ({})\".format(fn, hex(i)))\n",
    "        except:\n",
    "            pass\n",
    "    print(\"{}s\".format(time.time()-start))\n",
    "    start = time.time()\n",
    "        "
   ]
  }
 ],
 "metadata": {
  "kernelspec": {
   "display_name": "Python 3",
   "language": "python",
   "name": "python3"
  },
  "language_info": {
   "codemirror_mode": {
    "name": "ipython",
    "version": 3
   },
   "file_extension": ".py",
   "mimetype": "text/x-python",
   "name": "python",
   "nbconvert_exporter": "python",
   "pygments_lexer": "ipython3",
   "version": "3.7.4"
  }
 },
 "nbformat": 4,
 "nbformat_minor": 2
}
