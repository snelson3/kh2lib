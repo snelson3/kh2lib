{
 "cells": [
  {
   "cell_type": "code",
   "execution_count": null,
   "metadata": {},
   "outputs": [],
   "source": [
    "# Parse ucm digits file to json\n",
    "# parse the list in the rando, compare with the digits file, and if they habe a model listed calc the filesize\n",
    "# parse the locations list in the rando, calculate file size and output to json\n",
    "# write a yaml writer/reader that can generate replacement codes, using english or code name\n",
    "# do testing related to file sizes, figure out the bounds\n",
    "ucm = open(os.path.join(\"research\",\"ucm.paste\")).read().split(\"\\n\")\n",
    "us = []\n",
    "for line in ucm:\n",
    "    l = line.split(\"-\")\n",
    "    num = l[0].strip()\n",
    "    descr = ''.join(l[1:]).strip()\n",
    "    model = descr.split(\"\\t\")[-1] if \"\\t\" in descr else ''\n",
    "    descr = descr.split(\"\\t\")[0] if \"\\t\" in descr else descr\n",
    "    if model:\n",
    "        model = model.split('(\"')[1].split('\")')[0]\n",
    "    us.append((num,descr,model))\n",
    "with open(\"ucm.json\",\"w\") as f:\n",
    "    f.write(\"ucm,descr,model\\n\")\n",
    "    for l in us:\n",
    "        f.write(\"{},{},{}\\n\".format(l[0], l[1], l[2]))\n",
    "us"
   ]
  },
  {
   "cell_type": "code",
   "execution_count": null,
   "metadata": {},
   "outputs": [],
   "source": [
    "# Need a list of UCMs that are bosses or enemies, so I can filter properly (and list if they are boss or enemy)\n",
    "x = []\n",
    "f = open(\"bosstable.csv\").read().split(\"\\n\")\n",
    "commands = f[0].split(\",\")\n",
    "for line in f[1:]:\n",
    "    l = line.split(\",\")\n",
    "    r = {}\n",
    "    for i in range(len(commands)):\n",
    "        r[commands[i]] = l[i]\n",
    "    x.append(r)\n",
    "print(x)"
   ]
  },
  {
   "cell_type": "code",
   "execution_count": null,
   "metadata": {},
   "outputs": [],
   "source": [
    "records = []\n",
    "for boss in x:\n",
    "    code = boss[\"Obj Code\"]\n",
    "    aiparam = ''.join(code[:2]) if len(code) == 6 else ''\n",
    "    code = code if not aiparam else ''.join(code[2:])\n",
    "    otherboss = d[code]\n",
    "    record = {\n",
    "        \"ucm\": code,\n",
    "        \"name\": boss[\"Boss Name\"],\n",
    "        \"model\": otherboss[\"model\"],\n",
    "        \"animation\": \"\", \n",
    "        \"size\": \"\",\n",
    "        \"aiparam\": aiparam,\n",
    "        \"type\": \"boss\",\n",
    "    }\n",
    "    records.append(record)"
   ]
  },
  {
   "cell_type": "code",
   "execution_count": null,
   "metadata": {},
   "outputs": [],
   "source": [
    "enemies = {}\n",
    "for location in ens:\n",
    "    for enemy in location[\"enemies\"]:\n",
    "        code = enemy[\"enemy\"][\"value\"]\n",
    "        aiparam = ''.join(code[:2]) if len(code) == 6 else ''\n",
    "        code = code if not aiparam else ''.join(code[2:])\n",
    "        otherboss = d[code]\n",
    "        record = {\n",
    "            \"ucm\": code,\n",
    "            \"name\": enemy[\"enemy\"][\"name\"],\n",
    "            \"model\": otherboss[\"model\"],\n",
    "            \"animation\": \"\",\n",
    "            \"size\": \"\",\n",
    "            \"aiparam\": aiparam,\n",
    "            \"type\": \"enemy\"\n",
    "        }\n",
    "        enemies[code] = record\n",
    "for record in enemies.values():\n",
    "    records.append(record)\n",
    "records"
   ]
  },
  {
   "cell_type": "code",
   "execution_count": null,
   "metadata": {},
   "outputs": [],
   "source": [
    "with open(os.path.join(\"research\", \"enemy_records.csv\"), \"w\") as f:\n",
    "    json.dump(records, f)"
   ]
  },
  {
   "cell_type": "code",
   "execution_count": null,
   "metadata": {},
   "outputs": [],
   "source": [
    "d = {}\n",
    "for i in us:\n",
    "    d[i[0]] = {\"name\": i[1], \"model\": i[2]}"
   ]
  },
  {
   "cell_type": "code",
   "execution_count": null,
   "metadata": {},
   "outputs": [],
   "source": [
    "# read file into json\n",
    "# for each line add up the filesize of the model and anim file\n",
    "  # if extra spawns recurse for that size\n",
    "  # if the ucms or spawn ucms are not 4 length, pad them\n",
    "  # if no anim filename, use model name\n",
    "  # if no anim fileexists don't try to read it\n",
    "  # optionally include the .fm file based on the model name\n",
    "# write this out to json/csv\n",
    "OBJDIR = os.path.join(os.environ[\"USE_KH2_GITPATH\"], \"KH2\", \"obj\")\n",
    "lines = open(os.path.join(\"research\",\"enemy_records_filled.csv\")).read().split(\"\\n\")\n",
    "headers = lines[0].split(\",\")\n",
    "records = {}\n",
    "for line in lines[1:]:\n",
    "    if len(line) == 0:\n",
    "        continue\n",
    "    record = {}\n",
    "    for i in range(len(headers)):\n",
    "        record[headers[i]] = line.split(\",\")[i]\n",
    "    record[\"ucm\"] = record[\"ucm\"].zfill(4)\n",
    "    record[\"spawns\"] = [i.zfill(4) for i in record[\"spawns\"].split(';') if len(i) > 0]\n",
    "    name = record[\"name\"].strip()\n",
    "    record[\"name\"] = name\n",
    "    records[name] = record\n",
    "def getsize(name):\n",
    "    size = 0\n",
    "    record = records[name]\n",
    "    size = os.path.getsize(os.path.join(OBJDIR,record[\"model\"]+\".mdlx\"))\n",
    "    fmfn = os.path.join(OBJDIR,record[\"model\"]+\".fm\")\n",
    "    if os.path.exists(fmfn):\n",
    "        size += os.path.getsize(fmfn)\n",
    "    anfn = record[\"animation\"]\n",
    "    if len(anfn) == 0:\n",
    "        anfn = record[\"model\"] + \".mset\"\n",
    "    anfn = os.path.join(OBJDIR, anfn)\n",
    "    if os.path.exists(anfn):\n",
    "        size += os.path.getsize(anfn)\n",
    "    for spawn in record[\"spawns\"]:\n",
    "        for r in records:\n",
    "            if records[r][\"ucm\"] == spawn:\n",
    "                size += getsize(records[r][\"name\"])\n",
    "    return size\n",
    "for r in records:\n",
    "    records[r][\"size\"] = getsize(r)\n",
    "records\n",
    "json.dump(records, open(os.path.join(\"research\", \"enemy_records_filled.json\"), \"w\"), sort_keys=True, indent=4, separators=(',', ': '))"
   ]
  },
  {
   "cell_type": "code",
   "execution_count": null,
   "metadata": {},
   "outputs": [],
   "source": [
    "for r in sorted(records.values(), key=lambda k: k[\"size\"]):\n",
    "    print(\"{} {}\".format(r[\"size\"], r[\"name\"]))"
   ]
  },
  {
   "cell_type": "code",
   "execution_count": null,
   "metadata": {},
   "outputs": [],
   "source": [
    "def lookupEnemySize(enemy):\n",
    "    if len(enemy) == 4:\n",
    "        aiparam = ''\n",
    "    if len(enemy) == 6:\n",
    "        aiparam = enemy[1]\n",
    "        enemy = enemy[2:]\n",
    "    for e in records.values():\n",
    "        if e[\"ucm\"].lower().zfill(4) == enemy.lower():\n",
    "            print(\"hi\")\n",
    "            if e[\"aiparam\"] == '0' or e[\"aiparam\"] == '':\n",
    "                if aiparam == '0' or aiparam == '':\n",
    "                    return e[\"size\"]\n",
    "            if e[\"aiparam\"] == aiparam:\n",
    "                return e[\"size\"]\n",
    "    raise Exception(\"enemy not found {}\".format(enemy))\n",
    "lookupEnemySize('035E')"
   ]
  }
 ],
 "metadata": {
  "kernelspec": {
   "display_name": "Python 3",
   "language": "python",
   "name": "python3"
  },
  "language_info": {
   "codemirror_mode": {
    "name": "ipython",
    "version": 3
   },
   "file_extension": ".py",
   "mimetype": "text/x-python",
   "name": "python",
   "nbconvert_exporter": "python",
   "pygments_lexer": "ipython3",
   "version": "3.7.4"
  }
 },
 "nbformat": 4,
 "nbformat_minor": 2
}
