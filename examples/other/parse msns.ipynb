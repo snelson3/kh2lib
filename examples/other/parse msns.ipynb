{
 "cells": [
  {
   "cell_type": "code",
   "execution_count": null,
   "metadata": {},
   "outputs": [],
   "source": [
    "from kh2lib.kh2lib import kh2lib\n",
    "lib = kh2lib()\n",
    "# lib.create_patch(fromgit=True)\n",
    "import os,json"
   ]
  },
  {
   "cell_type": "code",
   "execution_count": null,
   "metadata": {},
   "outputs": [],
   "source": [
    "DIR = os.path.join(os.environ[\"USE_KH2_GITPATH\"], \"KH2\", \"msn\", \"jp\")\n",
    "for fn in os.listdir(DIR):\n",
    "    lib.editengine.bar_extract(os.path.join(DIR,fn), os.path.join(os.getcwd(),\"research\",\"msns\", fn.split(\".\")[0]))"
   ]
  },
  {
   "cell_type": "code",
   "execution_count": null,
   "metadata": {},
   "outputs": [],
   "source": [
    "# for each msn file\n",
    "  # extract the bar into it's own folder \n",
    "  # look at the extracted bar, gather some data\n",
    "        # length of filename\n",
    "        # boss ai os filename\n",
    "        # boss ai hex filename\n",
    "        # boss ai len\n",
    "    # list len\n",
    "        # if there are multiple list or ai files, add columns\n",
    "        # if there are no lists or ai files, have a N/A\n",
    "    # total # files in directory\n",
    "    # files of each type\n",
    "# put the data in a csv file, for easy searching for interesting stuff\n",
    "records = []\n",
    "for barfn in os.listdir(os.path.join(os.getcwd(),\"research\",\"msns\")):\n",
    "    info = {}\n",
    "    BARDIR = os.path.join(os.getcwd(), \"research\", \"msns\", barfn)\n",
    "    info[\"name\"] = barfn\n",
    "    info[\"namelen\"] = len(barfn)\n",
    "    count = 0\n",
    "    for fn in os.listdir(BARDIR):\n",
    "        count += 1\n",
    "        ext = fn.split(\".\")[1]\n",
    "        if \"ext-{}\".format(ext) in info:\n",
    "            info[\"ext-{}\".format(ext)] += 1\n",
    "        else:\n",
    "            info[\"ext-{}\".format(ext)] = 1\n",
    "        if ext == \"ai\":\n",
    "            info[\"ai_os_name\"] = fn.split(\".\")[0]\n",
    "            aifile = open(os.path.join(BARDIR,fn), \"rb\").read()\n",
    "            name = \"\"\n",
    "            for b in range(len(aifile)):\n",
    "                byte = aifile[b]\n",
    "                if byte == 0x0:\n",
    "                    name = aifile[:b].decode('utf-8')\n",
    "                    break\n",
    "            info[\"ai_hex_name\"] = name\n",
    "            info[\"ai_len\"] = len(aifile)\n",
    "        if ext == \"list\":\n",
    "            info[\"list_len\"] = len(open(os.path.join(BARDIR,fn),\"rb\").read())\n",
    "    info[\"filecount\"] = count\n",
    "    records.append(info)\n",
    "# name\n",
    "# namelen\n",
    "# ext-{} (all extensions count)\n",
    "# ai_os_name\n",
    "# ai_hex-name\n",
    "# ai_len"
   ]
  },
  {
   "cell_type": "code",
   "execution_count": null,
   "metadata": {},
   "outputs": [],
   "source": [
    "c = ''\n",
    "# get total list of ext- filetypes\n",
    "filetypes = []\n",
    "for record in records:\n",
    "    for k in record:\n",
    "        if k.startswith(\"ext-\"):\n",
    "            filetypes.append(k)\n",
    "c = 'name,namelen,ai_os_name,ai_hex_name,ai_len,list_len,filecount,'\n",
    "c += ','.join(set(filetypes))\n",
    "cols = c.split(',')\n",
    "c += \"\\n\""
   ]
  },
  {
   "cell_type": "code",
   "execution_count": null,
   "metadata": {},
   "outputs": [],
   "source": [
    "for r in records:\n",
    "    for col in cols:\n",
    "        if col in r:\n",
    "            print(col,r[col])\n",
    "            c += str(r[col])\n",
    "        c += ','\n",
    "    c+=\"\\n\"\n",
    "c\n",
    "open(\"msns.csv\",\"w\").write(c)"
   ]
  },
  {
   "cell_type": "code",
   "execution_count": null,
   "metadata": {},
   "outputs": [],
   "source": [
    "for dr in os.listdir(os.path.join(os.getcwd(), \"research\", \"msns\")):\n",
    "    aicount = 0\n",
    "    listcount = 0\n",
    "    for fn in os.listdir(os.path.join(os.getcwd(),\"research\",\"msns\",dr)):\n",
    "        ext = fn.split(\".\")[-1]\n",
    "        if ext == \"ai\":\n",
    "            aicount += 1\n",
    "        if ext == \"list\":\n",
    "            listcount += 1\n",
    "    if aicount != 1:\n",
    "        print(\"{} has {} ai files\".format(dr, aicount))\n",
    "    if listcount != 1:\n",
    "        print(\"{} has {} list files\".format(dr, listcount))\n",
    "    # loop through and see stuff"
   ]
  }
 ],
 "metadata": {
  "kernelspec": {
   "display_name": "Python 3",
   "language": "python",
   "name": "python3"
  },
  "language_info": {
   "codemirror_mode": {
    "name": "ipython",
    "version": 3
   },
   "file_extension": ".py",
   "mimetype": "text/x-python",
   "name": "python",
   "nbconvert_exporter": "python",
   "pygments_lexer": "ipython3",
   "version": "3.7.4"
  }
 },
 "nbformat": 4,
 "nbformat_minor": 2
}
