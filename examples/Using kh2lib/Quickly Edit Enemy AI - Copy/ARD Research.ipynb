{
 "cells": [
  {
   "cell_type": "code",
   "execution_count": 1,
   "metadata": {},
   "outputs": [],
   "source": [
    "# First create the kh2lib object\n",
    "from kh2lib.kh2lib import kh2lib\n",
    "import os, json\n",
    "lib = kh2lib()\n",
    "if not os.path.isdir(\"workspace\"):\n",
    "    os.mkdir(\"workspace\")"
   ]
  },
  {
   "cell_type": "code",
   "execution_count": 17,
   "metadata": {},
   "outputs": [],
   "source": [
    "# Now we extract the xemnas BAR into a folder in our workspace\n",
    "MDLX = \"tt01.ard\"\n",
    "BAR = os.path.join(lib.gitpath, \"KH2\",\"ard\",MDLX)\n",
    "assert os.path.isfile(BAR)\n",
    "lib.editengine.bar_extract(BAR, os.path.join(os.getcwd(), \"workspace\",\"tt01\"))"
   ]
  },
  {
   "cell_type": "code",
   "execution_count": 9,
   "metadata": {},
   "outputs": [],
   "source": [
    "MDLX = \"tt01.ard\"\n",
    "BAR = os.path.join(lib.gitpath, \"KH2\",\"ard\",MDLX)\n",
    "lib.editengine.bar_build(os.path.join(os.getcwd(), \"workspace\", \"tt01\"), BAR)"
   ]
  },
  {
   "cell_type": "code",
   "execution_count": null,
   "metadata": {},
   "outputs": [],
   "source": [
    "# Open the workspace in a window and copy the b_ex.ai to have an unmodified copy to diff against\n",
    "# Then open the b_ex.ai in a hex editor and make the following changes to the bottom of the file\n",
    "# Find the header definition for these two functions, and replace them with 00s\n",
    "#  warp_building_front\n",
    "#  rc_invitation_to_dark\n",
    "# Alternatively, just edit a decompiled version of this AI file in Ghidra (using Govanify's KH2 plugin)\n",
    "\n",
    "base_file = os.path.join(\"workspace\", \"battle\", \"enmp.list.base\")\n",
    "mod_file = os.path.join(\"workspace\", \"riku\", \"n_ex.ai\")\n",
    "assert os.path.isfile(base_file)\n",
    "assert os.path.isfile(mod_file)\n",
    "\n",
    "# go to the roxas fight, and create a memdump using emuhaste\n",
    "#  it is recommended to make a savestate in the cutscene before the fight loads, for ease of testing\n",
    "# Place the memdump in the workspace folder, using whatever name you choose\n",
    "dumpname = \"realriku.dump\"\n",
    "subdata = lib.parsingengine.load_memdump(os.path.join(\"workspace\", dumpname))\n",
    "# SUBDATA = lib.parsingengine.load_memdump(base_file) #IF THINGS ARENT WORKING LOOK HERE SILLY\n",
    "\n",
    "starting_offset = int(lib.parsingengine.locate_file(base_file),16)\n",
    "print(hex(starting_offset))\n",
    "0/0\n",
    "lib.cheatengine.pnach = []\n",
    "# This code will diff the two versions of the ai file and create codes to make those same changes via RAM\n",
    "codes = lib.parsingengine.generate_codes(str(starting_offset), base_file, mod_file)\n",
    "for code in codes:\n",
    "    print(code)\n",
    "print(codes)\n",
    "# The memdump skips the first section of memory addresses so the code offsets need to be fixed\n",
    "codes = [code[1].replace(\"0\",\"2\") + code[1:] for code in codes]\n",
    "codes\n",
    "# codes = []#DEBUG\n",
    "\n",
    "# Now we add the codes into the pnach portion of kh2lib, and generate a pnach file in your pcsx 2 directory\n",
    "# Then just load your savestate, skip cutscene and start the fight\n",
    "lib.cheatengine.apply_ram_code(codes)\n",
    "lib.cheatengine.write_pnach(debug=True)"
   ]
  },
  {
   "cell_type": "code",
   "execution_count": null,
   "metadata": {},
   "outputs": [],
   "source": [
    "import time, os\n",
    "while 1:\n",
    "    time.sleep(0.1)\n",
    "    if os.path.isfile(mod_file):\n",
    "        lib.cheatengine.pnach = []\n",
    "        codes = lib.parsingengine.generate_codes(str(starting_offset), base_file, mod_file)\n",
    "        codes = [code[1].replace(\"1\",\"2\") + code[1:] for code in codes]\n",
    "        lib.cheatengine.apply_ram_code(codes)\n",
    "        lib.cheatengine.write_pnach(debug=False)\n",
    "        print(time.time())\n",
    "        os.remove(mod_file)"
   ]
  },
  {
   "cell_type": "code",
   "execution_count": null,
   "metadata": {},
   "outputs": [],
   "source": [
    "# Spawnscript reader\n",
    "opcodes = {\n",
    "    0x0: (\"Spawn\", \"Load Spawn File\"),\n",
    "    0x1: (\"MapOcclusion\", \"Enable/Disable meshes/collisions\"),\n",
    "    0x2: (\"RandomSpawn\", \"Randomly spawn enemies\"),\n",
    "    0x3: (\"CasualSpawn\", \"Casually spawn enemy group\"),\n",
    "    0x4: (\"Capacity\", \"Set capacity of map (float)\"),\n",
    "    0x5: (\"AllocEnemy\", \"Memory reserved for enemies\"),\n",
    "    0x6: (\"Unk06\", \"Set memory area 0034ecd8\"),\n",
    "    0x7: (\"Unk07\", \"Set the memory area 0034ecdc\"),\n",
    "    0x9: (\"UncommonSpawn\", \"Somewhat like Spawn, used less\"),\n",
    "    0xa: (\"Unk0a\", \"No Idea\"),\n",
    "    0xb: (\"BarrierFlag\", \"Defines parts of the map that are blocked by a barrier\"),\n",
    "    0xc: (\"AreaSettings\", \"Play a function related to evt\"),\n",
    "    0xe: (\"Unk0e\", \"Unknown\"),\n",
    "    0xf: (\"Party\", \"Which party members are allowed\"),\n",
    "    0x10: (\"BGM\", \"Set Background Music\"),\n",
    "    0x11: (\"MSGWall\", \"Sets message played when hitting invisible wall\"),\n",
    "    0x12: (\"Unk12\", \"Unknown and unused\"),\n",
    "    0x13: (\"Camera\", \"Camera mode for map\"),\n",
    "    0x14: (\"StatusFlag3\", \"Sets 3rd bit of memory area 0034F240\"),\n",
    "    0x15: (\"Mission\", \"Loads MSN file\"),\n",
    "    0x16: (\"Bar\", \"Loads BAR file by specifying path\"),\n",
    "    0x17: (\"StatusFlag5\", \"Sets 5th byte of memory area 0034F240 (Tornado related?)\"),\n",
    "    0x18: (\"AllocEffect\", \"Allocates memory for the particle system?\"),\n",
    "    0x19: (\"Progress\", \"Set story flag\"),\n",
    "    0x1a: (\"Visibility On\", \"Something with 01c60548\"),\n",
    "    0x1b: (\"Visibility Off\", \"Something with 01c60550\"),\n",
    "    0x1c: (\"If\", \"Recursively calls spawnscript parser somehow?\"),\n",
    "    0x1d: (\"Unk1d\", \"Unknown\"),\n",
    "    0x1e: (\"BattleLevel\", \"Override battle level\"),\n",
    "    0x1f: (\"Unk1F\", \"Unknown but similar to CasualSpawn\")\n",
    "}"
   ]
  },
  {
   "cell_type": "code",
   "execution_count": 24,
   "metadata": {},
   "outputs": [],
   "source": [
    "SPAWNSCRIPT_PATH = os.path.join(os.getcwd(), \"workspace\", \"tt01\")\n",
    "OUTDIR = os.path.join(os.getcwd(), \"workspace\", \"tt01\", \"extracted_spawnscripts\")\n",
    "MAP_IN_PATH = os.path.join(SPAWNSCRIPT_PATH, \"map.script\")\n",
    "MAP_OUT_PATH = os.path.join(OUTDIR, \"map.txt\")\n",
    "EVT_IN_PATH = os.path.join(SPAWNSCRIPT_PATH, \"evt.script\")\n",
    "EVT_OUT_PATH = os.path.join(OUTDIR, \"evt.txt\")\n",
    "# BTL_IN_PATH = os.path.join(SPAWNSCRIPT_PATH, \"btl.script\")\n",
    "# BTL_OUT_PATH = os.path.join(OUTDIR, \"btl.txt\")"
   ]
  },
  {
   "cell_type": "code",
   "execution_count": 23,
   "metadata": {},
   "outputs": [],
   "source": [
    "lib.editengine.spawnscript_extract(MAP_IN_PATH, MAP_OUT_PATH)\n",
    "lib.editengine.spawnscript_extract(EVT_IN_PATH, EVT_OUT_PATH)\n",
    "# lib.editengine.spawnscript_extract(BTL_IN_PATH, BTL_OUT_PATH)"
   ]
  },
  {
   "cell_type": "code",
   "execution_count": null,
   "metadata": {},
   "outputs": [],
   "source": [
    "SPAWNSCRIPT_PATH = os.path.join(os.getcwd(), \"workspace\", \"riku_ard\")\n",
    "OUTDIR = os.path.join(os.getcwd(), \"workspace\", \"riku_ard\", \"extracted_spawnscripts\")\n",
    "MAP_IN_PATH = os.path.join(SPAWNSCRIPT_PATH, \"map.script\")\n",
    "MAP_OUT_PATH = os.path.join(OUTDIR, \"map.txt\")\n",
    "EVT_IN_PATH = os.path.join(SPAWNSCRIPT_PATH, \"evt.script\")\n",
    "EVT_OUT_PATH = os.path.join(OUTDIR, \"evt.txt\")\n",
    "BTL_IN_PATH = os.path.join(SPAWNSCRIPT_PATH, \"btl.script\")\n",
    "BTL_OUT_PATH = os.path.join(OUTDIR, \"btl.txt\")"
   ]
  },
  {
   "cell_type": "code",
   "execution_count": null,
   "metadata": {},
   "outputs": [],
   "source": [
    "lib.editengine.spawnscript_extract(MAP_IN_PATH, MAP_OUT_PATH)\n",
    "lib.editengine.spawnscript_extract(EVT_IN_PATH, EVT_OUT_PATH)\n",
    "lib.editengine.spawnscript_extract(BTL_IN_PATH, BTL_OUT_PATH)"
   ]
  },
  {
   "cell_type": "code",
   "execution_count": 25,
   "metadata": {},
   "outputs": [
    {
     "name": "stdout",
     "output_type": "stream",
     "text": [
      "['-patchmaker', '-output', 'patch.kh2patch', '-author', 'kh2lib', '-version', '1', '-skipchangelog', '-skipcredits']\n",
      "(b'KH2FM_Toolkit\\nVersion PRE-3.0\\nDEVELOPER RELEASE\\n\\nProgrammed by GovanifY\\nhttp://www.govanify.com\\nhttp://www.twitter.com/GovanifY\\nSoftware under GPL 2 license, for more info, use the command -license\\n\\nThis tool is able to create patches for the software KH2FM_Toolkit.\\nIt can add files using the internal compression of the game \\nKingdom Hearts 2(Final Mix), relink files to others, recreate\\nthe iso without size limits and without corruption.\\nThis patch system is the best ever made for this game atm.\\n\\nPress enter to run using the file: patch.kh2patchOther information (leave blank to continue): Filenames may be formatted as text (msg/jp/lk.bar) or hash (0x030b45da).\\r\\n\\nEnter filename:   Using \"ard/es00.ard\" for F5F21660\\r\\nRelink to this filename(ex: 000al.idx) [Blank for none]: Compress this file? [Y/n] Parent compressed file [Leave blank for KH2]:   Using \"KH2\" for 00000000\\r\\nShould this file be added if he\\'s not in the game? [y/N] \\nEnter filename:   Using \"ard/tt01.ard\" for A2E30F2C\\r\\nRelink to this filename(ex: 000al.idx) [Blank for none]: Compress this file? [Y/n] Parent compressed file [Leave blank for KH2]:   Using \"KH2\" for 00000000\\r\\nShould this file be added if he\\'s not in the game? [y/N] \\nEnter filename: Compressing es00.ard:   Compressed to 46% of the original size!\\r\\nCompressing tt01.ard:   Compressed to 52% of the original size!\\r\\nPatch created.\\r\\n', None)\n",
      "patch created\n",
      "patching the game\n",
      "['patch.kh2patch', 'patch.kh2patch', 'patch.kh2patch']\n",
      "all done\n"
     ]
    }
   ],
   "source": [
    "lib.editengine.spawnscript_compile(MAP_OUT_PATH, MAP_IN_PATH)\n",
    "lib.editengine.spawnscript_compile(EVT_OUT_PATH, EVT_IN_PATH)\n",
    "lib.editengine.bar_build(os.path.join(os.getcwd(), \"workspace\", \"tt01\",\"tt01.ard.json\"), BAR)\n",
    "lib.patch_game(fromgit=True)"
   ]
  },
  {
   "cell_type": "code",
   "execution_count": null,
   "metadata": {},
   "outputs": [],
   "source": [
    "os.stat(MAP_OUT_PATH)"
   ]
  },
  {
   "cell_type": "code",
   "execution_count": null,
   "metadata": {},
   "outputs": [],
   "source": [
    "os.stat(MAP_OUT_PATH)[8]"
   ]
  },
  {
   "cell_type": "code",
   "execution_count": null,
   "metadata": {},
   "outputs": [],
   "source": [
    "lib.editengine.spawnscript_compile(BTL_OUT_PATH, BTL_IN_PATH+\".new\")"
   ]
  },
  {
   "cell_type": "code",
   "execution_count": null,
   "metadata": {},
   "outputs": [],
   "source": [
    "import time, os\n",
    "map_etime = 0\n",
    "btl_etime = 0\n",
    "evt_etime = 0\n",
    "base_file_map = os.path.join(\"workspace\", \"riku_ard\", \"map.script\")\n",
    "mod_file_map = os.path.join(\"workspace\", \"riku_ard\", \"map.script.new\")\n",
    "base_file_btl = os.path.join(\"workspace\", \"riku_ard\", \"btl.script\")\n",
    "mod_file_btl = os.path.join(\"workspace\", \"riku_ard\", \"btl.script.new\")\n",
    "base_file_evt = os.path.join(\"workspace\", \"riku_ard\", \"evt.script\")\n",
    "mod_file_evt = os.path.join(\"workspace\", \"riku_ard\", \"evt.script.new\")\n",
    "starting_offset_map = int(lib.parsingengine.locate_file(base_file_map),16)\n",
    "starting_offset_btl = int(lib.parsingengine.locate_file(base_file_btl),16)\n",
    "starting_offset_evt = int(lib.parsingengine.locate_file(base_file_evt),16)\n",
    "num_failures = 0\n",
    "last_exc = None\n",
    "map_codes = []\n",
    "evt_codes = []\n",
    "btl_codes = []\n",
    "while 1:\n",
    "    if num_failures > 10:\n",
    "        raise last_exc\n",
    "    try:\n",
    "        time.sleep(0.05)\n",
    "        newCheats = False\n",
    "\n",
    "        map_netime = os.stat(MAP_OUT_PATH)[8]\n",
    "        btl_netime = os.stat(BTL_OUT_PATH)[8]\n",
    "        evt_netime = os.stat(EVT_OUT_PATH)[8]\n",
    "        if map_netime != map_etime:\n",
    "            map_etime = map_netime\n",
    "            newCheats = True\n",
    "        if btl_netime != btl_etime:\n",
    "            btl_etime = btl_netime\n",
    "            newCheats = True\n",
    "        if evt_netime != evt_etime:\n",
    "            evt_etime = evt_netime\n",
    "            newCheats = True\n",
    "        if newCheats:\n",
    "            lib.cheatengine.pnach = []\n",
    "            lib.editengine.spawnscript_compile(MAP_OUT_PATH, MAP_IN_PATH+\".new\")\n",
    "            map_codes = lib.parsingengine.generate_codes(str(starting_offset_map), base_file_map, mod_file_map)\n",
    "            lib.editengine.spawnscript_compile(BTL_OUT_PATH, BTL_IN_PATH+\".new\")\n",
    "            btl_codes = lib.parsingengine.generate_codes(str(starting_offset_btl), base_file_btl, mod_file_btl)\n",
    "            lib.editengine.spawnscript_compile(EVT_OUT_PATH, EVT_IN_PATH+\".new\")\n",
    "            evt_codes = lib.parsingengine.generate_codes(str(starting_offset_evt), base_file_evt, mod_file_evt)\n",
    "            codes = [code[1].replace(\"1\",\"2\") + code[1:] for code in map_codes+btl_codes+evt_codes]\n",
    "            lib.cheatengine.apply_ram_code(codes)\n",
    "            lib.cheatengine.write_pnach(debug=False)\n",
    "            print(time.time())\n",
    "        num_failures = 0\n",
    "    except Exception as exc:\n",
    "        last_exc = exc\n",
    "        print(last_exc)\n",
    "        num_failures += 1"
   ]
  },
  {
   "cell_type": "code",
   "execution_count": null,
   "metadata": {},
   "outputs": [],
   "source": []
  }
 ],
 "metadata": {
  "kernelspec": {
   "display_name": "Python 3",
   "language": "python",
   "name": "python3"
  },
  "language_info": {
   "codemirror_mode": {
    "name": "ipython",
    "version": 3
   },
   "file_extension": ".py",
   "mimetype": "text/x-python",
   "name": "python",
   "nbconvert_exporter": "python",
   "pygments_lexer": "ipython3",
   "version": "3.7.4"
  }
 },
 "nbformat": 4,
 "nbformat_minor": 2
}
