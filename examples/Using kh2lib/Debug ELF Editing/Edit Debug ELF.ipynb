{
 "cells": [
  {
   "cell_type": "code",
   "execution_count": null,
   "metadata": {},
   "outputs": [],
   "source": [
    "# First create the kh2lib object\n",
    "from kh2lib.kh2lib import kh2lib\n",
    "import os, json, time, subprocess\n",
    "lib = kh2lib()\n",
    "if not os.path.isdir(\"workspace\"):\n",
    "    os.mkdir(\"workspace\")\n",
    "    \n",
    "PS3INSTALLDIR = os.environ[\"USE_KH2DEBUG_DIR\"]\n",
    "\n",
    "baseelf = bytearray(open(os.path.join(PS3INSTALLDIR, \"base.elf\"), \"rb\").read())\n",
    "\n",
    "elf_path = os.path.join(PS3INSTALLDIR, \"SLPM_666.75_START_ONE\")\n",
    "\n",
    "tty_path = os.path.join(PS3INSTALLDIR, \"..\", \"..\", \"..\", \"..\", \"TTY.log\")\n",
    "\n",
    "num_failures = 0\n",
    "elf_last_edit = 0\n",
    "tty_last_edit = 0\n",
    "while 1:\n",
    "    if num_failures > 10:\n",
    "        raise last_exc\n",
    "    try:\n",
    "        time.sleep(0.05)\n",
    "        \n",
    "        elf_check = os.stat(elf_path)[8]\n",
    "        if os.path.isfile(tty_path):\n",
    "            tty_check = os.stat(tty_path)[8]\n",
    "        \n",
    "        if elf_check > elf_last_edit:\n",
    "            print(\"Elf changed: {}\".format(time.time()))\n",
    "            elf_last_edit = elf_check\n",
    "            \n",
    "            gameelf = bytearray(open(elf_path, \"rb\").read())\n",
    "            newelf = baseelf + gameelf\n",
    "            open(os.path.join(PS3INSTALLDIR, \"EBOOT.BIN\"), \"wb\").write(newelf)\n",
    "            \n",
    "            os.remove(tty_path)\n",
    "            \n",
    "        if os.path.isfile(tty_path):\n",
    "            tty_last_edit = tty_check\n",
    "            \n",
    "            \n",
    "            tty = subprocess.check_output([\"cat\", tty_path])\n",
    "            out_fn = os.path.join(PS3INSTALLDIR, \"TTY.test\")\n",
    "            \n",
    "            open(out_fn,\"wb\").write(tty)\n",
    "    except Exception as exc:\n",
    "        last_exc = exc\n",
    "        print(last_exc)\n",
    "        num_failures += 1"
   ]
  },
  {
   "cell_type": "code",
   "execution_count": null,
   "metadata": {},
   "outputs": [],
   "source": [
    "import subprocess\n",
    "subprocess.check_output([\"cat\", tty_path])"
   ]
  },
  {
   "cell_type": "code",
   "execution_count": null,
   "metadata": {},
   "outputs": [],
   "source": []
  }
 ],
 "metadata": {
  "kernelspec": {
   "display_name": "Python 3",
   "language": "python",
   "name": "python3"
  },
  "language_info": {
   "codemirror_mode": {
    "name": "ipython",
    "version": 3
   },
   "file_extension": ".py",
   "mimetype": "text/x-python",
   "name": "python",
   "nbconvert_exporter": "python",
   "pygments_lexer": "ipython3",
   "version": "3.8.5"
  }
 },
 "nbformat": 4,
 "nbformat_minor": 2
}
