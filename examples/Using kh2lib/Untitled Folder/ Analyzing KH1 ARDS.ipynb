{
 "cells": [
  {
   "cell_type": "code",
   "execution_count": 15,
   "metadata": {},
   "outputs": [
    {
     "data": {
      "text/plain": [
       "bytearray(b' \\x00\\x00\\x00\\x00\\x01\\x00\\x00\\x80\\xdc\\x00\\x00\\x00\\xfc\\x00\\x00\\x80\\xfc\\x00\\x00\\x80\\xfc\\x00\\x00\\x80\\xfc\\x00\\x00\\x80\\x00\\x01\\x00\\x80#\\x02\\x00\\x00&\\x02\\x00\\x80(\\x02\\x00\\x80K\\x03\\x00\\x00N\\x03\\x00\\x00Z\\x03\\x00\\x80\\\\\\x03\\x00\\x00_\\x03\\x00\\x80a\\x03\\x00\\x00d\\x03\\x00\\x80f\\x03\\x00\\x00i\\x03\\x00\\x00p\\x03\\x00\\x80r\\x03\\x00\\x00u\\x03\\x00\\x80w\\x03\\x00\\x00z\\x03\\x00\\x80|\\x03\\x00\\x00\\x7f\\x03\\x00\\x80\\x81\\x03\\x00\\x00\\x84\\x03\\x00\\x80\\x86\\x03\\x00\\x00\\x89\\x03\\x00\\x80\\x8b\\x03\\x00\\x80\\x97\\x03\\x00\\x80\\xab\\x03\\x00\\x00\\x00\\x00\\x00\\x00\\x00\\x00\\x00\\x00\\x00\\x00\\x00\\x00\\x00\\x00\\x00\\x00\\x00\\x00\\x00\\x00\\x00\\x00\\x00\\x00\\x00\\x00\\x00\\x00\\x00\\x00\\x00\\x00\\x00\\x00\\x00\\x00\\x00\\x00\\x00\\x00\\x00\\x00\\x00\\x00\\x00\\x00\\x00\\x00\\x00\\x00\\x00\\x00\\x00\\x00\\x00\\x00\\x00\\x00\\x00\\x00\\x00\\x00\\x00\\x00\\x00\\x00\\x00\\x00\\x00\\x00\\x00\\x00\\x00\\x00\\x00\\x00\\x00\\x00\\x00\\x00\\x00\\x00\\x00\\x00\\x00\\x00\\x00\\x00\\x00\\x00\\x00\\x00\\x00\\x00\\x00\\x00\\x00\\x00\\x00\\x00\\x00\\x00\\x00\\x00\\x00\\x00\\x00\\x00\\x00\\x00\\x00\\x00\\x00\\x00\\x00\\x00\\x00\\x00\\x00\\x02\\x00\\x00\\x00\\x80\\x00\\x00\\x00\\x00\\x01\\x00\\x00\\x80\\xdb\\x00\\x00\\x00\\x00\\x00\\x00\\x00\\x00\\x00\\x00\\x00\\x00\\x00\\x00\\x00\\x00\\x00\\x00\\x00\\x00\\x00\\x00\\x00\\x00\\x00\\x00\\x00\\x00\\x00\\x00')"
      ]
     },
     "execution_count": 15,
     "metadata": {},
     "output_type": "execute_result"
    }
   ],
   "source": [
    "SUBFILE_HEADERS = {\n",
    "    'MOBJ': b'MOBJ',\n",
    "    'CLS': b'CLS',\n",
    "    'ZN': b'ZN',\n",
    "    'DEOD': b'DEOD',\n",
    "    'KGR': b'KGR',\n",
    "    'spawn': '\\x00\\x00\\x00\\x00\\x00\\x03\\x00\\x28\\x1C\\x00\\x00\\x00\\x00\\x00\\x00'\n",
    "}\n",
    "\n",
    "# First create the kh2lib object\n",
    "from kh2lib.kh2lib import kh2lib\n",
    "import os, json\n",
    "lib = kh2lib(game=\"kh1\")\n",
    "if not os.path.isdir(\"workspace\"):\n",
    "    os.mkdir(\"workspace\")\n",
    "    \n",
    "ard = os.path.join(lib.gamedir, \"dh05.ard\") \n",
    "\n",
    "data = bytearray(open(ard, \"rb\").read())\n",
    "data[:300]"
   ]
  },
  {
   "cell_type": "code",
   "execution_count": 17,
   "metadata": {},
   "outputs": [
    {
     "ename": "TypeError",
     "evalue": "a bytes-like object is required, not 'str'",
     "output_type": "error",
     "traceback": [
      "\u001b[1;31m---------------------------------------------------------------------------\u001b[0m",
      "\u001b[1;31mTypeError\u001b[0m                                 Traceback (most recent call last)",
      "\u001b[1;32m<ipython-input-17-be26efea828a>\u001b[0m in \u001b[0;36m<module>\u001b[1;34m\u001b[0m\n\u001b[1;32m----> 1\u001b[1;33m \u001b[1;34m'\\x00\\x00\\x00\\x00\\x00\\x03\\x00\\x28\\x1C\\x00\\x00\\x00\\x00\\x00\\x00'\u001b[0m \u001b[1;32min\u001b[0m \u001b[0mdata\u001b[0m\u001b[1;33m\u001b[0m\u001b[1;33m\u001b[0m\u001b[0m\n\u001b[0m",
      "\u001b[1;31mTypeError\u001b[0m: a bytes-like object is required, not 'str'"
     ]
    }
   ],
   "source": [
    "'\\x00\\x00\\x00\\x00\\x00\\x03\\x00\\x28\\x1C\\x00\\x00\\x00\\x00\\x00\\x00' in data"
   ]
  },
  {
   "cell_type": "code",
   "execution_count": 2,
   "metadata": {},
   "outputs": [
    {
     "data": {
      "text/plain": [
       "'C:\\\\Users\\\\12sam\\\\Desktop\\\\KH_Games\\\\KH1\\\\export\\\\KINGDOM'"
      ]
     },
     "execution_count": 2,
     "metadata": {},
     "output_type": "execute_result"
    }
   ],
   "source": [
    "import os\n",
    "os.path.join(os.environ['USE_KH2_KH1_GITPATH']"
   ]
  },
  {
   "cell_type": "code",
   "execution_count": 18,
   "metadata": {},
   "outputs": [
    {
     "name": "stdout",
     "output_type": "stream",
     "text": [
      "(b'KH1FM_Toolkit\\nBuild Date: 9/1/2018 12:21:34 PM\\nVersion 1.0.0.0\\nPUBLIC RELEASE\\n\\nProgrammed by GovanifY\\nhttp://www.govanify.blogspot.fr\\nhttp://www.govanify.x10host.com\\n\\nThis tool is able to create patches for the software KH1FM_Toolkit.\\nIt can add files using the internal compression of the game \\nKingdom Hearts 1(Final Mix), relink files to others, recreate\\nthe iso without size limits and without corruption.\\nThis patch system is the best ever made for this game atm.\\n\\nPress enter to run using the file: patch.kh2patch.kh1patchOther information (leave blank to continue): \\nEnter filename:   Using \"dh05.ard\" for 00392764\\r\\nRelink to this filename(ex: al00_07.img) [Blank for none]: Compress this file? [Y/n] Parent compressed file [Leave blank for KINGDOM]:   Using \"KINGDOM\" for 00000000\\r\\nShould this file be added if he\\'s not in the game? [y/N] \\nEnter filename: Compressing dh05.ard:   Compressed to 43% of the original size!\\r\\nPress enter to exit...', None)\n",
      "patch created\n",
      "patching the game\n",
      "all done\n"
     ]
    }
   ],
   "source": [
    "## Null out a series of files\n",
    "\n",
    "from kh2lib.kh2lib import kh2lib\n",
    "import os\n",
    "if not os.path.isdir(\"workspace\"):\n",
    "    os.mkdir(\"workspace\")\n",
    "    \n",
    "lib = kh2lib(game=\"kh1\")\n",
    "\n",
    "\n",
    "lib.patch_game(fromgit=True)"
   ]
  },
  {
   "cell_type": "code",
   "execution_count": 8,
   "metadata": {},
   "outputs": [
    {
     "name": "stdout",
     "output_type": "stream",
     "text": [
      "Git repository has been reset\n"
     ]
    }
   ],
   "source": [
    "lib.reset_git()"
   ]
  },
  {
   "cell_type": "code",
   "execution_count": null,
   "metadata": {},
   "outputs": [],
   "source": []
  }
 ],
 "metadata": {
  "kernelspec": {
   "display_name": "Python 3",
   "language": "python",
   "name": "python3"
  },
  "language_info": {
   "codemirror_mode": {
    "name": "ipython",
    "version": 3
   },
   "file_extension": ".py",
   "mimetype": "text/x-python",
   "name": "python",
   "nbconvert_exporter": "python",
   "pygments_lexer": "ipython3",
   "version": "3.7.4"
  }
 },
 "nbformat": 4,
 "nbformat_minor": 2
}
