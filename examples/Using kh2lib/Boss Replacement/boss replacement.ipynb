{
 "cells": [
  {
   "cell_type": "code",
   "execution_count": 3,
   "metadata": {},
   "outputs": [],
   "source": [
    "# Boss Replacement script mostly for testing purposes\n",
    "def perform_boss_replacement(old,new,change_location=False,replacemsn=True,msn=None):\n",
    "    # An old version of kh2lib had a way to generate codes that changed your location when holding R2 and loading\n",
    "    from oldkh2lib import CodeGen\n",
    "    from kh2lib.kh2lib import kh2lib\n",
    "    import shutil,time,os\n",
    "\n",
    "    start = time.time()\n",
    "\n",
    "    lib = kh2lib()\n",
    "    cg = CodeGen(out_fn=lib.cheatengine.outfn, change_location_code=True)\n",
    "\n",
    "    cg.change_location_code = change_location\n",
    "    replaceMSN = replacemsn\n",
    "\n",
    "    OLD_BOSS = old\n",
    "    NEW_BOSS = new\n",
    "\n",
    "    # if empty then go get the msn of the new boss, otherwise force this one\n",
    "    NEW_MSN_NAME = msn\n",
    "\n",
    "    # Apply infinite HP code to not worry about being bad\n",
    "    cg.apply_inf_hp()\n",
    "    \n",
    "    cg.change_location_code = change_location\n",
    "    cg.replace_boss(OLD_BOSS, NEW_BOSS)\n",
    "\n",
    "    cg.write_pnach(debug=False)\n",
    "\n",
    "    table = list(cg.pnach)\n",
    "\n",
    "    # Any extra codes to apply, if you are testing something\n",
    "    CODES = \"\"\"\"\"\".upper()\n",
    "    # Fix the offset cause remembering to do it manually is annoying\n",
    "    CODES = CODES.replace(\"\\n0\",\"\\n2\")\n",
    "    cg.pnach = list(table)\n",
    "    cg.apply_ram_codes(CODES)\n",
    "    cg.write_pnach(debug=False)\n",
    "\n",
    "    if replaceMSN:\n",
    "        if not NEW_MSN_NAME:\n",
    "            NEW_MSN_NAME = cg.table[NEW_BOSS][\"msn\"]\n",
    "        print(\"\\tusing {}\".format(NEW_MSN_NAME))\n",
    "        OLD_MSN_NAME = cg.table[OLD_BOSS][\"msn\"]\n",
    "\n",
    "        lib.reset_git()\n",
    "\n",
    "        old_msn_fn = os.path.join(os.environ[\"USE_KH2_GITPATH\"], \"KH2\", \"msn\", \"jp\", OLD_MSN_NAME.lower()+\".bar\")\n",
    "        new_msn_fn = os.path.join(os.environ[\"USE_KH2_GITPATH\"], \"KH2\", \"msn\", \"jp\", NEW_MSN_NAME.lower()+\".bar\")\n",
    "\n",
    "        shutil.copy(new_msn_fn, old_msn_fn)\n",
    "\n",
    "        lib.patch_game(fromgit=True)\n",
    "        print(\"Mission Complete\")\n",
    "\n",
    "    print(\"took {}s\".format(time.time()-start))"
   ]
  },
  {
   "cell_type": "code",
   "execution_count": 4,
   "metadata": {},
   "outputs": [
    {
     "name": "stdout",
     "output_type": "stream",
     "text": [
      "Replacing Roxas (Boss) with Xemnas (Normal) (Boss)\n",
      "Hold R2 During transition to spawn at Roxas (Boss) fight in The World That Never Was\n",
      "\tusing SHIP_BATTLE\n",
      "b'HEAD is now at 02ef7796 nop[\\n'\n",
      "Git repository has been reset\n",
      "b' M KH2/msn/jp/EH21_MS101.bar\\n'\n",
      "(b'KH2FM_Toolkit\\nVersion PRE-3.0\\nDEVELOPER RELEASE\\n\\nProgrammed by GovanifY\\nhttp://www.govanify.com\\nhttp://www.twitter.com/GovanifY\\nSoftware under GPL 2 license, for more info, use the command -license\\n\\nThis tool is able to create patches for the software KH2FM_Toolkit.\\nIt can add files using the internal compression of the game \\nKingdom Hearts 2(Final Mix), relink files to others, recreate\\nthe iso without size limits and without corruption.\\nThis patch system is the best ever made for this game atm.\\n\\nPress enter to run using the file: patch.kh2patchOther information (leave blank to continue): Filenames may be formatted as text (msg/jp/lk.bar) or hash (0x030b45da).\\r\\n\\nEnter filename:   Using \"msn/jp/EH21_MS101.bar\" for A460EA80\\r\\nRelink to this filename(ex: 000al.idx) [Blank for none]: Compress this file? [Y/n] Parent compressed file [Leave blank for KH2]:   Using \"KH2\" for 00000000\\r\\nShould this file be added if he\\'s not in the game? [y/N] \\nEnter filename: Compressing EH21_MS101.bar:   Compressed to 50% of the original size!\\r\\nPatch created.\\r\\n', None)\n",
      "patch created\n",
      "patching the game\n",
      "all done\n",
      "Mission Complete\n",
      "took 15.765782117843628s\n"
     ]
    }
   ],
   "source": [
    "# These numbers refer to the line number of The bosstable.csv (including the header line)\n",
    "OLD_BOSS=9 # Roxas (Normal)\n",
    "NEW_BOSS=66 # Xemnas 1 (Normal)\n",
    "msn=\"SHIP_BATTLE\" # Just a random MSN to see what happens\n",
    "# If replacemsn=True then a patched ROM will be generated, otherwise it's just a pnach generator\n",
    "perform_boss_replacement(OLD_BOSS, NEW_BOSS, change_location=True, replacemsn=True, msn=msn)"
   ]
  }
 ],
 "metadata": {
  "kernelspec": {
   "display_name": "Python 3",
   "language": "python",
   "name": "python3"
  },
  "language_info": {
   "codemirror_mode": {
    "name": "ipython",
    "version": 3
   },
   "file_extension": ".py",
   "mimetype": "text/x-python",
   "name": "python",
   "nbconvert_exporter": "python",
   "pygments_lexer": "ipython3",
   "version": "3.7.4"
  }
 },
 "nbformat": 4,
 "nbformat_minor": 2
}
