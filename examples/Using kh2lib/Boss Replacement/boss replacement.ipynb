{
 "cells": [
  {
   "cell_type": "code",
   "execution_count": 1,
   "metadata": {},
   "outputs": [],
   "source": [
    "# Boss Replacement script mostly for testing purposes\n",
    "def perform_boss_replacement(old,new,change_location=False,replacemsn=True,msn=None):\n",
    "    # An old version of kh2lib had a way to generate codes that changed your location when holding R2 and loading\n",
    "    from oldkh2lib import CodeGen\n",
    "    from kh2lib.kh2lib import kh2lib\n",
    "    import shutil,time,os\n",
    "\n",
    "    start = time.time()\n",
    "\n",
    "    lib = kh2lib()\n",
    "    cg = CodeGen(out_fn=lib.cheatengine.outfn, change_location_code=True)\n",
    "\n",
    "    cg.change_location_code = change_location\n",
    "    replaceMSN = replacemsn\n",
    "\n",
    "    OLD_BOSS = old\n",
    "    NEW_BOSS = new\n",
    "\n",
    "    # if empty then go get the msn of the new boss, otherwise force this one\n",
    "    NEW_MSN_NAME = msn\n",
    "\n",
    "    # Apply infinite HP code to not worry about being bad\n",
    "    cg.apply_inf_hp()\n",
    "    \n",
    "    cg.change_location_code = change_location\n",
    "    cg.replace_boss(OLD_BOSS, NEW_BOSS)\n",
    "\n",
    "    cg.write_pnach(debug=False)\n",
    "\n",
    "    table = list(cg.pnach)\n",
    "\n",
    "    # Any extra codes to apply, if you are testing something\n",
    "    CODES = \"\"\"\"\"\".upper()\n",
    "    # Fix the offset cause remembering to do it manually is annoying\n",
    "    CODES = CODES.replace(\"\\n0\",\"\\n2\")\n",
    "    cg.pnach = list(table)\n",
    "    cg.apply_ram_codes(CODES)\n",
    "    cg.write_pnach(debug=False)\n",
    "\n",
    "    if replaceMSN:\n",
    "        if not NEW_MSN_NAME:\n",
    "            NEW_MSN_NAME = cg.table[NEW_BOSS][\"msn\"]\n",
    "        print(\"\\tusing {}\".format(NEW_MSN_NAME))\n",
    "        OLD_MSN_NAME = cg.table[OLD_BOSS][\"msn\"]\n",
    "\n",
    "        lib.reset_git()\n",
    "\n",
    "        old_msn_fn = os.path.join(os.environ[\"USE_KH2_GITPATH\"], \"KH2\", \"msn\", \"jp\", OLD_MSN_NAME.lower()+\".bar\")\n",
    "        new_msn_fn = os.path.join(os.environ[\"USE_KH2_GITPATH\"], \"KH2\", \"msn\", \"jp\", NEW_MSN_NAME.lower()+\".bar\")\n",
    "\n",
    "        shutil.copy(new_msn_fn, old_msn_fn)\n",
    "\n",
    "        lib.patch_game(fromgit=True)\n",
    "        print(\"Mission Complete\")\n",
    "\n",
    "    print(\"took {}s\".format(time.time()-start))"
   ]
  },
  {
   "cell_type": "code",
   "execution_count": 3,
   "metadata": {},
   "outputs": [
    {
     "name": "stdout",
     "output_type": "stream",
     "text": [
      "Replacing Pete (Past) (Boss) with Barbossa (Boss)\n",
      "took 0.008002996444702148s\n"
     ]
    }
   ],
   "source": [
    "# These numbers refer to the line number of The bosstable.csv (including the header line)\n",
    "OLD_BOSS=53 # Roxas (Normal)\n",
    "NEW_BOSS=84 # Xemnas 1 (Normal)\n",
    "msn=\"SHIP_BATTLE\" # Just a random MSN to see what happens\n",
    "# If replacemsn=True then a patched ROM will be generated, otherwise it's just a pnach generator\n",
    "perform_boss_replacement(OLD_BOSS, NEW_BOSS, change_location=False, replacemsn=False, msn=msn)"
   ]
  },
  {
   "cell_type": "code",
   "execution_count": null,
   "metadata": {},
   "outputs": [],
   "source": []
  }
 ],
 "metadata": {
  "kernelspec": {
   "display_name": "Python 3",
   "language": "python",
   "name": "python3"
  },
  "language_info": {
   "codemirror_mode": {
    "name": "ipython",
    "version": 3
   },
   "file_extension": ".py",
   "mimetype": "text/x-python",
   "name": "python",
   "nbconvert_exporter": "python",
   "pygments_lexer": "ipython3",
   "version": "3.7.4"
  }
 },
 "nbformat": 4,
 "nbformat_minor": 2
}
