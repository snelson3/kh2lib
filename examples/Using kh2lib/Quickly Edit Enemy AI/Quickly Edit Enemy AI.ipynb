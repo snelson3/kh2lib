{
 "cells": [
  {
   "cell_type": "code",
   "execution_count": null,
   "metadata": {},
   "outputs": [],
   "source": [
    "## In this example we will be changing Xemnas 1's AI so that he is beatable outside of his own arena\n",
    "\n",
    "## It requires the following Environment Variables set \n",
    " # USE_KH2_EDITORENGINE - Path to openkh\n",
    " # USE_KH2_GITPATH - Path to extracted KH2 ISO\n",
    " # USE_KH2_OUTPATH - Path that pnach files should be written to (should be cheats folder of PCSX2)"
   ]
  },
  {
   "cell_type": "code",
   "execution_count": 1,
   "metadata": {},
   "outputs": [],
   "source": [
    "# First create the kh2lib object\n",
    "from kh2lib.kh2lib import kh2lib\n",
    "import os, json\n",
    "lib = kh2lib()\n",
    "if not os.path.isdir(\"workspace\"):\n",
    "    os.mkdir(\"workspace\")"
   ]
  },
  {
   "cell_type": "code",
   "execution_count": 2,
   "metadata": {},
   "outputs": [
    {
     "data": {
      "text/plain": [
       "[{'ucm': '085C', 'mdlx': 'B_EX260', 'name': 'Armor Xemnas'},\n",
       " {'ucm': '09CA', 'mdlx': 'B_EX170_LAST_LV99', 'name': 'Data Final Xemnas'},\n",
       " {'ucm': '09C9', 'mdlx': 'B_EX170_LV99', 'name': 'Data Xemnas'},\n",
       " {'ucm': '088D', 'mdlx': 'B_EX330', 'name': 'Dragon Xemnas'},\n",
       " {'ucm': '081F', 'mdlx': 'B_EX170_LAST', 'name': 'Final Xemnas'},\n",
       " {'ucm': '0646', 'mdlx': 'B_EX170', 'name': 'Xemnas'}]"
      ]
     },
     "execution_count": 2,
     "metadata": {},
     "output_type": "execute_result"
    }
   ],
   "source": [
    "# Now we need to lookup the filename for xemnas's mdlx object (where the AI file is kept)\n",
    "# This method will return information on all the different Xemnas's, so make sure to locate the correct one\n",
    "lib.get_object(name=\"xemnas\")"
   ]
  },
  {
   "cell_type": "code",
   "execution_count": 3,
   "metadata": {},
   "outputs": [],
   "source": [
    "# Now we extract the xemnas BAR into a folder in our workspace\n",
    "MDLX = \"B_EX170.mdlx\"\n",
    "BAR = os.path.join(lib.gitpath, \"KH2\", \"obj\", MDLX)\n",
    "assert os.path.isfile(BAR)\n",
    "lib.editengine.bar_extract(BAR, os.path.join(os.getcwd(), \"workspace\",\"xemnas\"))"
   ]
  },
  {
   "cell_type": "code",
   "execution_count": 4,
   "metadata": {},
   "outputs": [],
   "source": [
    "# Open the workspace in a window and copy the b_ex.ai to have an unmodified copy to diff against\n",
    "# Then open the b_ex.ai in a hex editor and make the following changes to the bottom of the file\n",
    "# Find the header definition for these two functions, and replace them with 00s\n",
    "#  warp_building_front\n",
    "#  rc_invitation_to_dark\n",
    "# Alternatively, just edit a decompiled version of this AI file in Ghidra (using Govanify's KH2 plugin)\n",
    "base_file = os.path.join(\"workspace\", \"xemnas\", \"b_ex.ai.base\")\n",
    "mod_file = os.path.join(\"workspace\", \"xemnas\", \"b_ex.ai\")"
   ]
  },
  {
   "cell_type": "code",
   "execution_count": 5,
   "metadata": {},
   "outputs": [],
   "source": [
    "# Code to Roxas With Xemnas, and create the pnach file\n",
    "lib.cheatengine.apply_ram_code([\"11C4F008 00000646\"])\n",
    "lib.cheatengine.write_pnach()"
   ]
  },
  {
   "cell_type": "code",
   "execution_count": 6,
   "metadata": {},
   "outputs": [],
   "source": [
    "# go to the roxas fight, and create a memdump using emuhaste\n",
    "#  it is recommended to make a savestate in the cutscene before the fight loads, for ease of testing\n",
    "# Place the memdump in the workspace folder, using whatever name you choose\n",
    "dumpname = \"xemnas_as_roxas.dump\"\n",
    "subdata = lib.parsingengine.load_memdump(os.path.join(\"workspace\", dumpname))"
   ]
  },
  {
   "cell_type": "code",
   "execution_count": 7,
   "metadata": {},
   "outputs": [
    {
     "data": {
      "text/plain": [
       "'0xc5e97c'"
      ]
     },
     "execution_count": 7,
     "metadata": {},
     "output_type": "execute_result"
    }
   ],
   "source": [
    "# This method will look through the memdump to try and find where the ai file is located. \n",
    "# If you already know the offset where the file starts, this is uneccessary \n",
    "starting_offset = int(lib.parsingengine.locate_file(base_file),16)\n",
    "hex(starting_offset)"
   ]
  },
  {
   "cell_type": "code",
   "execution_count": 8,
   "metadata": {},
   "outputs": [
    {
     "data": {
      "text/plain": [
       "['20c62f60 00000072',\n",
       " '20c62f64 00000000',\n",
       " '20c62f68 00000000',\n",
       " '20c62f6c 00000000',\n",
       " '20c62f70 00000000',\n",
       " '20c62f74 74610000',\n",
       " '20c6302c 00000000',\n",
       " '20c63030 00000000',\n",
       " '20c63034 00000000',\n",
       " '20c63038 00000000',\n",
       " '20c6303c 00000000',\n",
       " '20c63040 74620000']"
      ]
     },
     "execution_count": 8,
     "metadata": {},
     "output_type": "execute_result"
    }
   ],
   "source": [
    "# This code will diff the two versions of the ai file and create codes to make those same changes via RAM\n",
    "codes = lib.parsingengine.generate_codes(str(starting_offset), base_file, mod_file)\n",
    "# The memdump skips the first section of memory addresses so the code offsets need to be fixed\n",
    "codes = [code[1].replace(\"0\",\"2\") + code[1:] for code in codes]\n",
    "codes"
   ]
  },
  {
   "cell_type": "code",
   "execution_count": 9,
   "metadata": {},
   "outputs": [
    {
     "name": "stdout",
     "output_type": "stream",
     "text": [
      "patch=1,EE,11C4F008,extended,00000646\n",
      "\n",
      "patch=1,EE,20C62F60,extended,00000072\n",
      "\n",
      "patch=1,EE,20C62F64,extended,00000000\n",
      "\n",
      "patch=1,EE,20C62F68,extended,00000000\n",
      "\n",
      "patch=1,EE,20C62F6C,extended,00000000\n",
      "\n",
      "patch=1,EE,20C62F70,extended,00000000\n",
      "\n",
      "patch=1,EE,20C62F74,extended,74610000\n",
      "\n",
      "patch=1,EE,20C6302C,extended,00000000\n",
      "\n",
      "patch=1,EE,20C63030,extended,00000000\n",
      "\n",
      "patch=1,EE,20C63034,extended,00000000\n",
      "\n",
      "patch=1,EE,20C63038,extended,00000000\n",
      "\n",
      "patch=1,EE,20C6303C,extended,00000000\n",
      "\n",
      "patch=1,EE,20C63040,extended,74620000\n",
      "\n"
     ]
    }
   ],
   "source": [
    "# Now we add the codes into the pnach portion of kh2lib, and generate a pnach file in your pcsx 2 directory\n",
    "# Then just load your savestate, skip cutscene and start the fight\n",
    "lib.cheatengine.apply_ram_code(codes)\n",
    "lib.cheatengine.write_pnach(debug=True)"
   ]
  },
  {
   "cell_type": "code",
   "execution_count": null,
   "metadata": {},
   "outputs": [],
   "source": []
  }
 ],
 "metadata": {
  "kernelspec": {
   "display_name": "Python 3",
   "language": "python",
   "name": "python3"
  },
  "language_info": {
   "codemirror_mode": {
    "name": "ipython",
    "version": 3
   },
   "file_extension": ".py",
   "mimetype": "text/x-python",
   "name": "python",
   "nbconvert_exporter": "python",
   "pygments_lexer": "ipython3",
   "version": "3.7.4"
  }
 },
 "nbformat": 4,
 "nbformat_minor": 2
}
