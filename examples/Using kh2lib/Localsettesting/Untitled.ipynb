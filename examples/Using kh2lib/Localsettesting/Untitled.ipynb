{
 "cells": [
  {
   "cell_type": "code",
   "execution_count": 29,
   "metadata": {},
   "outputs": [
    {
     "name": "stdout",
     "output_type": "stream",
     "text": [
      "['unpack', '-o', 'C:\\\\Users\\\\12sam\\\\Documents\\\\GitHub\\\\kh2lib\\\\examples\\\\Using kh2lib\\\\Localsettesting\\\\tempard', 'C:\\\\Users\\\\12sam\\\\Desktop\\\\KH_Games\\\\KH2\\\\ISO\\\\export\\\\KH2\\\\ard\\\\tt01.ard']\n",
      "(None, None)\n",
      "['compile', '-o', 'C:\\\\Users\\\\12sam\\\\Documents\\\\GitHub\\\\kh2lib\\\\examples\\\\Using kh2lib\\\\Localsettesting\\\\tempard\\\\evt.script', 'C:\\\\Users\\\\12sam\\\\Documents\\\\GitHub\\\\kh2lib\\\\examples\\\\Using kh2lib\\\\Localsettesting\\\\tempard\\\\spawnscript']\n",
      "(None, None)\n",
      "['pack', '-o', 'C:\\\\Users\\\\12sam\\\\Desktop\\\\KH_Games\\\\KH2\\\\ISO\\\\export\\\\KH2\\\\ard\\\\tt01.ard', 'C:\\\\Users\\\\12sam\\\\Documents\\\\GitHub\\\\kh2lib\\\\examples\\\\Using kh2lib\\\\Localsettesting\\\\tempard\\\\tt01.ard.json']\n",
      "(None, None)\n"
     ]
    }
   ],
   "source": [
    "# First create the kh2lib object\n",
    "from kh2lib.kh2lib import kh2lib\n",
    "import os, json\n",
    "lib = kh2lib()\n",
    "if not os.path.isdir(\"workspace\"):\n",
    "    os.mkdir(\"workspace\")\n",
    "\n",
    "lib.spawn_in(\"HB\", \"1\", localset=\"0\", entrance=\"0\", jumptype=\"1\", fadetype=\"1\")"
   ]
  },
  {
   "cell_type": "code",
   "execution_count": null,
   "metadata": {},
   "outputs": [],
   "source": [
    "localsetpth = os.path.join(lib.gamedir, \"KH2\", \"07localset.bin\")"
   ]
  },
  {
   "cell_type": "code",
   "execution_count": null,
   "metadata": {},
   "outputs": [],
   "source": [
    "lib.openkh.bar_extract(localsetpth, os.path.join(os.getcwd(), \"workspace\"))"
   ]
  },
  {
   "cell_type": "code",
   "execution_count": null,
   "metadata": {},
   "outputs": [],
   "source": [
    "In order, each entry represents a world. For instance, the second loca is Twilight Town's local set. \n",
    "When you extract it, There will be a bunch of data\n",
    ". Each 2 bytes you have the Spawnscript Program ID\n",
    "For each set you have 6 bytes, representing MAP, BTL and EVT Program IDs. When the game wants to use a set from the localset, it can specify the localset index for that world. Just multiply that index by 6 to locate it inside the loca entry.\n"
   ]
  },
  {
   "cell_type": "code",
   "execution_count": 26,
   "metadata": {},
   "outputs": [
    {
     "name": "stdout",
     "output_type": "stream",
     "text": [
      "['unpack', '-o', 'C:\\\\Users\\\\12sam\\\\Documents\\\\GitHub\\\\kh2lib\\\\examples\\\\Using kh2lib\\\\Localsettesting\\\\workspace\\\\bb03', 'C:\\\\Users\\\\12sam\\\\Desktop\\\\KH_Games\\\\KH2\\\\ISO\\\\export\\\\KH2\\\\ard\\\\bb03.ard']\n",
      "(None, None)\n"
     ]
    }
   ],
   "source": [
    "lib.openkh.bar_extract(os.path.join(lib.gamedir, \"KH2\", \"ard\", \"bb03.ard\"), os.path.join(os.getcwd(), \"workspace\", \"bb03\"))"
   ]
  },
  {
   "cell_type": "code",
   "execution_count": 27,
   "metadata": {},
   "outputs": [
    {
     "name": "stdout",
     "output_type": "stream",
     "text": [
      "['unpoint', '-o', 'C:\\\\Users\\\\12sam\\\\Documents\\\\GitHub\\\\kh2lib\\\\examples\\\\Using kh2lib\\\\Localsettesting\\\\workspace\\\\bb03\\\\b_40.spawn.yaml', 'C:\\\\Users\\\\12sam\\\\Documents\\\\GitHub\\\\kh2lib\\\\examples\\\\Using kh2lib\\\\Localsettesting\\\\workspace\\\\bb03\\\\b_40.spawn']\n",
      "(None, None)\n"
     ]
    }
   ],
   "source": [
    "lib.openkh.spawnpoint_extract(os.path.join(os.getcwd(), \"workspace\", \"bb03\", \"b_40.spawn\"), os.path.join(os.getcwd(),\"workspace\",\"bb03\",\"b_40.spawn.yaml\"))"
   ]
  },
  {
   "cell_type": "code",
   "execution_count": 28,
   "metadata": {},
   "outputs": [
    {
     "name": "stdout",
     "output_type": "stream",
     "text": [
      "['unpack', '-o', 'C:\\\\Users\\\\12sam\\\\Documents\\\\GitHub\\\\kh2lib\\\\examples\\\\Using kh2lib\\\\Localsettesting\\\\workspace', 'C:\\\\Users\\\\12sam\\\\Desktop\\\\KH_Games\\\\KH2\\\\ISO\\\\export\\\\KH2\\\\00battle.bin']\n",
      "(None, None)\n"
     ]
    }
   ],
   "source": [
    "lib.openkh.bar_extract(os.path.join(lib.gamedir, \"KH2\", \"00battle.bin\"), os.path.join(os.getcwd(), \"workspace\"))"
   ]
  },
  {
   "cell_type": "code",
   "execution_count": null,
   "metadata": {},
   "outputs": [],
   "source": []
  }
 ],
 "metadata": {
  "kernelspec": {
   "display_name": "Python 3",
   "language": "python",
   "name": "python3"
  },
  "language_info": {
   "codemirror_mode": {
    "name": "ipython",
    "version": 3
   },
   "file_extension": ".py",
   "mimetype": "text/x-python",
   "name": "python",
   "nbconvert_exporter": "python",
   "pygments_lexer": "ipython3",
   "version": "3.8.5"
  }
 },
 "nbformat": 4,
 "nbformat_minor": 2
}
