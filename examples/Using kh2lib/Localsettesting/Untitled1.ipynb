{
 "cells": [
  {
   "cell_type": "code",
   "execution_count": 12,
   "metadata": {},
   "outputs": [],
   "source": [
    "# First create the kh2lib object\n",
    "from kh2lib.kh2lib import kh2lib\n",
    "import os, json, yaml\n",
    "lib = kh2lib()\n",
    "if not os.path.isdir(\"workspace\"):\n",
    "    os.mkdir(\"workspace\")\n"
   ]
  },
  {
   "cell_type": "code",
   "execution_count": 8,
   "metadata": {},
   "outputs": [],
   "source": [
    "spawndir = os.path.join(lib.gamedir,\"subfiles\", \"spawn\",\"ard\")"
   ]
  },
  {
   "cell_type": "code",
   "execution_count": 16,
   "metadata": {},
   "outputs": [
    {
     "name": "stderr",
     "output_type": "stream",
     "text": [
      "<ipython-input-16-b9d5ae5b1fb8>:5: YAMLLoadWarning: calling yaml.load() without Loader=... is deprecated, as the default Loader is unsafe. Please read https://msg.pyyaml.org/load for full details.\n",
      "  s = yaml.load(open(os.path.join(spawndir,ard,spawn)))\n"
     ]
    },
    {
     "data": {
      "text/plain": [
       "26346"
      ]
     },
     "execution_count": 16,
     "metadata": {},
     "output_type": "execute_result"
    }
   ],
   "source": [
    "lines = []\n",
    "for ard in os.listdir(spawndir):\n",
    "    lines.append(ard)\n",
    "    for spawn in os.listdir(os.path.join(spawndir, ard)):\n",
    "        s = yaml.load(open(os.path.join(spawndir,ard,spawn)))\n",
    "        for x in s:\n",
    "            tele = x[\"Teleport\"]\n",
    "            if tele == {'Place': 0, 'Door': 0, 'World': 0, 'Unknown': 0}:\n",
    "                continue\n",
    "            lines.append(\"\\t{} {} {} {} {}\".format(str(tele[\"Place\"]).zfill(2), str(tele[\"Door\"]).zfill(2), str(tele[\"World\"]).zfill(2), str(tele[\"Unknown\"]).zfill(2), spawn.split(\".\")[0]))\n",
    "open(\"ports\", \"w\").write('\\n'.join(lines))"
   ]
  },
  {
   "cell_type": "code",
   "execution_count": null,
   "metadata": {},
   "outputs": [],
   "source": []
  }
 ],
 "metadata": {
  "kernelspec": {
   "display_name": "Python 3",
   "language": "python",
   "name": "python3"
  },
  "language_info": {
   "codemirror_mode": {
    "name": "ipython",
    "version": 3
   },
   "file_extension": ".py",
   "mimetype": "text/x-python",
   "name": "python",
   "nbconvert_exporter": "python",
   "pygments_lexer": "ipython3",
   "version": "3.8.5"
  }
 },
 "nbformat": 4,
 "nbformat_minor": 4
}
