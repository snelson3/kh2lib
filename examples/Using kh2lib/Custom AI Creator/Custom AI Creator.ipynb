{
 "cells": [
  {
   "cell_type": "code",
   "execution_count": 2,
   "metadata": {},
   "outputs": [],
   "source": [
    "# First create the kh2lib object\n",
    "from kh2lib.kh2lib import kh2lib\n",
    "import os, json\n",
    "lib = kh2lib()\n",
    "if not os.path.isdir(\"workspace\"):\n",
    "    os.mkdir(\"workspace\")"
   ]
  },
  {
   "cell_type": "code",
   "execution_count": 3,
   "metadata": {
    "scrolled": true
   },
   "outputs": [
    {
     "data": {
      "text/plain": [
       "[{'ucm': '09C8', 'mdlx': 'B_EX150_LV99', 'name': 'Data Luxord'},\n",
       " {'ucm': '05F8', 'mdlx': 'B_EX150', 'name': 'Luxord'},\n",
       " {'ucm': '05FF', 'mdlx': 'B_EX210', 'name': \"Luxord's Card\"}]"
      ]
     },
     "execution_count": 3,
     "metadata": {},
     "output_type": "execute_result"
    }
   ],
   "source": [
    "# Now we need to lookup the filename for xemnas's mdlx object (where the AI file is kept)\n",
    "# This method will return information on all the different Xemnas's, so make sure to locate the correct one\n",
    "lib.get_object(name=\"luxord\")"
   ]
  },
  {
   "cell_type": "code",
   "execution_count": 29,
   "metadata": {},
   "outputs": [],
   "source": [
    "# Now we extract the xemnas BAR into a folder in our workspace\n",
    "MDLX = \"B_EX150.mdlx\"\n",
    "BAR = os.path.join(lib.gitpath, \"KH2\", \"obj\", MDLX)\n",
    "assert os.path.isfile(BAR)\n",
    "lib.editengine.bar_extract(BAR, os.path.join(os.getcwd(), \"workspace\",MDLX))"
   ]
  },
  {
   "cell_type": "code",
   "execution_count": 37,
   "metadata": {},
   "outputs": [],
   "source": [
    "syscalls = ''\n",
    "syscalls = {'func_system_set_game_speed': {'tableidx': 1, 'funcidx': 27}, 'trap_mission_failed': {'tableidx': 4,'funcidx': 11}}\n",
    "commands = {\n",
    "    'ret': [0x89, 0x0, 0x0, 0x0],\n",
    "    'push.v': [0x0, 0x0, 0x0, 0x0, 0x0, 0x0],\n",
    "    'syscall': [0x0a, 0x0, 0x0, 0x0]\n",
    "}\n",
    "def get_mod_bytestr(code, debug=False):\n",
    "    bta = list()\n",
    "    commandlist = code.split(\"\\n\")\n",
    "    for command in commandlist:\n",
    "        values = command.split(\" \")\n",
    "        if values[0] == 'ret':\n",
    "            bta += list(commands['ret'])\n",
    "        elif values[0] == 'push.v':\n",
    "            temp = list(commands['push.v'])\n",
    "            if not len(values) == 2:\n",
    "                raise Exception(\"Incorrect number of values for {}\".format(command))\n",
    "            val = int(values[1])\n",
    "            if val > 255:\n",
    "                raise Exception(\"Can't push number more than 255: {}\".format(values[1]))\n",
    "            temp[2] = val\n",
    "            bta += temp\n",
    "        elif values[0] == 'syscall':\n",
    "            if not len(values) == 2:\n",
    "                raise Exception(\"Incorrect number of values for {}\".format(command))\n",
    "            call = values[1]\n",
    "            if not call in syscalls:\n",
    "                raise Exception(\"Syscall name not found: {}\".format(call))\n",
    "            sc = syscalls[call]\n",
    "            ti = sc[\"tableidx\"]\n",
    "            temp = list(commands['syscall'])\n",
    "            temp[0] = temp[0] + ((ti % 4)*(16*4))\n",
    "            temp[1] = ti // 4\n",
    "            temp[2] = sc[\"funcidx\"]\n",
    "            bta += temp\n",
    "        else:\n",
    "            raise Exception(\"Command not recognized: {}\".format(values[0]))\n",
    "    if debug:\n",
    "        print(bta)\n",
    "    return bta\n"
   ]
  },
  {
   "cell_type": "code",
   "execution_count": 23,
   "metadata": {},
   "outputs": [
    {
     "data": {
      "text/plain": [
       "74"
      ]
     },
     "execution_count": 23,
     "metadata": {},
     "output_type": "execute_result"
    }
   ],
   "source": [
    "0x0a + ((1 % 4)*(16*4))"
   ]
  },
  {
   "cell_type": "code",
   "execution_count": 33,
   "metadata": {},
   "outputs": [
    {
     "data": {
      "text/plain": [
       "'workspace\\\\B_EX150.mdlx\\\\b_ex.bdx.bin'"
      ]
     },
     "execution_count": 33,
     "metadata": {},
     "output_type": "execute_result"
    }
   ],
   "source": [
    "import shutil\n",
    "shutil.copy(base_file, mod_file)"
   ]
  },
  {
   "cell_type": "code",
   "execution_count": 43,
   "metadata": {},
   "outputs": [],
   "source": [
    "def write_code(syscall, var1=None, var2=None, var3=None, var4=None, var5=None, debug=False):\n",
    "    code = ''\n",
    "    if var1:\n",
    "        code += 'push.v {}\\n'.format(var1)\n",
    "    if var2:\n",
    "        code += 'push.v {}\\n'.format(var2)\n",
    "    if var3:\n",
    "        code += 'push.v {}\\n'.format(var3)\n",
    "    if var4:\n",
    "        code += 'push.v {}\\n'.format(var4)\n",
    "    if var5:\n",
    "        code += 'push.v {}\\n'.format(var5)\n",
    "    code += 'syscall {}\\n'.format(syscall)\n",
    "    code += 'ret'\n",
    "    if debug:\n",
    "        print(code)\n",
    "    return code.strip()"
   ]
  },
  {
   "cell_type": "code",
   "execution_count": 48,
   "metadata": {},
   "outputs": [
    {
     "name": "stdout",
     "output_type": "stream",
     "text": [
      "push.v 15\n",
      "syscall func_system_set_game_speed\n",
      "ret\n",
      "010f20b4 00000089\n",
      "010f20b8 0000000f\n",
      "010f20bc 001b004a\n",
      "010f20c0 00000089\n",
      "['010f20b4 00000089', '010f20b8 0000000f', '010f20bc 001b004a', '010f20c0 00000089']\n",
      "patch=1,EE,110F20B4,extended,00000089\n",
      "\n",
      "patch=1,EE,110F20B8,extended,0000000F\n",
      "\n",
      "patch=1,EE,110F20BC,extended,001B004A\n",
      "\n",
      "patch=1,EE,110F20C0,extended,00000089\n",
      "\n"
     ]
    }
   ],
   "source": [
    "import shutil\n",
    "base_file = os.path.join(\"workspace\", \"B_EX150.mdlx\", \"b_ex.bdx\")\n",
    "mod_file = os.path.join(\"workspace\", \"B_EX150.mdlx\", \"b_ex.bdx.bin\")\n",
    "assert os.path.isfile(base_file)\n",
    "shutil.copy(base_file, mod_file)\n",
    "assert os.path.isfile(mod_file)\n",
    "\n",
    "\n",
    "debug = False\n",
    "codedebug = True\n",
    "OFFSET_FOR_INJECTION = 0x1e5a\n",
    "\n",
    "var1 = 15\n",
    "var2 = None\n",
    "var3 = None\n",
    "var4 = None\n",
    "var5 = None\n",
    "syscall = 'func_system_set_game_speed'\n",
    "\n",
    "mod_str = get_mod_bytestr(write_code(syscall, var1=var1, var2=var2, var3=var3, var4=var4, var5=var5, debug=codedebug), debug=debug)\n",
    "\n",
    "mod_bytes = bytearray(open(mod_file, \"rb\").read())\n",
    "\n",
    "for b in range(len(mod_str)):\n",
    "    bt = mod_str[b]\n",
    "    mod_bytes[OFFSET_FOR_INJECTION + b] = bt\n",
    "\n",
    "open(mod_file, \"wb\").write(mod_bytes)\n",
    "\n",
    "dumpname = \"luxinpete\"\n",
    "subdata = lib.parsingengine.load_memdump(os.path.join(\"workspace\", dumpname))\n",
    "\n",
    "starting_offset = int(lib.parsingengine.locate_file(base_file),16)\n",
    "\n",
    "lib.cheatengine.pnach = []\n",
    "# This code will diff the two versions of the ai file and create codes to make those same changes via RAM\n",
    "codes = lib.parsingengine.generate_codes(str(starting_offset), base_file, mod_file)\n",
    "for code in codes:\n",
    "    print(code)\n",
    "print(codes)\n",
    "# The memdump skips the first section of memory addresses so the code offsets need to be fixed\n",
    "codes = [code[1].replace(\"0\",\"2\") + code[1:] for code in codes]\n",
    "codes\n",
    "# codes = []#DEBUG\n",
    "\n",
    "# Now we add the codes into the pnach portion of kh2lib, and generate a pnach file in your pcsx 2 directory\n",
    "# Then just load your savestate, skip cutscene and start the fight\n",
    "lib.cheatengine.apply_ram_code(codes)\n",
    "lib.cheatengine.write_pnach(debug=True)"
   ]
  },
  {
   "cell_type": "code",
   "execution_count": null,
   "metadata": {},
   "outputs": [],
   "source": [
    "+0x1000"
   ]
  },
  {
   "cell_type": "code",
   "execution_count": null,
   "metadata": {},
   "outputs": [],
   "source": [
    "import time, os\n",
    "while 1:\n",
    "    time.sleep(0.1)\n",
    "    if os.path.isfile(mod_file):\n",
    "        lib.cheatengine.pnach = []\n",
    "        codes = lib.parsingengine.generate_codes(str(starting_offset), base_file, mod_file)\n",
    "        codes = [code[1].replace(\"1\",\"2\") + code[1:] for code in codes]\n",
    "        lib.cheatengine.apply_ram_code(codes)\n",
    "        lib.cheatengine.write_pnach(debug=False)\n",
    "        print(time.time())\n",
    "        os.remove(mod_file)"
   ]
  },
  {
   "cell_type": "code",
   "execution_count": null,
   "metadata": {},
   "outputs": [],
   "source": [
    "# Code to Roxas With Xemnas, and create the pnach file\n",
    "lib.cheatengine.apply_ram_code([\"11C4F008 00000646\"])\n",
    "lib.cheatengine.write_pnach()"
   ]
  },
  {
   "cell_type": "code",
   "execution_count": null,
   "metadata": {},
   "outputs": [],
   "source": [
    "0x10f9ad0-0x254c"
   ]
  },
  {
   "cell_type": "code",
   "execution_count": null,
   "metadata": {},
   "outputs": [],
   "source": [
    "starting_offset"
   ]
  },
  {
   "cell_type": "code",
   "execution_count": null,
   "metadata": {},
   "outputs": [],
   "source": [
    "#Rikus adjustments\n",
    "# 0x10f7584 WHERE RIKU AI FILE STARTS\n",
    "\n",
    "#//Remove Riku's HP Barrier 1\n",
    "patch=1,EE,01C6BDB8,extended,00000000\n",
    "//Remove Riku's HP Barrier 2\n",
    "patch=1,EE,01C6C020,extended,00000000\n",
    "//Remove Riku's HP Barrier 3\n",
    "patch=1,EE,01C6C288,extended,00000000\n",
    "\"\"\".upper()\n"
   ]
  },
  {
   "cell_type": "code",
   "execution_count": null,
   "metadata": {},
   "outputs": [],
   "source": [
    "# This method will look through the memdump to try and find where the ai file is located. \n",
    "# If you already know the offset where the file starts, this is uneccessary \n",
    "starting_offset = int(lib.parsingengine.locate_file(base_file),16)\n",
    "hex(starting_offset)"
   ]
  },
  {
   "cell_type": "code",
   "execution_count": null,
   "metadata": {},
   "outputs": [],
   "source": [
    "# Now we add the codes into the pnach portion of kh2lib, and generate a pnach file in your pcsx 2 directory\n",
    "# Then just load your savestate, skip cutscene and start the fight\n",
    "lib.cheatengine.apply_ram_code(codes)\n",
    "lib.cheatengine.write_pnach(debug=True)"
   ]
  },
  {
   "cell_type": "code",
   "execution_count": null,
   "metadata": {},
   "outputs": [],
   "source": [
    "## OK I need to first verify it between the 1st and 2nd enemies since that is where its easier to hand do this\n",
    "STARTING_OFFSET = 0x1d119ac\n",
    "FILE_HEADER = 0x8\n",
    "HP_OFF_INDEX = 0x4\n",
    "INDEX = 106\n",
    "LENGTH_PER_I = 0x5C\n",
    "\n",
    "calculated_offset = STARTING_OFFSET + FILE_HEADER + (LENGTH_PER_I*INDEX) + HP_OFF_INDEX\n",
    "calculated_offset = hex(calculated_offset)\n",
    "RIGHT_OFFSET = '0x01d13fd0'\n",
    "assert calculated_offset==RIGHT_OFFSET, hex(int(calculated_offset,16)-int(RIGHT_OFFSET,16))"
   ]
  },
  {
   "cell_type": "code",
   "execution_count": null,
   "metadata": {},
   "outputs": [],
   "source": [
    "base_file = os.path.join(\"workspace\", \"battle\", \"enmp.list.base\")\n",
    "inds = {}\n",
    "base = bytearray(open(base_file, \"rb\").read())\n",
    "i=0\n",
    "while i < 229:\n",
    "    si = LENGTH_PER_I*i+8\n",
    "    o = {\n",
    "        \"index\": i,\n",
    "        \"id\": base[si],\n",
    "        \"hp\": base[si+4]+255*base[si+5]\n",
    "    }\n",
    "    if base[si+6] != 0 or base[si+7] != 0:\n",
    "        o[\"extra_hp_bytes\"] = \"{}{}\".format(hex(base[si+7])[2:].zfill(2),hex(base[si+6])[2:].zfill(2))\n",
    "    #print(list(base[LENGTH_PER_I*i+8:LENGTH_PER_I*i+8+16]))\n",
    "    inds[o[\"id\"]] = o\n",
    "    i+=1"
   ]
  },
  {
   "cell_type": "code",
   "execution_count": null,
   "metadata": {},
   "outputs": [],
   "source": [
    "import json\n",
    "pth = os.path.join(\"..\",\"..\",\"..\",\"..\",\"kh2-spawn-replacer\",\"enemies.json\")\n",
    "d = json.load(open(pth))\n",
    "for k in d:\n",
    "    if \"enmp\" in d[k]:\n",
    "        oj = inds[d[k][\"enmp\"]]\n",
    "        d[k][\"enmp\"] = oj[\"index\"]\n",
    "        d[k][\"hp\"] = oj[\"hp\"]\n",
    "        if \"extra_hp_bytes\" in oj:\n",
    "            d[k][\"hp_extra_bytes\"] = oj[\"extra_hp_bytes\"]\n",
    "json.dump(d, open(pth,\"w\"), indent=2)"
   ]
  },
  {
   "cell_type": "code",
   "execution_count": null,
   "metadata": {},
   "outputs": [],
   "source": [
    "d[k]"
   ]
  },
  {
   "cell_type": "code",
   "execution_count": null,
   "metadata": {
    "scrolled": true
   },
   "outputs": [],
   "source": [
    "# For each memdump (should be named after the msn)\n",
    "   # find the msn starting point (list file)\n",
    "   # get the associated mdlx file, \n",
    "      # extract it, get the ai offset and the mdlx offset\n",
    "   # create a dict with this info\n",
    "# Start with Twilight Thorn, Demyx, Xemnas, Data Demyx, Data Xemnas\n",
    "from kh2lib.kh2lib import kh2lib\n",
    "import os, json\n",
    "lib = kh2lib()\n",
    "information = {}\n",
    "parsing_path = os.path.join(os.getcwd(),\"workspace\", \"parsing\")\n",
    "if not os.path.isdir(parsing_path):\n",
    "    os.mkdir(parsing_path)\n",
    "pth = os.path.join(\"..\",\"..\",\"..\",\"..\",\"kh2-spawn-replacer\",\"enemies.json\")\n",
    "enemies_list = json.load(open(pth))\n",
    "dumpdir = 'C:\\\\Users\\\\12sam\\\\Desktop\\\\xeemo'\n",
    "bad_dumps = []\n",
    "dumps = list(bad_dumps) or os.listdir(dumpdir)\n",
    "for dumpfn in dumps:\n",
    "    try:\n",
    "        print(dumpfn)\n",
    "        msn_name = dumpfn.split(\"(\")[0].strip()\n",
    "        doMSN = msn_name != 'NONE'\n",
    "        enemy_name = dumpfn.split(\"(\")[1].split(\")\")[0]\n",
    "        mdlx_name = enemies_list[list(filter(lambda k: enemies_list[k]['name'] == enemy_name, enemies_list))[0]]['model']\n",
    "        if doMSN:\n",
    "            msn_path = os.path.join(os.environ[\"USE_KH2_GITPATH\"], \"KH2\", \"msn\", \"jp\", msn_name+\".\"+\"bar\")\n",
    "            assert os.path.isfile(msn_path)\n",
    "            msn_out_path = os.path.join(parsing_path,msn_name)\n",
    "        enemy_path = os.path.join(os.environ[\"USE_KH2_GITPATH\"], \"KH2\", \"obj\", mdlx_name+\".mdlx\")\n",
    "        enemy_out_path = os.path.join(parsing_path,enemy_name)\n",
    "        if doMSN:\n",
    "            lib.editengine.bar_extract(msn_path, msn_out_path)\n",
    "        lib.editengine.bar_extract(enemy_path, enemy_out_path)\n",
    "        if doMSN:\n",
    "            msn_list_path = os.path.join(msn_out_path, [p for p in os.listdir(msn_out_path) if p.endswith('.list')][0])\n",
    "        mdlx_ai_path = os.path.join(enemy_out_path, [p for p in os.listdir(enemy_out_path) if p.endswith('.ai')][0])\n",
    "        subdata = lib.parsingengine.load_memdump(os.path.join(dumpdir, dumpfn))\n",
    "\n",
    "        if doMSN:\n",
    "            msn_offset = lib.parsingengine.locate_file(msn_list_path, single_result=True)\n",
    "        ai_offset_dump = lib.parsingengine.locate_file(mdlx_ai_path, single_result=True)\n",
    "\n",
    "        subdata_mdlx = lib.parsingengine.load_memdump(enemy_path)\n",
    "        ai_offset_mdlx = lib.parsingengine.locate_file(mdlx_ai_path,single_result=True)\n",
    "\n",
    "        data = {\n",
    "            \"mdlx_offset\": hex(int(ai_offset_dump,16) - int(ai_offset_mdlx,16)),\n",
    "            \"ai_start_offset\": ai_offset_mdlx\n",
    "        }\n",
    "        if doMSN:\n",
    "            data[\"msn_offset\"] = msn_offset\n",
    "\n",
    "        information[enemy_name] = data\n",
    "    except Exception as exc:\n",
    "        print(\" failed: {}\".format(exc))\n",
    "        \n",
    "information"
   ]
  },
  {
   "cell_type": "code",
   "execution_count": null,
   "metadata": {},
   "outputs": [],
   "source": [
    "sub = bytearray(b'\\x02\\x00\\xdc\\x00`\\x00\\xd0&\\x05\\x00\\x7f;\\x00\\x00\\x02\\x00\\x00\\x00\\x00\\x005\\x00\\x00\\x00\\x00\\x00\\x00\\x00\\x02\\x00\\x01\\x00\\x02\\x006\\x02\\x04\\x00\\x04\\x00x\\x00\\x00\\x00x\\x00\\x00\\x00\\x00\\x00\\x00\\x00\\x05\\x00\\x00\\x00\\x05\\x00\\x04\\x00\\x00\\x00\\x00\\x00\\x04\\x00\\x00@\\x00\\x00\\x00\\x00\\x07\\x00\\x00\\x00\\x00\\x00\\x00\\x00')\n",
    "lib.parsingengine.search_substr(sub)"
   ]
  },
  {
   "cell_type": "code",
   "execution_count": null,
   "metadata": {},
   "outputs": [],
   "source": [
    "location_pth = os.path.join(\"..\",\"..\",\"..\",\"..\",\"kh2-spawn-replacer\",\"locations.json\")\n",
    "locations = json.load(open(location_pth))\n",
    "for k in information:\n",
    "    data = information[k]\n",
    "    if \"ai_start_offset\" in data:\n",
    "        enemies_list[k][\"ai_start_offset\"] = data[\"ai_start_offset\"]\n",
    "    if \"msn_offset\" in data or \"mdlx_offset\" in data:\n",
    "        for loc in locations:\n",
    "            if k in [e[\"name\"] for e in loc[\"enemies\"]]:\n",
    "                if \"msn_offset\" in data:\n",
    "                    loc[\"msn_offset\"] = data[\"msn_offset\"]\n",
    "                if \"mdlx_offset\" in data:\n",
    "                    for e in loc[\"enemies\"]:\n",
    "                        if k == e[\"name\"]:\n",
    "                            e[\"mdlx_offset\"] = data[\"mdlx_offset\"]\n",
    "json.dump(enemies_list, open(pth,\"w\"), indent=2)\n",
    "json.dump(locations, open(location_pth,\"w\"), indent=2)"
   ]
  },
  {
   "cell_type": "code",
   "execution_count": null,
   "metadata": {},
   "outputs": [],
   "source": [
    "# The double battles and armor xemnases are special and need manual handling"
   ]
  },
  {
   "cell_type": "code",
   "execution_count": null,
   "metadata": {},
   "outputs": [],
   "source": [
    "os.listdir(out)"
   ]
  },
  {
   "cell_type": "code",
   "execution_count": null,
   "metadata": {},
   "outputs": [],
   "source": [
    "# First create the kh2lib object\n",
    "from kh2lib.kh2lib import kh2lib\n",
    "import os, json, shutil\n",
    "lib = kh2lib()\n",
    "if not os.path.isdir(\"workspace\"):\n",
    "    os.mkdir(\"workspace\")\n",
    "\n",
    "BAR = os.path.join(lib.gitpath, \"KH2\", \"obj\", \"B_CA010.mdlx\")\n",
    "\n",
    "out = os.path.join(os.getcwd(), \"workspace\", \"barbossa\")\n",
    "\n",
    "lib.editengine.bar_extract(BAR, out)\n",
    "\n",
    "ai_fn = os.path.join(out,\"b_ca.bdx\")\n",
    "base_fn = ai_fn+\".base\"\n",
    "\n",
    "shutil.copy(ai_fn, base_fn)\n",
    "\n",
    "lib.parsingengine.set_file_bytes(\n",
    "    fn=ai_fn, \n",
    "    proportions=[0], \n",
    "    byte_to_set=0x0)"
   ]
  },
  {
   "cell_type": "code",
   "execution_count": null,
   "metadata": {},
   "outputs": [],
   "source": [
    "dumpname = \"barbinpete\"\n",
    "subdata = lib.parsingengine.load_memdump(os.path.join(\"workspace\", dumpname))\n",
    "import time\n",
    "starting_offset = int(lib.parsingengine.locate_file(base_fn), 16)\n",
    "while 1:\n",
    "    time.sleep(0.05)\n",
    "    lib.cheatengine.pnach = []\n",
    "\n",
    "    codes = lib.parsingengine.generate_codes(str(starting_offset), base_fn, ai_fn)\n",
    "\n",
    "    codes = [code[1].replace(\"1\",\"2\") + code[1:] for code in codes]\n",
    "\n",
    "    lib.cheatengine.apply_ram_code(codes)\n",
    "    lib.cheatengine.write_pnach(debug=False)"
   ]
  },
  {
   "cell_type": "code",
   "execution_count": null,
   "metadata": {},
   "outputs": [],
   "source": [
    "base_file = os.path.join(\"workspace\", \"pete\", \"n_wi.bdx\")\n",
    "mod_file = os.path.join(\"workspace\", \"xemnas\", \"n_wi.bdx.bin\")\n",
    "assert os.path.isfile(base_file)\n",
    "assert os.path.isfile(mod_file)\n",
    "\n",
    "# go to the roxas fight, and create a memdump using emuhaste\n",
    "#  it is recommended to make a savestate in the cutscene before the fight loads, for ease of testing\n",
    "# Place the memdump in the workspace folder, using whatever name you choose\n",
    "dumpname = \"peteinrox\"\n",
    "subdata = lib.parsingengine.load_memdump(os.path.join(\"workspace\", dumpname))\n",
    "#SUBDATA = lib.parsingengine.load_memdump(base_file) #IF THINGS ARENT WORKING LOOK HERE SILLY\n",
    "\n",
    "starting_offset = int(lib.parsingengine.locate_file(base_file),16)\n",
    "\n",
    "lib.cheatengine.pnach = []\n",
    "# This code will diff the two versions of the ai file and create codes to make those same changes via RAM\n",
    "codes = lib.parsingengine.generate_codes(str(starting_offset), base_file, mod_file)\n",
    "for code in codes:\n",
    "    print(code)\n",
    "print(codes)\n",
    "# The memdump skips the first section of memory addresses so the code offsets need to be fixed\n",
    "codes = [code[1].replace(\"0\",\"2\") + code[1:] for code in codes]\n",
    "codes\n",
    "# codes = []#DEBUG\n",
    "\n",
    "# Now we add the codes into the pnach portion of kh2lib, and generate a pnach file in your pcsx 2 directory\n",
    "# Then just load your savestate, skip cutscene and start the fight\n",
    "lib.cheatengine.apply_ram_code(codes)\n",
    "lib.cheatengine.write_pnach(debug=True)"
   ]
  },
  {
   "cell_type": "code",
   "execution_count": 11,
   "metadata": {},
   "outputs": [
    {
     "name": "stdout",
     "output_type": "stream",
     "text": [
      "['-patchmaker', '-output', 'patch.kh2patch', '-author', 'kh2lib', '-version', '1', '-skipchangelog', '-skipcredits']\n",
      "(b'KH2FM_Toolkit\\nVersion PRE-3.0\\nDEVELOPER RELEASE\\n\\nProgrammed by GovanifY\\nhttp://www.govanify.com\\nhttp://www.twitter.com/GovanifY\\nSoftware under GPL 2 license, for more info, use the command -license\\n\\nThis tool is able to create patches for the software KH2FM_Toolkit.\\nIt can add files using the internal compression of the game \\nKingdom Hearts 2(Final Mix), relink files to others, recreate\\nthe iso without size limits and without corruption.\\nThis patch system is the best ever made for this game atm.\\n\\nPress enter to run using the file: patch.kh2patchOther information (leave blank to continue): Filenames may be formatted as text (msg/jp/lk.bar) or hash (0x030b45da).\\r\\n\\nEnter filename:   Using \"msn/jp/MU02_MS103B.bar\" for 95FBC2CA\\r\\nRelink to this filename(ex: 000al.idx) [Blank for none]: Compress this file? [Y/n] Parent compressed file [Leave blank for KH2]:   Using \"KH2\" for 00000000\\r\\nShould this file be added if he\\'s not in the game? [y/N] \\nEnter filename: Compressing MU02_MS103B.bar:   Compressed to 40% of the original size!\\r\\nPatch created.\\r\\n', None)\n",
      "patch created\n",
      "patching the game\n",
      "['patch.kh2patch', 'patch.kh2patch', 'patch.kh2patch']\n",
      "all done\n"
     ]
    }
   ],
   "source": [
    "lib.patch_game(fromgit=True)"
   ]
  },
  {
   "cell_type": "code",
   "execution_count": null,
   "metadata": {},
   "outputs": [],
   "source": [
    "rp"
   ]
  },
  {
   "cell_type": "code",
   "execution_count": null,
   "metadata": {},
   "outputs": [],
   "source": [
    "replace = not replace"
   ]
  },
  {
   "cell_type": "code",
   "execution_count": null,
   "metadata": {},
   "outputs": [],
   "source": [
    "replace"
   ]
  },
  {
   "cell_type": "raw",
   "metadata": {},
   "source": [
    "dfadf"
   ]
  },
  {
   "cell_type": "code",
   "execution_count": null,
   "metadata": {},
   "outputs": [],
   "source": [
    "readfad"
   ]
  },
  {
   "cell_type": "code",
   "execution_count": null,
   "metadata": {},
   "outputs": [],
   "source": []
  }
 ],
 "metadata": {
  "kernelspec": {
   "display_name": "Python 3",
   "language": "python",
   "name": "python3"
  },
  "language_info": {
   "codemirror_mode": {
    "name": "ipython",
    "version": 3
   },
   "file_extension": ".py",
   "mimetype": "text/x-python",
   "name": "python",
   "nbconvert_exporter": "python",
   "pygments_lexer": "ipython3",
   "version": "3.7.4"
  }
 },
 "nbformat": 4,
 "nbformat_minor": 2
}
