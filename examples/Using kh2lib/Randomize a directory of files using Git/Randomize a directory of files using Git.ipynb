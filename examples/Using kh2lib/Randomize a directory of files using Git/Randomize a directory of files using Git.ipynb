{
 "cells": [
  {
   "cell_type": "code",
   "execution_count": 3,
   "metadata": {},
   "outputs": [],
   "source": [
    "# Randomize a directory of files\n",
    "from kh2lib.kh2lib import kh2lib\n",
    "\n",
    "import os\n",
    "if not os.path.isdir(\"workspace\"):\n",
    "    os.mkdir(\"workspace\")\n",
    "    \n"
   ]
  },
  {
   "cell_type": "code",
   "execution_count": 12,
   "metadata": {},
   "outputs": [
    {
     "name": "stdout",
     "output_type": "stream",
     "text": [
      "Git repository has been reset\n"
     ]
    }
   ],
   "source": [
    "lib.reset_git()"
   ]
  },
  {
   "cell_type": "code",
   "execution_count": 7,
   "metadata": {
    "scrolled": false
   },
   "outputs": [
    {
     "name": "stdout",
     "output_type": "stream",
     "text": [
      "Git repository has been reset\n",
      "Randomizing 303 files (if num is odd 1 file will be definitely unrandomized)\n",
      "Randomization complete\n",
      "'patched', make sure to launch with mod manager\n"
     ]
    }
   ],
   "source": [
    "lib = kh2lib(game=\"kh2\")\n",
    "\n",
    "lib.reset_git()\n",
    "\n",
    "# dir_to_randomize = os.path.join(os.environ[\"USE_KH2_GITPATH\"], \"KH2\", \"msn\", \"jp\")\n",
    "dir_to_randomize = os.path.join(lib.gamedir, \"KH2\", \"msn\", \"jp\")\n",
    "paths_to_randomize = [os.path.join(dir_to_randomize, i) for i in os.listdir(dir_to_randomize)]\n",
    "paths_to_randomize = [i for i in paths_to_randomize]\n",
    "lib.randomize_files(paths_to_randomize, subfile_type=None)\n",
    "\n",
    "lib.patch_game()"
   ]
  },
  {
   "cell_type": "code",
   "execution_count": null,
   "metadata": {},
   "outputs": [],
   "source": [
    "import shutil\n",
    "for path, subdirs, files in os.walk(lib.gamedir):\n",
    "    for name in files:\n",
    "        if path[::-1].startswith('DDD') or \".git\" in path:\n",
    "            continue\n",
    "        newname = name.split(\"-\")\n",
    "        num = newname[-1]\n",
    "        if len(newname) == 1:\n",
    "            #No rename\n",
    "            continue\n",
    "        basename = '-'.join(newname[:-1])\n",
    "        noext = basename.split(\".\")\n",
    "        ext = noext[-1]\n",
    "        noextname = '.'.join(noext[:-1])\n",
    "        finalname = noextname + \"-\" + num + \".\" + ext\n",
    "        os.rename(os.path.join(path,name), os.path.join(path,finalname))\n",
    "        print(os.path.join(path, finalname))"
   ]
  },
  {
   "cell_type": "code",
   "execution_count": null,
   "metadata": {},
   "outputs": [],
   "source": [
    "rbins = []\n",
    "found_offsets = {}\n",
    "broken_paths = {}\n",
    "import shutil\n",
    "for path, subdirs, files in os.walk(lib.gamedir):\n",
    "    for name in files:\n",
    "        if path[::-1].startswith(\"DDD\") or \".git\" in path:\n",
    "            continue\n",
    "            \n",
    "        rbin = path[len('C:\\\\Users\\\\12sam\\\\Desktop\\\\KH_Games\\\\DDD\\\\'):]\n",
    "        \n",
    "        gitpath = os.path.join(rbin, name)\n",
    "        \n",
    "        if \"\\\\\" in rbin:\n",
    "            rbin = rbin.split(\"\\\\\")[0]\n",
    "        rbin = rbin+\".rbin\"\n",
    "        try:\n",
    "            mem = lib.parsingengine.load_memdump(os.path.join(lib.gamedir,rbin))\n",
    "            offset = lib.parsingengine.locate_file(os.path.join(path,name))\n",
    "            found_offsets[gitpath] = (rbin, offset)\n",
    "        except:\n",
    "            broken_paths[gitpath] = rbin\n",
    "import json\n",
    "json.dump(found_offsets, open(\"found_offsets.json\", \"w\"))\n",
    "json.dump(broken_paths, open(\"broken_paths.json\",\"w\"))\n",
    "       "
   ]
  },
  {
   "cell_type": "code",
   "execution_count": null,
   "metadata": {},
   "outputs": [],
   "source": [
    "path, name"
   ]
  },
  {
   "cell_type": "code",
   "execution_count": 14,
   "metadata": {
    "scrolled": false
   },
   "outputs": [
    {
     "name": "stdout",
     "output_type": "stream",
     "text": [
      "Git repository has been reset\n",
      "'patched', make sure to launch with mod manager\n"
     ]
    }
   ],
   "source": [
    "## Null out a series of files\n",
    "# CA03_MS106 is the barrel burning MSN\n",
    "# CA07_MS105\n",
    "from kh2lib.kh2lib import kh2lib\n",
    "import os\n",
    "if not os.path.isdir(\"workspace\"):\n",
    "    os.mkdir(\"workspace\")\n",
    "    \n",
    "lib = kh2lib(game=\"kh2\")\n",
    "\n",
    "lib.reset_git()\n",
    "\n",
    "fdir = os.path.join(lib.gamedir, \"KH2\", \"msn\", \"jp\")\n",
    "fns = [f for f in os.listdir(fdir) if f.startswith(\"CA07\")]\n",
    "\n",
    "for fn in fns:\n",
    "    lib.parsingengine.set_file_bytes(os.path.join(fdir,fn)) # 0 is default\n",
    "\n",
    "lib.patch_game(fromgit=True)"
   ]
  },
  {
   "cell_type": "code",
   "execution_count": 15,
   "metadata": {},
   "outputs": [
    {
     "name": "stdout",
     "output_type": "stream",
     "text": [
      "Git repository has been reset\n",
      "'patched', make sure to launch with mod manager\n"
     ]
    }
   ],
   "source": [
    "## Swap 2 files\n",
    "\n",
    "from kh2lib.kh2lib import kh2lib\n",
    "import os\n",
    "if not os.path.isdir(\"workspace\"):\n",
    "    os.mkdir(\"workspace\")\n",
    "    \n",
    "lib = kh2lib(game=\"kh2\")\n",
    "\n",
    "lib.reset_git()\n",
    "\n",
    "file1 = \"CA07_MS105.bar\"\n",
    "file2 = \"CA03_MS106.bar\"\n",
    "\n",
    "d = os.path.join(lib.gamedir, \"KH2\", \"msn\", \"jp\")\n",
    "\n",
    "lib.swap_files(os.path.join(d, file1), os.path.join(d, file2))\n",
    "\n",
    "lib.patch_game(fromgit=True)"
   ]
  },
  {
   "cell_type": "code",
   "execution_count": 16,
   "metadata": {},
   "outputs": [
    {
     "name": "stdout",
     "output_type": "stream",
     "text": [
      "Git repository has been reset\n"
     ]
    }
   ],
   "source": [
    "lib.reset_git()"
   ]
  },
  {
   "cell_type": "code",
   "execution_count": null,
   "metadata": {},
   "outputs": [],
   "source": []
  }
 ],
 "metadata": {
  "kernelspec": {
   "display_name": "Python 3",
   "language": "python",
   "name": "python3"
  },
  "language_info": {
   "codemirror_mode": {
    "name": "ipython",
    "version": 3
   },
   "file_extension": ".py",
   "mimetype": "text/x-python",
   "name": "python",
   "nbconvert_exporter": "python",
   "pygments_lexer": "ipython3",
   "version": "3.7.4"
  }
 },
 "nbformat": 4,
 "nbformat_minor": 2
}
