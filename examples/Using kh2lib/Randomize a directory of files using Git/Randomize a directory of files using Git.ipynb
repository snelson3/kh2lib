{
 "cells": [
  {
   "cell_type": "code",
   "execution_count": null,
   "metadata": {},
   "outputs": [],
   "source": [
    "extracted = \"C:\\\\Users\\\\12sam\\\\Documents\\\\GitHub\\\\kh2lib\\\\examples\\\\Using kh2lib\\\\Randomize a directory of files using Git\\\\tmp\\\\file2\"\n",
    "output = \"C:\\\\Users\\\\12sam\\\\Desktop\\\\KH_Games\\\\KH2\\\\ISO\\\\export\\\\KH2\\\\obj\\\\N_HB530_BTL2.mdlx\"\n",
    "lib.editengine.bar_build(extracted, output)"
   ]
  },
  {
   "cell_type": "code",
   "execution_count": null,
   "metadata": {},
   "outputs": [],
   "source": [
    "# Just replace 2 files\n",
    "from kh2lib.kh2lib import kh2lib\n",
    "\n",
    "import os\n",
    "if not os.path.isdir(\"workspace\"):\n",
    "    os.mkdir(\"workspace\")\n",
    "    \n",
    "# Reset the git directory to the original state\n",
    "custom_gitpath = 'C:\\\\Users\\\\12sam\\\\Desktop\\\\KH_Games\\\\DDD'\n",
    "gitpath = custom_gitpath or lib.gitpath\n",
    "lib = kh2lib(gitpath=gitpath)\n",
    "\n",
    "lib.reset_git()\n",
    "\n",
    "# Randomize a directory of files\n",
    "# dir_to_randomize = os.path.join(os.environ[\"USE_KH2_GITPATH\"], \"KH2\", \"msn\", \"jp\")\n",
    "dir_to_randomize = os.path.join(custom_gitpath, \"game\")\n",
    "paths_to_randomize = [os.path.join(dir_to_randomize, i) for i in os.listdir(dir_to_randomize)]\n",
    "paths_to_randomize = [i for i in paths_to_randomize if os.path.basename(i).endswith(\".lub\")]\n",
    "lib.randomize_files(paths_to_randomize, subfile_type=None)\n",
    "\n",
    "# Patch the ISO\n",
    "# lib.patch_game(fromgit=True)"
   ]
  },
  {
   "cell_type": "code",
   "execution_count": null,
   "metadata": {
    "scrolled": false
   },
   "outputs": [],
   "source": [
    "# Just replace 2 files\n",
    "from kh2lib.kh2lib import kh2lib\n",
    "\n",
    "import os\n",
    "if not os.path.isdir(\"workspace\"):\n",
    "    os.mkdir(\"workspace\")\n",
    "    \n",
    "# Reset the git directory to the original state\n",
    "custom_gitpath = None\n",
    "# custom_gitpath = 'C:\\\\Users\\\\12sam\\\\Desktop\\\\KH_Games\\\\KH1'\n",
    "gitpath = custom_gitpath or None\n",
    "lib = kh2lib(gitpath=gitpath, game=\"kh2\")\n",
    "\n",
    "\n",
    "lib.reset_git()\n",
    "\n",
    "# Randomize a directory of files\n",
    "dir_to_randomize = os.path.join(os.environ[\"USE_KH2_GITPATH\"], \"KH2\", \"msn\", \"jp\")\n",
    "# dir_to_randomize = os.path.join(custom_gitpath, \"export\", \"KINGDOM\")\n",
    "paths_to_randomize = [os.path.join(dir_to_randomize, i) for i in os.listdir(dir_to_randomize)]\n",
    "paths_to_randomize = [i for i in paths_to_randomize if os.path.basename(i).endswith(\".bar\")]\n",
    "lib.randomize_files(paths_to_randomize, subfile_type=None)\n",
    "\n",
    "# Patch the ISO\n",
    "lib.patch_game(fromgit=True)"
   ]
  },
  {
   "cell_type": "code",
   "execution_count": null,
   "metadata": {
    "scrolled": true
   },
   "outputs": [
    {
     "name": "stdout",
     "output_type": "stream",
     "text": [
      "b'HEAD is now at d157dfa init\\n'\n",
      "Git repository has been reset\n",
      "C:\\Users\\12sam\\Desktop\\KH_Games\\KH1\\export\\KINGDOM\\title\\copyright.tm2\n",
      "wait\n",
      "['export//KINGDOM/gameover.ev', 'export//KINGDOM/title/copyright.tm2']\n",
      "ok...\n",
      "['gameover.ev', 'title/copyright.tm2']\n",
      "export//KINGDOM/\n",
      "export//KINGDOM/\n",
      "['gameover.ev', 'title/copyright.tm2']\n",
      "['-patchmaker', '-output', 'patch.kh2patch', '-author', 'kh2lib', '-version', '1', '-skipchangelog', '-skipcredits']\n",
      "(b'KH1FM_Toolkit\\nBuild Date: 9/1/2018 12:21:34 PM\\nVersion 1.0.0.0\\nPUBLIC RELEASE\\n\\nProgrammed by GovanifY\\nhttp://www.govanify.blogspot.fr\\nhttp://www.govanify.x10host.com\\n\\nThis tool is able to create patches for the software KH1FM_Toolkit.\\nIt can add files using the internal compression of the game \\nKingdom Hearts 1(Final Mix), relink files to others, recreate\\nthe iso without size limits and without corruption.\\nThis patch system is the best ever made for this game atm.\\n\\nPress enter to run using the file: patch.kh2patch.kh1patchOther information (leave blank to continue): \\nEnter filename:   Using \"gameover.ev\" for 03CAA2FF\\r\\nRelink to this filename(ex: al00_07.img) [Blank for none]: Compress this file? [Y/n] Parent compressed file [Leave blank for KINGDOM]:   Using \"KINGDOM\" for 00000000\\r\\nShould this file be added if he\\'s not in the game? [y/N] \\nEnter filename:   Using \"title/copyright.tm2\" for 57D148F1\\r\\nRelink to this filename(ex: al00_07.img) [Blank for none]: Compress this file? [Y/n] Parent compressed file [Leave blank for KINGDOM]:   Using \"KINGDOM\" for 00000000\\r\\nShould this file be added if he\\'s not in the game? [y/N] \\nEnter filename: Compressing gameover.ev:   Compressed to 1% of the original size!\\r\\nCompressing copyright.tm2:   Compressed to 1% of the original size!\\r\\nPress enter to exit...', None)\n",
      "patch created\n",
      "patching the game\n",
      "['-patch', 'patch.kh2patch.kh1patch', 'patch.kh2patch.kh1patch', 'patch.kh2patch.kh1patch']\n"
     ]
    }
   ],
   "source": [
    "## Null out a file\n",
    "# Just replace 2 files\n",
    "from kh2lib.kh2lib import kh2lib\n",
    "# Reset the git directory to the original state\n",
    "custom_gitpath = None\n",
    "custom_gitpath = 'C:\\\\Users\\\\12sam\\\\Desktop\\\\KH_Games\\\\KH1\\\\export\\\\KINGDOM'\n",
    "gitpath = custom_gitpath or None\n",
    "lib = kh2lib(gitpath=gitpath, game=\"kh1\")\n",
    "import os\n",
    "if not os.path.isdir(\"workspace\"):\n",
    "    os.mkdir(\"workspace\")\n",
    "    \n",
    "lib.reset_git()\n",
    "fn = os.path.join(custom_gitpath, \"title\", \"copyright.tm2\")\n",
    "print(fn)\n",
    "lib.parsingengine.set_file_bytes(fn) # 0 is default\n",
    "fn = os.path.join(custom_gitpath, \"gameover.ev\")\n",
    "lib.parsingengine.set_file_bytes(fn) # 0 is default\n",
    "# fn = os.path.join(os.environ[\"USE_KH2_GITPATH\"], \"KH2\", \"00battle.bin\")\n",
    "\n",
    "lib.patch_game(fromgit=True)"
   ]
  },
  {
   "cell_type": "code",
   "execution_count": null,
   "metadata": {
    "scrolled": true
   },
   "outputs": [],
   "source": [
    "## Null out a file\n",
    "# Just replace 2 files\n",
    "from kh2lib.kh2lib import kh2lib\n",
    "# Reset the git directory to the original state\n",
    "custom_gitpath = None\n",
    "gitpath = custom_gitpath or None\n",
    "lib = kh2lib(gitpath=gitpath, game=\"kh2\")\n",
    "import os\n",
    "if not os.path.isdir(\"workspace\"):\n",
    "    os.mkdir(\"workspace\")\n",
    "    \n",
    "lib.reset_git()\n",
    "fn = os.path.join(os.environ[\"USE_KH2_GITPATH\"], \"KH2\", \"00battle.bin\")\n",
    "print(fn)\n",
    "lib.parsingengine.set_file_bytes(fn) # 0 is default\n",
    "\n",
    "lib.patch_game(fromgit=True)"
   ]
  },
  {
   "cell_type": "code",
   "execution_count": null,
   "metadata": {},
   "outputs": [],
   "source": [
    "# Randomize a directory of files\n",
    "d = os.path.join(os.environ[\"USE_KH2_GITPATH\"], \"KH2\", \"msn\", \"jp\")\n",
    "file1 = \"EH20_MS113.bar\"\n",
    "file2 = \"WI01_MS101.bar\"\n",
    "lib.swap_files(os.path.join(d, file1), os.path.join(d, file2))"
   ]
  },
  {
   "cell_type": "code",
   "execution_count": null,
   "metadata": {
    "scrolled": false
   },
   "outputs": [],
   "source": [
    "# Patch the ISO\n",
    "lib.patch_game(fromgit=True)"
   ]
  },
  {
   "cell_type": "code",
   "execution_count": null,
   "metadata": {},
   "outputs": [],
   "source": [
    "# Just replace 2 files\n",
    "from kh2lib.kh2lib import kh2lib\n",
    "lib = kh2lib()\n",
    "import os\n",
    "if not os.path.isdir(\"workspace\"):\n",
    "    os.mkdir(\"workspace\")\n",
    "# Specify the BAR file to extract\n",
    "name=\"B_EX170_LAST\"\n",
    "extension=\"mdlx\""
   ]
  },
  {
   "cell_type": "code",
   "execution_count": null,
   "metadata": {},
   "outputs": [],
   "source": [
    "BARFILE = os.path.join(os.environ[\"USE_KH2_GITPATH\"], \"KH2\", \"obj\", name+\".\"+extension)"
   ]
  },
  {
   "cell_type": "code",
   "execution_count": null,
   "metadata": {},
   "outputs": [],
   "source": [
    "if not os.path.isfile(BARFILE):\n",
    "    raise Exception(\"File not Found: {}\".format(BARFILE))\n",
    "lib.editengine.bar_extract(BARFILE, os.path.join(os.getcwd(),\"workspace\",name))"
   ]
  },
  {
   "cell_type": "code",
   "execution_count": null,
   "metadata": {},
   "outputs": [],
   "source": [
    "# Once you are done making changes to the extracted bar, pack it back in to a bar and replace the original file \n",
    "lib.editengine.bar_build(os.path.join(os.getcwd(),\"workspace\", name, \"{}.{}.json\".format(name,extension)), BARFILE)"
   ]
  },
  {
   "cell_type": "code",
   "execution_count": null,
   "metadata": {},
   "outputs": [],
   "source": []
  }
 ],
 "metadata": {
  "kernelspec": {
   "display_name": "Python 3",
   "language": "python",
   "name": "python3"
  },
  "language_info": {
   "codemirror_mode": {
    "name": "ipython",
    "version": 3
   },
   "file_extension": ".py",
   "mimetype": "text/x-python",
   "name": "python",
   "nbconvert_exporter": "python",
   "pygments_lexer": "ipython3",
   "version": "3.7.4"
  }
 },
 "nbformat": 4,
 "nbformat_minor": 2
}
