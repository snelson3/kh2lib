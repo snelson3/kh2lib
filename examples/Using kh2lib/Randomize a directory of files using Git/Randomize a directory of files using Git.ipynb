{
 "cells": [
  {
   "cell_type": "code",
   "execution_count": null,
   "metadata": {},
   "outputs": [],
   "source": [
    "extracted = \"C:\\\\Users\\\\12sam\\\\Documents\\\\GitHub\\\\kh2lib\\\\examples\\\\Using kh2lib\\\\Randomize a directory of files using Git\\\\tmp\\\\file2\"\n",
    "output = \"C:\\\\Users\\\\12sam\\\\Desktop\\\\KH_Games\\\\KH2\\\\ISO\\\\export\\\\KH2\\\\obj\\\\N_HB530_BTL2.mdlx\"\n",
    "lib.editengine.bar_build(extracted, output)"
   ]
  },
  {
   "cell_type": "code",
   "execution_count": null,
   "metadata": {},
   "outputs": [],
   "source": [
    "# Just replace 2 files\n",
    "from kh2lib.kh2lib import kh2lib\n",
    "\n",
    "import os\n",
    "if not os.path.isdir(\"workspace\"):\n",
    "    os.mkdir(\"workspace\")\n",
    "    \n",
    "# Reset the git directory to the original state\n",
    "custom_gitpath = 'C:\\\\Users\\\\12sam\\\\Desktop\\\\KH_Games\\\\DDD'\n",
    "gitpath = custom_gitpath or lib.gitpath\n",
    "lib = kh2lib(gitpath=gitpath)\n",
    "\n",
    "lib.reset_git()\n",
    "\n",
    "# Randomize a directory of files\n",
    "# dir_to_randomize = os.path.join(os.environ[\"USE_KH2_GITPATH\"], \"KH2\", \"msn\", \"jp\")\n",
    "dir_to_randomize = os.path.join(custom_gitpath, \"game\")\n",
    "paths_to_randomize = [os.path.join(dir_to_randomize, i) for i in os.listdir(dir_to_randomize)]\n",
    "paths_to_randomize = [i for i in paths_to_randomize if os.path.basename(i).endswith(\".lub\")]\n",
    "lib.randomize_files(paths_to_randomize, subfile_type=None)\n",
    "\n",
    "# Patch the ISO\n",
    "# lib.patch_game(fromgit=True)"
   ]
  },
  {
   "cell_type": "code",
   "execution_count": null,
   "metadata": {
    "scrolled": false
   },
   "outputs": [],
   "source": [
    "# Just replace 2 files\n",
    "from kh2lib.kh2lib import kh2lib\n",
    "\n",
    "import os\n",
    "if not os.path.isdir(\"workspace\"):\n",
    "    os.mkdir(\"workspace\")\n",
    "    \n",
    "# Reset the git directory to the original state\n",
    "custom_gitpath = None\n",
    "custom_gitpath = 'C:\\\\Users\\\\12sam\\\\Desktop\\\\KH_Games\\\\KH1\\\\export\\\\KINGDOM'\n",
    "gitpath = custom_gitpath or None\n",
    "lib = kh2lib(gitpath=gitpath, game=\"kh1\")\n",
    "\n",
    "\n",
    "lib.reset_git()\n",
    "\n",
    "# Randomize a directory of files\n",
    "dir_to_randomize = os.path.join(os.environ[\"USE_KH2_GITPATH\"], \"KH2\", \"msn\", \"jp\")\n",
    "dir_to_randomize = os.path.join(custom_gitpath)\n",
    "paths_to_randomize = [os.path.join(dir_to_randomize, i) for i in os.listdir(dir_to_randomize)]\n",
    "paths_to_randomize = [i for i in paths_to_randomize if os.path.basename(i).endswith(\".mdls\")]\n",
    "lib.randomize_files(paths_to_randomize, subfile_type=None)\n",
    "\n",
    "# Patch the ISO\n",
    "lib.patch_game(fromgit=True)"
   ]
  },
  {
   "cell_type": "code",
   "execution_count": null,
   "metadata": {
    "scrolled": true
   },
   "outputs": [],
   "source": [
    "## Null out a file\n",
    "# Just replace 2 files\n",
    "from kh2lib.kh2lib import kh2lib\n",
    "# Reset the git directory to the original state\n",
    "custom_gitpath = None\n",
    "custom_gitpath = 'C:\\\\Users\\\\12sam\\\\Desktop\\\\KH_Games\\\\KH1\\\\export\\\\KINGDOM'\n",
    "gitpath = custom_gitpath or None\n",
    "lib = kh2lib(gitpath=gitpath, game=\"kh1\")\n",
    "import os\n",
    "if not os.path.isdir(\"workspace\"):\n",
    "    os.mkdir(\"workspace\")\n",
    "    \n",
    "lib.reset_git()\n",
    "fn = os.path.join(custom_gitpath, \"title\", \"copyright.tm2\")\n",
    "print(fn)\n",
    "lib.parsingengine.set_file_bytes(fn) # 0 is default\n",
    "fn = os.path.join(custom_gitpath, \"gameover.ev\")\n",
    "lib.parsingengine.set_file_bytes(fn) # 0 is default\n",
    "# fn = os.path.join(os.environ[\"USE_KH2_GITPATH\"], \"KH2\", \"00battle.bin\")\n",
    "\n",
    "lib.patch_game(fromgit=True)"
   ]
  },
  {
   "cell_type": "code",
   "execution_count": null,
   "metadata": {
    "scrolled": true
   },
   "outputs": [],
   "source": [
    "## Null out a file\n",
    "# Just replace 2 files\n",
    "from kh2lib.kh2lib import kh2lib\n",
    "# Reset the git directory to the original state\n",
    "custom_gitpath = None\n",
    "gitpath = custom_gitpath or None\n",
    "lib = kh2lib(gitpath=gitpath, game=\"kh2\")\n",
    "import os\n",
    "if not os.path.isdir(\"workspace\"):\n",
    "    os.mkdir(\"workspace\")\n",
    "    \n",
    "lib.reset_git()\n",
    "fn = os.path.join(os.environ[\"USE_KH2_GITPATH\"], \"KH2\", \"00battle.bin\")\n",
    "print(fn)\n",
    "lib.parsingengine.set_file_bytes(fn) # 0 is default\n",
    "\n",
    "lib.patch_game(fromgit=True)"
   ]
  },
  {
   "cell_type": "code",
   "execution_count": null,
   "metadata": {},
   "outputs": [],
   "source": [
    "# Randomize a directory of files\n",
    "d = os.path.join(os.environ[\"USE_KH2_GITPATH\"], \"KH2\", \"msn\", \"jp\")\n",
    "file1 = \"EH20_MS113.bar\"\n",
    "file2 = \"WI01_MS101.bar\"\n",
    "lib.swap_files(os.path.join(d, file1), os.path.join(d, file2))"
   ]
  },
  {
   "cell_type": "code",
   "execution_count": null,
   "metadata": {
    "scrolled": false
   },
   "outputs": [],
   "source": [
    "# Patch the ISO\n",
    "lib.patch_game(fromgit=True)"
   ]
  },
  {
   "cell_type": "code",
   "execution_count": 1,
   "metadata": {},
   "outputs": [],
   "source": [
    "# Just replace 2 files\n",
    "from kh2lib.kh2lib import kh2lib\n",
    "lib = kh2lib()\n",
    "import os\n",
    "if not os.path.isdir(\"workspace\"):\n",
    "    os.mkdir(\"workspace\")\n",
    "# Specify the BAR file to extract\n",
    "name=\"B_EX170_LAST\"\n",
    "extension=\"mdlx\""
   ]
  },
  {
   "cell_type": "code",
   "execution_count": null,
   "metadata": {},
   "outputs": [],
   "source": [
    "BARFILE = os.path.join(os.environ[\"USE_KH2_GITPATH\"], \"KH2\", \"obj\", name+\".\"+extension)"
   ]
  },
  {
   "cell_type": "code",
   "execution_count": null,
   "metadata": {},
   "outputs": [],
   "source": [
    "if not os.path.isfile(BARFILE):\n",
    "    raise Exception(\"File not Found: {}\".format(BARFILE))\n",
    "lib.editengine.bar_extract(BARFILE, os.path.join(os.getcwd(),\"workspace\",name))"
   ]
  },
  {
   "cell_type": "code",
   "execution_count": null,
   "metadata": {},
   "outputs": [],
   "source": [
    "# Once you are done making changes to the extracted bar, pack it back in to a bar and replace the original file \n",
    "lib.editengine.bar_build(os.path.join(os.getcwd(),\"workspace\", name, \"{}.{}.json\".format(name,extension)), BARFILE)"
   ]
  },
  {
   "cell_type": "code",
   "execution_count": null,
   "metadata": {},
   "outputs": [],
   "source": [
    "\n",
    "fn = \"testfile\"\n",
    "record_spec=[2,1,1]\n",
    "header_length=0x5\n",
    "footer_length=0x5\n",
    "hide_indices=[]\n",
    "swapendian=False\n",
    "showinhex=True\n",
    "aspandas=True\n",
    "\n",
    "\n",
    "lib.parsingengine.readable_data(fn,record_spec=record_spec,header_length=header_length,footer_length=footer_length,hide_indices=hide_indices,aspandas=aspandas)"
   ]
  },
  {
   "cell_type": "code",
   "execution_count": null,
   "metadata": {},
   "outputs": [],
   "source": [
    "indices_to_shuffle=None"
   ]
  },
  {
   "cell_type": "code",
   "execution_count": 2,
   "metadata": {},
   "outputs": [
    {
     "ename": "NameError",
     "evalue": "name 'fn' is not defined",
     "output_type": "error",
     "traceback": [
      "\u001b[1;31m---------------------------------------------------------------------------\u001b[0m",
      "\u001b[1;31mNameError\u001b[0m                                 Traceback (most recent call last)",
      "\u001b[1;32m<ipython-input-2-989365ed7161>\u001b[0m in \u001b[0;36m<module>\u001b[1;34m\u001b[0m\n\u001b[1;32m----> 1\u001b[1;33m \u001b[0mlib\u001b[0m\u001b[1;33m.\u001b[0m\u001b[0mparsingengine\u001b[0m\u001b[1;33m.\u001b[0m\u001b[0mshuffle_data\u001b[0m\u001b[1;33m(\u001b[0m\u001b[0mfn\u001b[0m\u001b[1;33m,\u001b[0m \u001b[0mrecord_spec\u001b[0m\u001b[1;33m=\u001b[0m\u001b[0mrecord_spec\u001b[0m\u001b[1;33m,\u001b[0m \u001b[0mheader_length\u001b[0m\u001b[1;33m=\u001b[0m\u001b[0mheader_length\u001b[0m\u001b[1;33m,\u001b[0m \u001b[0mfooter_length\u001b[0m\u001b[1;33m=\u001b[0m\u001b[0mfooter_length\u001b[0m\u001b[1;33m)\u001b[0m\u001b[1;33m\u001b[0m\u001b[1;33m\u001b[0m\u001b[0m\n\u001b[0m\u001b[0;32m      2\u001b[0m \u001b[1;33m\u001b[0m\u001b[0m\n\u001b[0;32m      3\u001b[0m \u001b[0mlib\u001b[0m\u001b[1;33m.\u001b[0m\u001b[0mparsingengine\u001b[0m\u001b[1;33m.\u001b[0m\u001b[0mreadable_data\u001b[0m\u001b[1;33m(\u001b[0m\u001b[0mfn\u001b[0m\u001b[1;33m,\u001b[0m\u001b[0mrecord_spec\u001b[0m\u001b[1;33m=\u001b[0m\u001b[0mrecord_spec\u001b[0m\u001b[1;33m,\u001b[0m\u001b[0mheader_length\u001b[0m\u001b[1;33m=\u001b[0m\u001b[0mheader_length\u001b[0m\u001b[1;33m,\u001b[0m\u001b[0mfooter_length\u001b[0m\u001b[1;33m=\u001b[0m\u001b[0mfooter_length\u001b[0m\u001b[1;33m,\u001b[0m\u001b[0mhide_indices\u001b[0m\u001b[1;33m=\u001b[0m\u001b[0mhide_indices\u001b[0m\u001b[1;33m,\u001b[0m\u001b[0maspandas\u001b[0m\u001b[1;33m=\u001b[0m\u001b[0maspandas\u001b[0m\u001b[1;33m)\u001b[0m\u001b[1;33m\u001b[0m\u001b[1;33m\u001b[0m\u001b[0m\n",
      "\u001b[1;31mNameError\u001b[0m: name 'fn' is not defined"
     ]
    }
   ],
   "source": [
    "lib.parsingengine.shuffle_data(fn, record_spec=record_spec, header_length=header_length, footer_length=footer_length)\n",
    "\n",
    "lib.parsingengine.readable_data(fn,record_spec=record_spec,header_length=header_length,footer_length=footer_length,hide_indices=hide_indices,aspandas=aspandas)"
   ]
  },
  {
   "cell_type": "code",
   "execution_count": null,
   "metadata": {},
   "outputs": [],
   "source": [
    "\n",
    "new_file = header + bytearray(recs_new) + footer\n",
    "\n",
    "open(fn, \"wb\").write(new_file)\n",
    "\n",
    "lib.parsingengine.readable_data(fn,record_spec=record_spec,header_length=header_length,footer_length=footer_length,hide_indices=hide_indices,aspandas=aspandas)"
   ]
  },
  {
   "cell_type": "code",
   "execution_count": null,
   "metadata": {},
   "outputs": [],
   "source": []
  }
 ],
 "metadata": {
  "kernelspec": {
   "display_name": "Python 3",
   "language": "python",
   "name": "python3"
  },
  "language_info": {
   "codemirror_mode": {
    "name": "ipython",
    "version": 3
   },
   "file_extension": ".py",
   "mimetype": "text/x-python",
   "name": "python",
   "nbconvert_exporter": "python",
   "pygments_lexer": "ipython3",
   "version": "3.7.4"
  }
 },
 "nbformat": 4,
 "nbformat_minor": 2
}
