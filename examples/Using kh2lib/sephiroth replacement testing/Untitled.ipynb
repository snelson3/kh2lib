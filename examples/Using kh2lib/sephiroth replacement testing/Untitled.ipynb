{
 "cells": [
  {
   "cell_type": "code",
   "execution_count": 74,
   "metadata": {
    "scrolled": true
   },
   "outputs": [
    {
     "name": "stdout",
     "output_type": "stream",
     "text": [
      "['unpack', '-o', 'C:\\\\Users\\\\15037\\\\git\\\\kh2lib\\\\examples\\\\Using kh2lib\\\\sephiroth replacement testing\\\\hb01', 'C:\\\\Users\\\\15037\\\\Desktop\\\\KH_Games\\\\KH2\\\\KH2\\\\ard\\\\hb01.ard']\n"
     ]
    },
    {
     "name": "stderr",
     "output_type": "stream",
     "text": [
      "<ipython-input-74-42c8efa8a565>:10: YAMLLoadWarning: calling yaml.load() without Loader=... is deprecated, as the default Loader is unsafe. Please read https://msg.pyyaml.org/load for full details.\n",
      "  sp = yaml.load(open(\"b_60.spawn.yml\"))\n"
     ]
    },
    {
     "name": "stdout",
     "output_type": "stream",
     "text": [
      "(None, None)\n"
     ]
    }
   ],
   "source": [
    "# First create the kh2lib object\n",
    "from kh2lib.kh2lib import kh2lib\n",
    "import os, json, yaml\n",
    "lib = kh2lib()\n",
    "if not os.path.isdir(\"workspace\"):\n",
    "    os.mkdir(\"workspace\")\n",
    "\n",
    "enemies = json.load(open(\"enemies.json\"))\n",
    "\n",
    "sp = yaml.load(open(\"b_60.spawn.yml\"))\n",
    "\n",
    "BARLOC = os.path.join(lib.gamedir, \"KH2\", \"ard\", \"hb01.ard\")\n",
    "\n",
    "lib.openkh.bar_extract(BARLOC, os.path.join(os.getcwd(),\"hb01\"))"
   ]
  },
  {
   "cell_type": "code",
   "execution_count": 81,
   "metadata": {},
   "outputs": [
    {
     "name": "stdout",
     "output_type": "stream",
     "text": [
      "['repoint', '-o', 'C:\\\\Users\\\\15037\\\\git\\\\kh2lib\\\\examples\\\\Using kh2lib\\\\sephiroth replacement testing\\\\hb01\\\\b_60.spawn', 'C:\\\\Users\\\\15037\\\\git\\\\kh2lib\\\\examples\\\\Using kh2lib\\\\sephiroth replacement testing\\\\b_60_new.spawn.yml']\n",
      "(None, None)\n",
      "['pack', '-o', 'C:\\\\Users\\\\15037\\\\Desktop\\\\KH_Games\\\\KH2\\\\KH2\\\\ard\\\\hb01.ard', 'C:\\\\Users\\\\15037\\\\git\\\\kh2lib\\\\examples\\\\Using kh2lib\\\\sephiroth replacement testing\\\\hb01\\\\hb01.ard.json']\n",
      "(None, None)\n"
     ]
    }
   ],
   "source": [
    "name = \"Yuffie (2)\"\n",
    "\n",
    "new_sp = sp\n",
    "\n",
    "obj = None\n",
    "for char in enemies:\n",
    "    for var in enemies[char][\"variations\"]:\n",
    "        if var == name:\n",
    "            obj = (enemies[char][\"obj_id\"], enemies[char][\"variations\"][var][\"vars\"])\n",
    "if not obj:\n",
    "    raise Exception(\"Name not found\")\n",
    "    \n",
    "seph = sp[0][\"Entities\"][3]\n",
    "seph[\"ObjectId\"] = obj[0]\n",
    "seph[\"SpawnArgument\"] = obj[1][0]\n",
    "seph[\"Argument1\"] = obj[1][1]\n",
    "seph[\"Argument2\"] = obj[1][2]\n",
    "\n",
    "yaml.dump(sp, open(\"b_60_new.spawn.yml\", \"w\"))\n",
    "\n",
    "lib.openkh.spawnpoint_build(os.path.join(os.getcwd(), \"b_60_new.spawn.yml\"), os.path.join(os.getcwd(), \"hb01\", \"b_60.spawn\"))\n",
    "\n",
    "lib.openkh.bar_build(os.path.join(os.getcwd(),\"hb01\", \"hb01.ard.json\"), BARLOC)"
   ]
  },
  {
   "cell_type": "code",
   "execution_count": 76,
   "metadata": {},
   "outputs": [
    {
     "data": {
      "text/plain": [
       "{'ObjectId': 2296,\n",
       " 'PositionX': -324.8489990234375,\n",
       " 'PositionY': 1.6920849930102122e-06,\n",
       " 'PositionZ': 1533.1300048828125,\n",
       " 'RotationX': 0,\n",
       " 'RotationY': 0,\n",
       " 'RotationZ': 0,\n",
       " 'SpawnType': 0,\n",
       " 'SpawnArgument': 0,\n",
       " 'Serial': 34,\n",
       " 'Argument1': 0,\n",
       " 'Argument2': 0,\n",
       " 'ReactionCommand': 0,\n",
       " 'SpawnDelay': 0,\n",
       " 'Command': 0,\n",
       " 'SpawnRange': 0,\n",
       " 'Level': 0,\n",
       " 'Medal': 0}"
      ]
     },
     "execution_count": 76,
     "metadata": {},
     "output_type": "execute_result"
    }
   ],
   "source": [
    "seph"
   ]
  },
  {
   "cell_type": "code",
   "execution_count": 16,
   "metadata": {},
   "outputs": [],
   "source": []
  },
  {
   "cell_type": "code",
   "execution_count": 17,
   "metadata": {},
   "outputs": [
    {
     "data": {
      "text/plain": [
       "[{'Type': 1,\n",
       "  'Flag': 0,\n",
       "  'Id': 162,\n",
       "  'Teleport': {'Place': 0, 'Door': 0, 'World': 0, 'Unknown': 0},\n",
       "  'Unk20': 0,\n",
       "  'Unk24': 0,\n",
       "  'Entities': [{'ObjectId': 566,\n",
       "    'PositionX': -324.8489074707031,\n",
       "    'PositionY': 1.6920849930102122e-06,\n",
       "    'PositionZ': 783.1298828125,\n",
       "    'RotationX': 0,\n",
       "    'RotationY': 3.1415927410125732,\n",
       "    'RotationZ': 0,\n",
       "    'SpawnType': 0,\n",
       "    'SpawnArgument': 0,\n",
       "    'Serial': 17,\n",
       "    'Argument1': 0,\n",
       "    'Argument2': 0,\n",
       "    'ReactionCommand': 0,\n",
       "    'SpawnDelay': 0,\n",
       "    'Command': 0,\n",
       "    'SpawnRange': 0,\n",
       "    'Level': 0,\n",
       "    'Medal': 0},\n",
       "   {'ObjectId': 567,\n",
       "    'PositionX': -424.8489074707031,\n",
       "    'PositionY': 6.469726213254035e-05,\n",
       "    'PositionZ': 683.1298828125,\n",
       "    'RotationX': 0,\n",
       "    'RotationY': 3.1415927410125732,\n",
       "    'RotationZ': 0,\n",
       "    'SpawnType': 0,\n",
       "    'SpawnArgument': 0,\n",
       "    'Serial': 18,\n",
       "    'Argument1': 0,\n",
       "    'Argument2': 0,\n",
       "    'ReactionCommand': 0,\n",
       "    'SpawnDelay': 0,\n",
       "    'Command': 0,\n",
       "    'SpawnRange': 0,\n",
       "    'Level': 0,\n",
       "    'Medal': 0},\n",
       "   {'ObjectId': 568,\n",
       "    'PositionX': -224.84890747070312,\n",
       "    'PositionY': -2.161584052373655e-05,\n",
       "    'PositionZ': 683.1298828125,\n",
       "    'RotationX': 0,\n",
       "    'RotationY': 3.1415927410125732,\n",
       "    'RotationZ': 0,\n",
       "    'SpawnType': 0,\n",
       "    'SpawnArgument': 0,\n",
       "    'Serial': 19,\n",
       "    'Argument1': 0,\n",
       "    'Argument2': 0,\n",
       "    'ReactionCommand': 0,\n",
       "    'SpawnDelay': 0,\n",
       "    'Command': 0,\n",
       "    'SpawnRange': 0,\n",
       "    'Level': 0,\n",
       "    'Medal': 0},\n",
       "   {'ObjectId': 1528,\n",
       "    'PositionX': -324.8489990234375,\n",
       "    'PositionY': 1.6920849930102122e-06,\n",
       "    'PositionZ': 1533.1300048828125,\n",
       "    'RotationX': 0,\n",
       "    'RotationY': 0,\n",
       "    'RotationZ': 0,\n",
       "    'SpawnType': 0,\n",
       "    'SpawnArgument': 0,\n",
       "    'Serial': 34,\n",
       "    'Argument1': 0,\n",
       "    'Argument2': 0,\n",
       "    'ReactionCommand': 0,\n",
       "    'SpawnDelay': 0,\n",
       "    'Command': 0,\n",
       "    'SpawnRange': 0,\n",
       "    'Level': 0,\n",
       "    'Medal': 0}],\n",
       "  'EventActivators': [],\n",
       "  'WalkPath': [],\n",
       "  'ReturnParameters': [],\n",
       "  'Signals': []}]"
      ]
     },
     "execution_count": 17,
     "metadata": {},
     "output_type": "execute_result"
    }
   ],
   "source": [
    "sp"
   ]
  },
  {
   "cell_type": "code",
   "execution_count": null,
   "metadata": {},
   "outputs": [],
   "source": []
  }
 ],
 "metadata": {
  "kernelspec": {
   "display_name": "Python 3",
   "language": "python",
   "name": "python3"
  },
  "language_info": {
   "codemirror_mode": {
    "name": "ipython",
    "version": 3
   },
   "file_extension": ".py",
   "mimetype": "text/x-python",
   "name": "python",
   "nbconvert_exporter": "python",
   "pygments_lexer": "ipython3",
   "version": "3.8.5"
  }
 },
 "nbformat": 4,
 "nbformat_minor": 2
}
