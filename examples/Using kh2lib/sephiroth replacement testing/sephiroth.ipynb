{
 "cells": [
  {
   "cell_type": "code",
   "execution_count": 165,
   "metadata": {},
   "outputs": [
    {
     "name": "stderr",
     "output_type": "stream",
     "text": [
      "<ipython-input-165-c9083fb95356>:8: YAMLLoadWarning: calling yaml.load() without Loader=... is deprecated, as the default Loader is unsafe. Please read https://msg.pyyaml.org/load for full details.\n",
      "  sp = yaml.load(open(\"b_60.spawn.yml\"))\n"
     ]
    },
    {
     "name": "stdout",
     "output_type": "stream",
     "text": [
      "['repoint', '-o', 'C:\\\\Users\\\\15037\\\\git\\\\kh2lib\\\\examples\\\\Using kh2lib\\\\sephiroth replacement testing\\\\hb01\\\\b_60.spawn', 'C:\\\\Users\\\\15037\\\\git\\\\kh2lib\\\\examples\\\\Using kh2lib\\\\sephiroth replacement testing\\\\b_60_new.spawn.yml']\n",
      "(None, None)\n",
      "['pack', '-o', 'C:\\\\Users\\\\15037\\\\Desktop\\\\KH_Games\\\\KH2\\\\KH2\\\\ard\\\\hb01.ard', 'C:\\\\Users\\\\15037\\\\git\\\\kh2lib\\\\examples\\\\Using kh2lib\\\\sephiroth replacement testing\\\\hb01\\\\hb01.ard.json']\n",
      "(None, None)\n"
     ]
    }
   ],
   "source": [
    "name = \"Wight Knight NM\"\n",
    "\n",
    "msn = \"LK05_MS101\"\n",
    "useadds = False\n",
    "adds = [\n",
    "    {\"ObjectId\": 314, \"Argument1\": 1}\n",
    "]\n",
    "sp = yaml.load(open(\"b_60.spawn.yml\"))\n",
    "import shutil\n",
    "\n",
    "new_sp = get_new_sp(sp, name, msn, useadds, adds)\n",
    "yaml.dump(sp, open(\"b_60_new.spawn.yml\", \"w\"))\n",
    "lib.openkh.spawnpoint_build(os.path.join(os.getcwd(), \"b_60_new.spawn.yml\"), os.path.join(os.getcwd(), \"hb01\", \"b_60.spawn\"))\n",
    "lib.openkh.bar_build(os.path.join(os.getcwd(),\"hb01\", \"hb01.ard.json\"), BARLOC)"
   ]
  },
  {
   "cell_type": "code",
   "execution_count": 5,
   "metadata": {
    "scrolled": true
   },
   "outputs": [
    {
     "name": "stdout",
     "output_type": "stream",
     "text": [
      "['unpack', '-o', 'C:\\\\Users\\\\15037\\\\git\\\\kh2lib\\\\examples\\\\Using kh2lib\\\\sephiroth replacement testing\\\\hb01', 'C:\\\\Users\\\\15037\\\\Desktop\\\\KH_Games\\\\KH2\\\\KH2\\\\ard\\\\hb01.ard']\n",
      "(None, None)\n"
     ]
    }
   ],
   "source": [
    "# First create the kh2lib object\n",
    "from kh2lib.kh2lib import kh2lib\n",
    "import os, json, yaml\n",
    "lib = kh2lib()\n",
    "if not os.path.isdir(\"workspace\"):\n",
    "    os.mkdir(\"workspace\")\n",
    "\n",
    "BARLOC = os.path.join(lib.gamedir, \"KH2\", \"ard\", \"hb01.ard\")\n",
    "\n",
    "lib.openkh.bar_extract(BARLOC, os.path.join(os.getcwd(),\"hb01\"))\n",
    "\n",
    "def get_new_sp(sp, name, msn, useadds, adds):\n",
    "    from khbr.randomizer import KingdomHearts2\n",
    "    kh2en = KingdomHearts2().enemy_records\n",
    "    if name in kh2en:\n",
    "        obj = kh2en[name]\n",
    "    else:\n",
    "        raise Exception(\"Name not found\")    \n",
    "    \n",
    "    msn = msn or obj[\"msn\"] if \"msn\" in obj else None\n",
    "    \n",
    "    seph = sp[0][\"Entities\"][3]\n",
    "    seph[\"ObjectId\"] = obj[\"obj_id\"]\n",
    "    seph[\"Argument1\"] = obj[\"vars\"][0]\n",
    "    seph[\"Argument2\"] = obj[\"vars\"][1]\n",
    "\n",
    "    new_sp = sp\n",
    "\n",
    "    if useadds:\n",
    "        for add in adds:\n",
    "            newent = dict(seph)\n",
    "            for k in add:\n",
    "                newent[k] = add[k]\n",
    "            sp[0][\"Entities\"].append(newent)\n",
    "    elif \"adds\" in obj:\n",
    "        for add in obj[\"adds\"]:\n",
    "            addobj = kh2en[add[\"name\"]]\n",
    "            newent = dict(seph)\n",
    "            newent[\"ObjectId\"] = addobj[\"obj_id\"]\n",
    "            newent[\"Argument1\"] = addobj[\"vars\"][0]\n",
    "            newent[\"Argument2\"] = addobj[\"vars\"][1]\n",
    "\n",
    "            sp[0][\"Entities\"].append(newent)\n",
    "            \n",
    "    msn_base_dir = os.path.join(lib.gamedir, \"KH2\", \"msn\", \"jp\")\n",
    "    if msn:\n",
    "        shutil.copy(os.path.join(msn_base_dir, msn+\".bar\"),os.path.join(msn_base_dir, \"HB01_MS601.bar\"))\n",
    "\n",
    "    return new_sp"
   ]
  },
  {
   "cell_type": "code",
   "execution_count": null,
   "metadata": {},
   "outputs": [],
   "source": []
  }
 ],
 "metadata": {
  "kernelspec": {
   "display_name": "Python 3",
   "language": "python",
   "name": "python3"
  },
  "language_info": {
   "codemirror_mode": {
    "name": "ipython",
    "version": 3
   },
   "file_extension": ".py",
   "mimetype": "text/x-python",
   "name": "python",
   "nbconvert_exporter": "python",
   "pygments_lexer": "ipython3",
   "version": "3.8.5"
  }
 },
 "nbformat": 4,
 "nbformat_minor": 2
}
