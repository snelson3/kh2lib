{
 "cells": [
  {
   "cell_type": "code",
   "execution_count": null,
   "metadata": {},
   "outputs": [],
   "source": [
    "# First create the kh2lib object\n",
    "from kh2lib.kh2lib import kh2lib\n",
    "import os, json, yaml\n",
    "lib = kh2lib()\n",
    "if not os.path.isdir(\"workspace\"):\n",
    "    os.mkdir(\"workspace\")\n",
    "\n",
    "BARLOC = os.path.join(lib.gamedir, \"KH2\", \"ard\", \"eh23.ard\")\n",
    "\n",
    "lib.openkh.bar_extract(BARLOC, os.path.join(os.getcwd(),\"eh23\"))"
   ]
  },
  {
   "cell_type": "code",
   "execution_count": 15,
   "metadata": {},
   "outputs": [
    {
     "name": "stderr",
     "output_type": "stream",
     "text": [
      "<ipython-input-15-5ab89e94526a>:8: YAMLLoadWarning: calling yaml.load() without Loader=... is deprecated, as the default Loader is unsafe. Please read https://msg.pyyaml.org/load for full details.\n",
      "  sp_dragon = yaml.load(open(\"m_50.spawn\"))\n",
      "<ipython-input-15-5ab89e94526a>:9: YAMLLoadWarning: calling yaml.load() without Loader=... is deprecated, as the default Loader is unsafe. Please read https://msg.pyyaml.org/load for full details.\n",
      "  sp_buildings = yaml.load(open(\"b_40.spawn\"))\n",
      "<ipython-input-15-5ab89e94526a>:10: YAMLLoadWarning: calling yaml.load() without Loader=... is deprecated, as the default Loader is unsafe. Please read https://msg.pyyaml.org/load for full details.\n",
      "  sp_actors = yaml.load(open(\"b_99.spawn\"))\n"
     ]
    },
    {
     "name": "stdout",
     "output_type": "stream",
     "text": [
      "['repoint', '-o', 'C:\\\\Users\\\\Arcade\\\\Desktop\\\\git\\\\kh2lib\\\\examples\\\\Using kh2lib\\\\sephiroth replacement testing\\\\eh23\\\\m_50.spawn', 'C:\\\\Users\\\\Arcade\\\\Desktop\\\\git\\\\kh2lib\\\\examples\\\\Using kh2lib\\\\sephiroth replacement testing\\\\m_50_new.spawn.yml']\n",
      "(None, None)\n",
      "['repoint', '-o', 'C:\\\\Users\\\\Arcade\\\\Desktop\\\\git\\\\kh2lib\\\\examples\\\\Using kh2lib\\\\sephiroth replacement testing\\\\eh23\\\\b_40.spawn', 'C:\\\\Users\\\\Arcade\\\\Desktop\\\\git\\\\kh2lib\\\\examples\\\\Using kh2lib\\\\sephiroth replacement testing\\\\b_40_new.spawn.yml']\n",
      "(None, None)\n",
      "['repoint', '-o', 'C:\\\\Users\\\\Arcade\\\\Desktop\\\\git\\\\kh2lib\\\\examples\\\\Using kh2lib\\\\sephiroth replacement testing\\\\eh23\\\\b_99.spawn', 'C:\\\\Users\\\\Arcade\\\\Desktop\\\\git\\\\kh2lib\\\\examples\\\\Using kh2lib\\\\sephiroth replacement testing\\\\b_99_new.spawn.yml']\n",
      "(None, None)\n",
      "['pack', '-o', 'C:\\\\Users\\\\Arcade\\\\Desktop\\\\pcsx2-ex\\\\KH2\\\\KH2\\\\ard\\\\eh23.ard', 'C:\\\\Users\\\\Arcade\\\\Desktop\\\\git\\\\kh2lib\\\\examples\\\\Using kh2lib\\\\sephiroth replacement testing\\\\eh23\\\\eh23.ard.json']\n",
      "(None, None)\n"
     ]
    }
   ],
   "source": [
    "name = \"Barbossa\"\n",
    "\n",
    "msn = None\n",
    "useadds = True\n",
    "adds = [\n",
    "#     {\"ObjectId\": 358}\n",
    "]\n",
    "sp_dragon = yaml.load(open(\"m_50.spawn\"))\n",
    "sp_buildings = yaml.load(open(\"b_40.spawn\"))\n",
    "sp_actors = yaml.load(open(\"b_99.spawn\"))\n",
    "import shutil\n",
    "\n",
    "sp_dragon[0][\"Entities\"][0][\"ObjectId\"] = 0\n",
    "\n",
    "for spid in sp_buildings:\n",
    "    for ent in spid[\"Entities\"]:\n",
    "        if ent[\"ObjectId\"] == 1766:\n",
    "            ent[\"ObjectId\"] = 0\n",
    "\n",
    "new_sp = get_new_sp(sp_actors, name, msn, useadds, adds)\n",
    "yaml.dump(sp_actors, open(\"b_99_new.spawn.yml\", \"w\"))\n",
    "yaml.dump(sp_buildings, open(\"b_40_new.spawn.yml\", \"w\"))\n",
    "yaml.dump(sp_dragon, open(\"m_50_new.spawn.yml\", \"w\"))\n",
    "lib.openkh.spawnpoint_build(os.path.join(os.getcwd(), \"m_50_new.spawn.yml\"), os.path.join(os.getcwd(), \"eh23\", \"m_50.spawn\"))\n",
    "lib.openkh.spawnpoint_build(os.path.join(os.getcwd(), \"b_40_new.spawn.yml\"), os.path.join(os.getcwd(), \"eh23\", \"b_40.spawn\"))\n",
    "lib.openkh.spawnpoint_build(os.path.join(os.getcwd(), \"b_99_new.spawn.yml\"), os.path.join(os.getcwd(), \"eh23\", \"b_99.spawn\"))\n",
    "lib.openkh.bar_build(os.path.join(os.getcwd(),\"eh23\", \"eh23.ard.json\"), BARLOC)"
   ]
  },
  {
   "cell_type": "code",
   "execution_count": 16,
   "metadata": {
    "scrolled": true
   },
   "outputs": [],
   "source": [
    "\n",
    "\n",
    "def get_new_sp(sp, name, msn, useadds, adds):\n",
    "    from khbr.randomizer import KingdomHearts2\n",
    "    kh2en = KingdomHearts2().enemy_records\n",
    "    if name in kh2en:\n",
    "        obj = kh2en[name]\n",
    "    else:\n",
    "        raise Exception(\"Name not found\")    \n",
    "    \n",
    "    msn = msn or obj[\"msn\"] if \"msn\" in obj else None\n",
    "\n",
    "    \n",
    "    \n",
    "    sora = sp[0][\"Entities\"][0]\n",
    "    sora[\"PositionY\"] = 14940\n",
    "    bossz = float(sora[\"PositionZ\"])\n",
    "    sora[\"PositionZ\"] = float(sp[0][\"Entities\"][2][\"PositionZ\"])\n",
    "    \n",
    "    riku = sp[0][\"Entities\"][1]\n",
    "    riku[\"PositionY\"] = 14940\n",
    "    riku[\"PositionZ\"] = float(sp[0][\"Entities\"][2][\"PositionZ\"])\n",
    "    \n",
    "    \n",
    "    seph = sp[0][\"Entities\"][2]\n",
    "    seph[\"ObjectId\"] = obj[\"obj_id\"]\n",
    "    seph[\"PositionY\"] = 14940\n",
    "    seph[\"PositionZ\"] = bossz\n",
    "    seph[\"Argument1\"] = obj[\"vars\"][0]\n",
    "    seph[\"Argument2\"] = obj[\"vars\"][1]\n",
    "\n",
    "    new_sp = sp\n",
    "\n",
    "    if useadds:\n",
    "        for add in adds:\n",
    "            newent = dict(seph)\n",
    "            for k in add:\n",
    "                newent[k] = add[k]\n",
    "            sp[0][\"Entities\"].append(newent)\n",
    "    elif \"adds\" in obj:\n",
    "        for add in obj[\"adds\"]:\n",
    "            addobj = kh2en[add[\"name\"]]\n",
    "            newent = dict(seph)\n",
    "            newent[\"ObjectId\"] = addobj[\"obj_id\"]\n",
    "            newent[\"Argument1\"] = addobj[\"vars\"][0]\n",
    "            newent[\"Argument2\"] = addobj[\"vars\"][1]\n",
    "\n",
    "            sp[0][\"Entities\"].append(newent)\n",
    "            \n",
    "    msn_base_dir = os.path.join(lib.gamedir, \"KH2\", \"msn\", \"jp\")\n",
    "    if msn:\n",
    "        shutil.copy(os.path.join(msn_base_dir, msn+\".bar\"),os.path.join(msn_base_dir, \"HB01_MS601.bar\"))\n",
    "\n",
    "    return new_sp"
   ]
  },
  {
   "cell_type": "code",
   "execution_count": null,
   "metadata": {},
   "outputs": [],
   "source": []
  }
 ],
 "metadata": {
  "kernelspec": {
   "display_name": "Python 3",
   "language": "python",
   "name": "python3"
  },
  "language_info": {
   "codemirror_mode": {
    "name": "ipython",
    "version": 3
   },
   "file_extension": ".py",
   "mimetype": "text/x-python",
   "name": "python",
   "nbconvert_exporter": "python",
   "pygments_lexer": "ipython3",
   "version": "3.8.5"
  }
 },
 "nbformat": 4,
 "nbformat_minor": 2
}
