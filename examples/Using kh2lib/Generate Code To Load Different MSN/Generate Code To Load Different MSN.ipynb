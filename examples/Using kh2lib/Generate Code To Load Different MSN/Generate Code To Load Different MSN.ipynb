{
 "cells": [
  {
   "cell_type": "code",
   "execution_count": 2,
   "metadata": {},
   "outputs": [],
   "source": [
    "# Note this only works for MSN's within the same world, otherwise the game fails to load any MSN\n",
    "from kh2lib.kh2lib import kh2lib\n",
    "import os, json\n",
    "lib = kh2lib()\n",
    "if not os.path.isdir(\"workspace\"):\n",
    "    os.mkdir(\"workspace\")\n",
    "old_msn = \"MU07_MS201\"\n",
    "new_msn = \"MU09_MS108\""
   ]
  },
  {
   "cell_type": "code",
   "execution_count": 10,
   "metadata": {},
   "outputs": [
    {
     "data": {
      "text/plain": [
       "['0x00b43b84', '0x0171b284']"
      ]
     },
     "execution_count": 10,
     "metadata": {},
     "output_type": "execute_result"
    }
   ],
   "source": [
    "# Create a memdump in the room with the msn you want to replace\n",
    "# search that memdump for locations where the MSN name is located\n",
    "# In my testing you can use any one of the 4 locations that should appear, and it will work the same\n",
    "# I would recommend creating a savestate in the cutscene/room before the fight loads, to make testing easier\n",
    "dumppth = 'C:\\\\Users\\\\12sam\\\\Desktop\\\\xeemo\\\\TT34_MS304 (Twilight Thorn)'\n",
    "lib.parsingengine.load_memdump(dumppth)\n",
    "addresses = lib.parsingengine.search_substr(bytearray([0x62,0x5F,0x65,0x78,0x31,0x30,0x30,0x0,0x0,0x0,0x0,0x0,0x0,0x0,0x0,0x0,0x60,0x14]))\n",
    "addresses\n",
    "# 0x0171b284'"
   ]
  },
  {
   "cell_type": "code",
   "execution_count": 3,
   "metadata": {},
   "outputs": [
    {
     "data": {
      "text/plain": [
       "['21c31228 3930554d', '21c3122c 31534d5f', '21c31230 00003830']"
      ]
     },
     "execution_count": 3,
     "metadata": {},
     "output_type": "execute_result"
    }
   ],
   "source": [
    "\n",
    "starting_address = addresses[1][2:]\n",
    "\n",
    "toByte = lambda b, n: hex(b)[2:].zfill(n)\n",
    "padded_msn = new_msn[::-1].zfill(len(old_msn))[::-1]\n",
    "bytes_msn = padded_msn.encode('utf-8')\n",
    "words = []\n",
    "codes = []\n",
    "for i in range(0, len(bytes_msn), 4):\n",
    "    byte = bytes_msn[i:i+4]\n",
    "    def _getByte(n):\n",
    "        if n >= len(bytes_msn):\n",
    "            return 0\n",
    "        return bytes_msn[n]\n",
    "    word = {\"addr\": int(starting_address,16)+i, \"value\": bytearray([_getByte(i),_getByte(i+1),_getByte(i+2),_getByte(i+3)])}\n",
    "    words.append(word)\n",
    "for word in words:\n",
    "    codes.append(\"{} {}\".format(toByte(word[\"addr\"], 8), ''.join([toByte(i,2) for i in word[\"value\"]][::-1])))\n",
    "codes = [code[0].replace(\"0\",\"2\") + code[1:] for code in codes]\n",
    "codes"
   ]
  },
  {
   "cell_type": "code",
   "execution_count": 4,
   "metadata": {},
   "outputs": [
    {
     "name": "stdout",
     "output_type": "stream",
     "text": [
      "patch=1,EE,21C31228,extended,3930554D\n",
      "\n",
      "patch=1,EE,21C3122C,extended,31534D5F\n",
      "\n",
      "patch=1,EE,21C31230,extended,00003830\n",
      "\n"
     ]
    }
   ],
   "source": [
    "lib.cheatengine.apply_ram_code(codes)\n",
    "lib.cheatengine.write_pnach(debug=True)"
   ]
  },
  {
   "cell_type": "code",
   "execution_count": null,
   "metadata": {},
   "outputs": [],
   "source": []
  }
 ],
 "metadata": {
  "kernelspec": {
   "display_name": "Python 3",
   "language": "python",
   "name": "python3"
  },
  "language_info": {
   "codemirror_mode": {
    "name": "ipython",
    "version": 3
   },
   "file_extension": ".py",
   "mimetype": "text/x-python",
   "name": "python",
   "nbconvert_exporter": "python",
   "pygments_lexer": "ipython3",
   "version": "3.7.4"
  }
 },
 "nbformat": 4,
 "nbformat_minor": 2
}
