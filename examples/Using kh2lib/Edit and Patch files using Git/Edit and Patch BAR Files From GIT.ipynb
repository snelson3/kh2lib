{
 "cells": [
  {
   "cell_type": "code",
   "execution_count": 2,
   "metadata": {},
   "outputs": [],
   "source": [
    "# Before starting make sure to create a local git repository and commit the entire extracted contents of a KH2FM ISO\n",
    "from kh2lib.kh2lib import kh2lib\n",
    "lib = kh2lib()\n",
    "import os\n",
    "if not os.path.isdir(\"workspace\"):\n",
    "    os.mkdir(\"workspace\")"
   ]
  },
  {
   "cell_type": "code",
   "execution_count": 7,
   "metadata": {},
   "outputs": [],
   "source": [
    "# Specify the BAR file to extract\n",
    "name=\"B_EX170\"\n",
    "extension=\"mdlx\"\n",
    "\n",
    "BARFILE = os.path.join(os.environ[\"USE_KH2_GITPATH\"], \"KH2\", \"obj\", name+\".\"+extension)\n",
    "if not os.path.isfile(BARFILE):\n",
    "    raise Exception(\"File not Found: {}\".format(BARFILE))"
   ]
  },
  {
   "cell_type": "code",
   "execution_count": 8,
   "metadata": {},
   "outputs": [],
   "source": [
    "lib.editengine.bar_extract(BARFILE, os.path.join(os.getcwd(),\"workspace\",name))"
   ]
  },
  {
   "cell_type": "code",
   "execution_count": 9,
   "metadata": {},
   "outputs": [],
   "source": [
    "# Once you are done making changes to the extracted bar, pack it back in to a bar and replace the original file \n",
    "lib.editengine.bar_build(os.path.join(os.getcwd(),\"workspace\", name, \"{}.{}.json\".format(name,extension)), BARFILE)"
   ]
  },
  {
   "cell_type": "code",
   "execution_count": 10,
   "metadata": {},
   "outputs": [
    {
     "name": "stdout",
     "output_type": "stream",
     "text": [
      "b' M KH2/msn/jp/EH21_MS101.bar\\n M KH2/obj/B_EX170.mdlx\\n'\n",
      "(b'KH2FM_Toolkit\\nVersion PRE-3.0\\nDEVELOPER RELEASE\\n\\nProgrammed by GovanifY\\nhttp://www.govanify.com\\nhttp://www.twitter.com/GovanifY\\nSoftware under GPL 2 license, for more info, use the command -license\\n\\nThis tool is able to create patches for the software KH2FM_Toolkit.\\nIt can add files using the internal compression of the game \\nKingdom Hearts 2(Final Mix), relink files to others, recreate\\nthe iso without size limits and without corruption.\\nThis patch system is the best ever made for this game atm.\\n\\nPress enter to run using the file: patch.kh2patchOther information (leave blank to continue): Filenames may be formatted as text (msg/jp/lk.bar) or hash (0x030b45da).\\r\\n\\nEnter filename:   Using \"msn/jp/EH21_MS101.bar\" for A460EA80\\r\\nRelink to this filename(ex: 000al.idx) [Blank for none]: Compress this file? [Y/n] Parent compressed file [Leave blank for KH2]:   Using \"KH2\" for 00000000\\r\\nShould this file be added if he\\'s not in the game? [y/N] \\nEnter filename:   Using \"obj/B_EX170.mdlx\" for 9F9CE77C\\r\\nRelink to this filename(ex: 000al.idx) [Blank for none]: Compress this file? [Y/n] Parent compressed file [Leave blank for KH2]:   Using \"KH2\" for 00000000\\r\\nShould this file be added if he\\'s not in the game? [y/N] \\nEnter filename: Compressing EH21_MS101.bar:   Compressed to 50% of the original size!\\r\\nCompressing B_EX170.mdlx:   Compressed to 79% of the original size!\\r\\nPatch created.\\r\\n', None)\n",
      "patch created\n",
      "patching the game\n",
      "all done\n"
     ]
    }
   ],
   "source": [
    "# Make changes to any other files you want, and then create a patched ISO based on the git working tree of the\n",
    "# extracted ISO\n",
    "lib.patch_game(fromgit=True)"
   ]
  },
  {
   "cell_type": "code",
   "execution_count": null,
   "metadata": {},
   "outputs": [],
   "source": []
  }
 ],
 "metadata": {
  "kernelspec": {
   "display_name": "Python 3",
   "language": "python",
   "name": "python3"
  },
  "language_info": {
   "codemirror_mode": {
    "name": "ipython",
    "version": 3
   },
   "file_extension": ".py",
   "mimetype": "text/x-python",
   "name": "python",
   "nbconvert_exporter": "python",
   "pygments_lexer": "ipython3",
   "version": "3.7.4"
  }
 },
 "nbformat": 4,
 "nbformat_minor": 2
}
