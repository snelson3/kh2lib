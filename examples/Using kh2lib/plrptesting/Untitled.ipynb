{
 "cells": [
  {
   "cell_type": "code",
   "execution_count": 21,
   "metadata": {
    "scrolled": true
   },
   "outputs": [
    {
     "name": "stdout",
     "output_type": "stream",
     "text": [
      "['unpack', '-o', 'C:\\\\Users\\\\12sam\\\\Documents\\\\GitHub\\\\kh2lib\\\\examples\\\\Using kh2lib\\\\plrptesting\\\\tempbattle', 'C:\\\\Users\\\\12sam\\\\Desktop\\\\KH_Games\\\\KH2\\\\ISO\\\\export\\\\KH2\\\\00battle.bin']\n",
      "(None, None)\n",
      "['pack', '-o', 'C:\\\\Users\\\\12sam\\\\Desktop\\\\KH_Games\\\\KH2\\\\ISO\\\\export\\\\KH2\\\\00battle.bin', 'C:\\\\Users\\\\12sam\\\\Documents\\\\GitHub\\\\kh2lib\\\\examples\\\\Using kh2lib\\\\plrptesting\\\\tempbattle\\\\00battle.bin.json']\n",
      "(None, None)\n",
      "['unpack', '-o', 'C:\\\\Users\\\\12sam\\\\Documents\\\\GitHub\\\\kh2lib\\\\examples\\\\Using kh2lib\\\\plrptesting\\\\tempard', 'C:\\\\Users\\\\12sam\\\\Desktop\\\\KH_Games\\\\KH2\\\\ISO\\\\export\\\\KH2\\\\ard\\\\tt01.ard']\n",
      "(None, None)\n",
      "['compile', '-o', 'C:\\\\Users\\\\12sam\\\\Documents\\\\GitHub\\\\kh2lib\\\\examples\\\\Using kh2lib\\\\plrptesting\\\\tempard\\\\evt.script', 'C:\\\\Users\\\\12sam\\\\Documents\\\\GitHub\\\\kh2lib\\\\examples\\\\Using kh2lib\\\\plrptesting\\\\tempard\\\\spawnscript']\n",
      "(None, None)\n",
      "['pack', '-o', 'C:\\\\Users\\\\12sam\\\\Desktop\\\\KH_Games\\\\KH2\\\\ISO\\\\export\\\\KH2\\\\ard\\\\tt01.ard', 'C:\\\\Users\\\\12sam\\\\Documents\\\\GitHub\\\\kh2lib\\\\examples\\\\Using kh2lib\\\\plrptesting\\\\tempard\\\\tt01.ard.json']\n",
      "(None, None)\n"
     ]
    }
   ],
   "source": [
    "# First create the kh2lib object\n",
    "from kh2lib.kh2lib import kh2lib\n",
    "import os, json\n",
    "lib = kh2lib()\n",
    "if not os.path.isdir(\"workspace\"):\n",
    "    os.mkdir(\"workspace\")\n",
    "\n",
    "# What I write -> what you get in game\n",
    "# UNCOMMENT DUMMY\n",
    "# ITEMMAP = {ITEMMAP[i]:i for i in ITEMMAP}\n",
    "    \n",
    "ITEMS = [\"Scan\", \"Guard\", \"Dodge Roll LV1\", \"Dodge Roll LV2\", \"Dodge Roll LV3\"] + [\"Reflect Element\" for _ in range(3)] + [\"Decisive Pumpkin\"] + [\"Negative Combo\", \"Negative Combo\"] + \\\n",
    "    [\"Limit Form\"] + [\"Feather Charm (Summon Peter Pan)\"]\n",
    "\n",
    "lib.give_to_sora(hp=120, mp=100, items=ITEMS)\n",
    "# Because the localset seems to control where you go, I wonder if area/entrance control your last entered area???????\n",
    "\n",
    "# 73 - Final Xemnas\n",
    "# 58 - luxord\n",
    "# 56 - saix\n",
    "# 67 terra\n",
    "lib.spawn_in(\"EH\", \"15\", localset=\"58\", entrance=\"0\", jumptype=\"2\", fadetype=\"1\", setflags=[ \"0x84A\", ])"
   ]
  },
  {
   "cell_type": "code",
   "execution_count": null,
   "metadata": {},
   "outputs": [],
   "source": [
    "lib.reset_git()"
   ]
  },
  {
   "cell_type": "code",
   "execution_count": null,
   "metadata": {},
   "outputs": [],
   "source": [
    "lib.patch_game(fromgit=True, useModManager=False)"
   ]
  },
  {
   "cell_type": "code",
   "execution_count": null,
   "metadata": {},
   "outputs": [],
   "source": [
    "v = {}\n",
    "for va in inventory.values():\n",
    "    if va not in v:\n",
    "        v[va] = 0\n",
    "    v[va] += 1\n",
    "for k in v:\n",
    "    if v[k] > 1:\n",
    "        print(k)"
   ]
  },
  {
   "cell_type": "code",
   "execution_count": null,
   "metadata": {},
   "outputs": [],
   "source": [
    "inventory = {}\n",
    "for line in open(\"inventory\"):\n",
    "    parts = [i.strip() for i in line.split(\"|\")]\n",
    "    inventory[int(parts[1])] = parts[2]\n",
    "characters = {}\n",
    "for line in open(\"characters\"):\n",
    "    parts = [i.strip() for i in line.split(\"|\")]\n",
    "    characters[int(parts[1])] = parts[2]\n",
    "def lookupChar(idt):\n",
    "    if idt in characters:\n",
    "        return characters[idt]\n",
    "    return idt\n",
    "def lookupCharId(name):\n",
    "    if type(name) == type(15):\n",
    "        return name\n",
    "    for k in characters:\n",
    "        if characters[k] == name:\n",
    "            return k\n",
    "def lookupInv(idt_bytearr):\n",
    "    idt_arr = list(idt_bytearr)\n",
    "    idt_arr_bak = str(idt_arr)\n",
    "    name = \"\"\n",
    "    if idt_arr[0] >= 128:\n",
    "        idt_arr[0] -= 128\n",
    "        name = \"EQ\"\n",
    "    idt = idt_arr[1] + 255*idt_arr[0]\n",
    "    if idt in inventory:\n",
    "        return name + inventory[idt]\n",
    "    return idt_arr\n",
    "def lookupInvNum(item):\n",
    "    if type(item) == list:\n",
    "        return item[::-1]\n",
    "    itembytes = [0,0]\n",
    "    if item.startswith(\"EQ\"):\n",
    "        itembytes[0] = 128\n",
    "        item = item[2:]\n",
    "    idt = None\n",
    "    for k in inventory:\n",
    "        if inventory[k] == item:\n",
    "            idt = k\n",
    "    if not idt:\n",
    "        raise Exception(\"Item not found: {}\".format(item))\n",
    "    itembytes[0] = itembytes[0] + idt // 255 # sig byte\n",
    "    itembytes[1] = idt % 255 # insig byte\n",
    "    return itembytes[::-1]"
   ]
  },
  {
   "cell_type": "code",
   "execution_count": null,
   "metadata": {},
   "outputs": [],
   "source": [
    "lookupInvNum(\"EQAuto Limit (I)\")"
   ]
  },
  {
   "cell_type": "code",
   "execution_count": null,
   "metadata": {},
   "outputs": [],
   "source": [
    "568 // 255"
   ]
  },
  {
   "cell_type": "code",
   "execution_count": null,
   "metadata": {},
   "outputs": [],
   "source": [
    "255+162"
   ]
  },
  {
   "cell_type": "code",
   "execution_count": null,
   "metadata": {},
   "outputs": [],
   "source": [
    "lib.openkh.bar_extract(os.path.join(lib.gamedir, \"KH2\", \"00battle.bin\"), os.path.join(os.getcwd(), \"workspace\", \"battle\"))"
   ]
  },
  {
   "cell_type": "code",
   "execution_count": null,
   "metadata": {},
   "outputs": [],
   "source": [
    "import os\n",
    "plrppth = os.path.join(\"workspace\", \"battle\", \"plrp.list\")\n",
    "data = bytearray(open(plrppth, \"rb\").read())\n",
    "toint = lambda k: int(''.join([hex(i)[2:].zfill(2) for i in k]),16)\n",
    "HEADER_LEN = 0x8"
   ]
  },
  {
   "cell_type": "code",
   "execution_count": null,
   "metadata": {
    "scrolled": true
   },
   "outputs": [],
   "source": [
    "subdata = data[8:]\n",
    "character_records = []\n",
    "for i in range(0, len(subdata), 128):\n",
    "    d = {\n",
    "        \"unkid\": toint(subdata[i:i+2]),\n",
    "        \"character\": lookupChar(toint(subdata[i+2:i+3])),\n",
    "        \"hp\": toint(subdata[i+3:i+4]),\n",
    "        \"mp\": toint(subdata[i+4:i+5]),\n",
    "        \"ap\": toint(subdata[i+5:i+6]),\n",
    "        \"armorslots\": toint(subdata[i+6:i+7]),\n",
    "#         \"armorslots2\": toint(subdata[i+7:i+8]),\n",
    "        \"accessoryslots\": toint(subdata[i+8:i+9]),\n",
    "#         \"accessoryslots2\": toint(subdata[i+9:i+10]),\n",
    "        \"itemslots\": toint(subdata[i+10:i+11]),\n",
    "#         \"itemslots2\": toint(subdata[i+11:i+12]),\n",
    "#         \"items\": [lookupInv(toint(subdata[n:n+1])) for n in range(i+9, i+128, 1) if not toint(subdata[n:n+2]) == 0 ]\n",
    "        \"items\": [lookupInv(subdata[n:n+2][::-1]) for n in range(i+12, i+128, 2) if not toint(subdata[n:n+2]) == 0]\n",
    "#         \"items\": [toint(subdata[n:n+2][::-1]) for n in range(i+12, i+128, 2)]\n",
    "    }\n",
    "    character_records.append(d)\n",
    "import yaml\n",
    "yaml.dump(character_records, open(\"character_records.yaml\", \"w\"))"
   ]
  },
  {
   "cell_type": "code",
   "execution_count": null,
   "metadata": {},
   "outputs": [],
   "source": [
    "[i for i in data[:HEADER_LEN]]"
   ]
  },
  {
   "cell_type": "code",
   "execution_count": null,
   "metadata": {},
   "outputs": [],
   "source": [
    "import yaml\n",
    "cr = data[:HEADER_LEN]\n",
    "for c in yaml.load(open(\"character_records_g.yaml\")):\n",
    "    unkid = hex(c[\"unkid\"])[2:].zfill(4)\n",
    "    cr.append(int(unkid[:2], 16))\n",
    "    cr.append(int(unkid[2:], 16))\n",
    "    character = hex(lookupCharId(c[\"character\"]))[2:].zfill(2)\n",
    "    cr.append(int(character, 16))\n",
    "    cr.append( c[\"hp\"])\n",
    "    cr.append( c[\"mp\"])\n",
    "    cr.append( c[\"ap\"])\n",
    "    cr.append( c[\"armorslots\"])\n",
    "    cr.append( c[\"armorslots\"])\n",
    "    cr.append( c[\"accessoryslots\"])\n",
    "    cr.append( c[\"accessoryslots\"])\n",
    "    cr.append( c[\"itemslots\"])\n",
    "    cr.append( c[\"itemslots\"])\n",
    "    if len(c[\"items\"]) > 58:\n",
    "        raise Exception(\"Too many items\")\n",
    "    items = c[\"items\"] + [[0,0] for _ in range(58-len(c[\"items\"]))]\n",
    "    for item in items:\n",
    "        for subbyte in lookupInvNum(item):\n",
    "            cr.append( subbyte )\n",
    "plrppthnew = os.path.join(\"workspace\", \"battle\", \"plrp.list\")\n",
    "open(plrppthnew, \"wb\").write(cr)\n",
    "lib.openkh.bar_build(os.path.join(os.getcwd(), \"workspace\", \"battle\", \"00battle.bin.json\"), os.path.join(lib.gamedir, \"KH2\", \"00battle.bin\"))"
   ]
  },
  {
   "cell_type": "code",
   "execution_count": null,
   "metadata": {},
   "outputs": [],
   "source": [
    "lib.reset_git()"
   ]
  },
  {
   "cell_type": "code",
   "execution_count": null,
   "metadata": {},
   "outputs": [],
   "source": []
  }
 ],
 "metadata": {
  "kernelspec": {
   "display_name": "Python 3",
   "language": "python",
   "name": "python3"
  },
  "language_info": {
   "codemirror_mode": {
    "name": "ipython",
    "version": 3
   },
   "file_extension": ".py",
   "mimetype": "text/x-python",
   "name": "python",
   "nbconvert_exporter": "python",
   "pygments_lexer": "ipython3",
   "version": "3.7.4"
  }
 },
 "nbformat": 4,
 "nbformat_minor": 2
}
