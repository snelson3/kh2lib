{
 "cells": [
  {
   "cell_type": "code",
   "execution_count": null,
   "metadata": {},
   "outputs": [],
   "source": [
    "## In this example we will be changing Xemnas 1's AI so that he works outside of his own arena"
   ]
  },
  {
   "cell_type": "code",
   "execution_count": null,
   "metadata": {},
   "outputs": [],
   "source": [
    "# First create the kh2lib object\n",
    "from kh2lib.kh2lib import kh2lib\n",
    "import os, json\n",
    "lib = kh2lib()"
   ]
  },
  {
   "cell_type": "code",
   "execution_count": null,
   "metadata": {},
   "outputs": [],
   "source": [
    "# Now we need to lookup the filename for xemnas's mdlx object (where the AI file is kept)\n",
    "# This method will return information on all the different Xemnas's, so make sure to locate the correct one\n",
    "lib.get_object(name=\"xemnas\")"
   ]
  },
  {
   "cell_type": "code",
   "execution_count": null,
   "metadata": {},
   "outputs": [],
   "source": [
    "# Now we extract the xemnas BAR into a folder in our workspace\n",
    "MDLX = \"B_EX170.mdlx\"\n",
    "BAR = os.path.join(lib.gitpath, \"KH2\", \"obj\", MDLX)\n",
    "assert os.path.isfile(BAR)\n",
    "lib.editengine.bar_extract(BAR, os.path.join(os.getcwd(), \"workspace\",\"xemnas\"))"
   ]
  },
  {
   "cell_type": "code",
   "execution_count": null,
   "metadata": {},
   "outputs": [],
   "source": [
    "# Open the workspace in a window and copy the b_ex.ai to have an unmodified copy to diff against\n",
    "# Then open the b_ex.ai in a hex editor and make the following changes to the bottom of the file\n",
    "# Find the header definition for these two functions, and replace them with 00s\n",
    "#  warp_building_front\n",
    "#  rc_invitation_to_dark\n",
    "# Alternatively, just edit a decompiled version of this AI file in Ghidra (using Govanify's KH2 plugin)\n",
    "base_file = os.path.join(\"workspace\", \"xemnas\", \"b_ex.ai.base\")\n",
    "mod_file = os.path.join(\"workspace\", \"xemnas\", \"b_ex.ai\")"
   ]
  },
  {
   "cell_type": "code",
   "execution_count": null,
   "metadata": {},
   "outputs": [],
   "source": [
    "# Once that is done, replace Roxas with Xemnas, go to the roxas fight, and create a memdump using emuhaste\n",
    "#  it is recommended to make a savestate in the cutscene before the fight loads, for ease of testing\n",
    "# Place the memdump in the workspacefolder, using whatever name you choose\n",
    "dumpname = \"xemnas_as_roxas.dump\"\n",
    "subdata = lib.parsingengine.load_memdump(os.path.join(\"..\",\"..\",\"research\", dumpname))\n",
    "subdata"
   ]
  },
  {
   "cell_type": "code",
   "execution_count": null,
   "metadata": {},
   "outputs": [],
   "source": [
    "# This method will look through the memdump to try and find where the ai file is located. \n",
    "# If you already know the offset where the file starts, this is uneccessary \n",
    "starting_offset = int(lib.parsingengine.locate_file(base_file),16)\n",
    "starting_offset"
   ]
  },
  {
   "cell_type": "code",
   "execution_count": null,
   "metadata": {},
   "outputs": [],
   "source": [
    "# This code will diff the two versions of the ai file and create codes to make those same changes via RAM\n",
    "codes = lib.parsingengine.generate_codes(str(starting_offset), base_file, mod_file)\n",
    "codes"
   ]
  },
  {
   "cell_type": "code",
   "execution_count": null,
   "metadata": {},
   "outputs": [],
   "source": [
    "# Now we add the codes into the pnach portion of kh2lib, and generate a pnach file in your pcsx 2 directory\n",
    "# Then jusst load your savestate, skip cutscene and start the fight\n",
    "# The \n",
    "lib.patchengine.apply_ram_code(codes)\n",
    "lib.patchengine.write_pnach(debug=True)"
   ]
  }
 ],
 "metadata": {
  "kernelspec": {
   "display_name": "Python 3",
   "language": "python",
   "name": "python3"
  },
  "language_info": {
   "codemirror_mode": {
    "name": "ipython",
    "version": 3
   },
   "file_extension": ".py",
   "mimetype": "text/x-python",
   "name": "python",
   "nbconvert_exporter": "python",
   "pygments_lexer": "ipython3",
   "version": "3.7.4"
  }
 },
 "nbformat": 4,
 "nbformat_minor": 2
}
