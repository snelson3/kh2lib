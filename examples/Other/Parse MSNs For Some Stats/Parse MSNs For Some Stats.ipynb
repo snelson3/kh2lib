{
 "cells": [
  {
   "cell_type": "code",
   "execution_count": 1,
   "metadata": {},
   "outputs": [],
   "source": [
    "from kh2lib.kh2lib import kh2lib\n",
    "lib = kh2lib()\n",
    "import os,json\n",
    "if not os.path.isdir(\"workspace\"):\n",
    "    os.mkdir(\"workspace\")"
   ]
  },
  {
   "cell_type": "code",
   "execution_count": 2,
   "metadata": {},
   "outputs": [],
   "source": [
    "DIR = os.path.join(os.environ[\"USE_KH2_GITPATH\"], \"KH2\", \"msn\", \"jp\")\n",
    "for fn in os.listdir(DIR):\n",
    "    lib.editengine.bar_extract(os.path.join(DIR,fn), os.path.join(os.getcwd(),\"workspace\",\"msns\", fn.split(\".\")[0]))"
   ]
  },
  {
   "cell_type": "code",
   "execution_count": 3,
   "metadata": {},
   "outputs": [],
   "source": [
    "records = []\n",
    "for barfn in os.listdir(os.path.join(os.getcwd(),\"workspace\",\"msns\")):\n",
    "    info = {}\n",
    "    BARDIR = os.path.join(os.getcwd(), \"workspace\", \"msns\", barfn)\n",
    "    info[\"name\"] = barfn\n",
    "    info[\"namelen\"] = len(barfn)\n",
    "    count = 0\n",
    "    for fn in os.listdir(BARDIR):\n",
    "        count += 1\n",
    "        ext = fn.split(\".\")[1]\n",
    "        if \"ext-{}\".format(ext) in info:\n",
    "            info[\"ext-{}\".format(ext)] += 1\n",
    "        else:\n",
    "            info[\"ext-{}\".format(ext)] = 1\n",
    "        if ext == \"ai\":\n",
    "            info[\"ai_os_name\"] = fn.split(\".\")[0]\n",
    "            aifile = open(os.path.join(BARDIR,fn), \"rb\").read()\n",
    "            name = \"\"\n",
    "            for b in range(len(aifile)):\n",
    "                byte = aifile[b]\n",
    "                if byte == 0x0:\n",
    "                    name = aifile[:b].decode('utf-8')\n",
    "                    break\n",
    "            info[\"ai_hex_name\"] = name\n",
    "            info[\"ai_len\"] = len(aifile)\n",
    "        if ext == \"list\":\n",
    "            info[\"list_len\"] = len(open(os.path.join(BARDIR,fn),\"rb\").read())\n",
    "    info[\"filecount\"] = count\n",
    "    records.append(info)"
   ]
  },
  {
   "cell_type": "code",
   "execution_count": 4,
   "metadata": {},
   "outputs": [],
   "source": [
    "c = ''\n",
    "# get total list of ext- filetypes\n",
    "filetypes = []\n",
    "for record in records:\n",
    "    for k in record:\n",
    "        if k.startswith(\"ext-\"):\n",
    "            filetypes.append(k)\n",
    "c = 'name,namelen,ai_os_name,ai_hex_name,ai_len,list_len,filecount,'\n",
    "c += ','.join(set(filetypes))\n",
    "cols = c.split(',')\n",
    "c += \"\\n\""
   ]
  },
  {
   "cell_type": "code",
   "execution_count": 8,
   "metadata": {},
   "outputs": [
    {
     "data": {
      "text/plain": [
       "33595"
      ]
     },
     "execution_count": 8,
     "metadata": {},
     "output_type": "execute_result"
    }
   ],
   "source": [
    "for r in records:\n",
    "    for col in cols:\n",
    "        if col in r:\n",
    "            #print(col,r[col])\n",
    "            c += str(r[col])\n",
    "        c += ','\n",
    "    c+=\"\\n\"\n",
    "c\n",
    "open(os.path.join(\"workspace\", \"msns.csv\"),\"w\").write(c)"
   ]
  },
  {
   "cell_type": "code",
   "execution_count": 10,
   "metadata": {},
   "outputs": [
    {
     "name": "stdout",
     "output_type": "stream",
     "text": [
      "AL00_SKATE_02 has 0 ai files\n",
      "DC02_MS102 has 0 ai files\n",
      "EH25_MS109 has 0 ai files\n",
      "EH27_MS106 has 0 ai files\n",
      "EH28_MS107 has 0 ai files\n",
      "HB02_KINOKO_ROX has 0 ai files\n",
      "HB09_SKATE_02 has 0 ai files\n",
      "NM09_SKATE_02 has 0 ai files\n",
      "TT04_MS106 has 0 ai files\n",
      "WORLDMAP has 0 ai files\n"
     ]
    }
   ],
   "source": [
    "for dr in os.listdir(os.path.join(os.getcwd(), \"workspace\", \"msns\")):\n",
    "    aicount = 0\n",
    "    listcount = 0\n",
    "    for fn in os.listdir(os.path.join(os.getcwd(),\"workspace\",\"msns\",dr)):\n",
    "        ext = fn.split(\".\")[-1]\n",
    "        if ext == \"ai\":\n",
    "            aicount += 1\n",
    "        if ext == \"list\":\n",
    "            listcount += 1\n",
    "    if aicount != 1:\n",
    "        print(\"{} has {} ai files\".format(dr, aicount))\n",
    "    if listcount != 1:\n",
    "        print(\"{} has {} list files\".format(dr, listcount))\n",
    "    # loop through and see stuff"
   ]
  },
  {
   "cell_type": "code",
   "execution_count": null,
   "metadata": {},
   "outputs": [],
   "source": []
  }
 ],
 "metadata": {
  "kernelspec": {
   "display_name": "Python 3",
   "language": "python",
   "name": "python3"
  },
  "language_info": {
   "codemirror_mode": {
    "name": "ipython",
    "version": 3
   },
   "file_extension": ".py",
   "mimetype": "text/x-python",
   "name": "python",
   "nbconvert_exporter": "python",
   "pygments_lexer": "ipython3",
   "version": "3.7.4"
  }
 },
 "nbformat": 4,
 "nbformat_minor": 2
}
