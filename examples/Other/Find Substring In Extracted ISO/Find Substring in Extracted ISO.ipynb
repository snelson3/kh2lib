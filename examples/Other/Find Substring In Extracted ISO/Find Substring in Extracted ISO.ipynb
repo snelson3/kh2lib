{
 "cells": [
  {
   "cell_type": "code",
   "execution_count": 1,
   "metadata": {
    "scrolled": false
   },
   "outputs": [
    {
     "name": "stdout",
     "output_type": "stream",
     "text": [
      "C:\\Users\\12sam\\Desktop\\Kingdom Hearts 2 Modding\\ISO\\export\\KH2\\effect (1)\n",
      "0.01272439956665039s\n",
      "C:\\Users\\12sam\\Desktop\\Kingdom Hearts 2 Modding\\ISO\\export\\KH2\\file\\jp (21)\n",
      "0.3326559066772461s\n",
      "C:\\Users\\12sam\\Desktop\\Kingdom Hearts 2 Modding\\ISO\\export\\KH2\\libretto\\us (13)\n",
      "0.29437756538391113s\n",
      "C:\\Users\\12sam\\Desktop\\Kingdom Hearts 2 Modding\\ISO\\export\\KH2\\ard (289)\n",
      "\thb33.ard (0x2fc)\n",
      "3.2341136932373047s\n",
      "C:\\Users\\12sam\\Desktop\\Kingdom Hearts 2 Modding\\ISO\\export\\KH2\\map\\jp (278)\n",
      "5.06320333480835s\n",
      "C:\\Users\\12sam\\Desktop\\Kingdom Hearts 2 Modding\\ISO\\export\\KH2\\msg\\jp (25)\n",
      "0.4685657024383545s\n",
      "C:\\Users\\12sam\\Desktop\\Kingdom Hearts 2 Modding\\ISO\\export\\KH2\\field2d\\jp (50)\n",
      "0.7021615505218506s\n",
      "C:\\Users\\12sam\\Desktop\\Kingdom Hearts 2 Modding\\ISO\\export\\KH2\\msn\\jp (303)\n",
      "2.673309087753296s\n",
      "C:\\Users\\12sam\\Desktop\\Kingdom Hearts 2 Modding\\ISO\\export\\KH2\\npack (1)\n",
      "0.033164024353027344s\n",
      "C:\\Users\\12sam\\Desktop\\Kingdom Hearts 2 Modding\\ISO\\export\\KH2\\se (1176)\n",
      "13.891318798065186s\n",
      "C:\\Users\\12sam\\Desktop\\Kingdom Hearts 2 Modding\\ISO\\export\\KH2\\obj (4392)\n",
      "59.67331051826477s\n",
      "C:\\Users\\12sam\\Desktop\\Kingdom Hearts 2 Modding\\ISO\\export\\KH2 (66)\n",
      "0.9281203746795654s\n",
      "C:\\Users\\12sam\\Desktop\\Kingdom Hearts 2 Modding\\ISO\\export\\KH2\\@noname (5)\n",
      "0.07891583442687988s\n",
      "C:\\Users\\12sam\\Desktop\\Kingdom Hearts 2 Modding\\ISO\\export\\KH2\\dbg (64)\n",
      "\tlocalset-hb.bin (0xa84)\n",
      "\tmission-hb.dbg (0x3d0)\n",
      "1.237074375152588s\n"
     ]
    }
   ],
   "source": [
    "import time, os\n",
    "BASEPATH = os.path.join(os.environ[\"USE_KH2_GITPATH\"], \"KH2\")\n",
    "SUBSTR = b'b_ex100'\n",
    "\n",
    "directories = [\n",
    "    os.path.join(BASEPATH,\"effect\"),\n",
    "    os.path.join(BASEPATH,\"file\",\"jp\"),\n",
    "    os.path.join(BASEPATH,\"libretto\",\"us\"),\n",
    "    os.path.join(BASEPATH,\"ard\"),\n",
    "    os.path.join(BASEPATH,\"map\",\"jp\"),\n",
    "    os.path.join(BASEPATH,\"msg\",\"jp\"),\n",
    "    os.path.join(BASEPATH,\"field2d\",\"jp\"),\n",
    "    os.path.join(BASEPATH,\"msn\",\"jp\"),\n",
    "    os.path.join(BASEPATH,\"npack\"),\n",
    "    os.path.join(BASEPATH,\"se\"),\n",
    "    os.path.join(BASEPATH,\"obj\"),\n",
    "    BASEPATH,\n",
    "    os.path.join(BASEPATH,\"@noname\"),\n",
    "    os.path.join(BASEPATH,\"dbg\"),\n",
    "    \n",
    "    \n",
    "]\n",
    "start = time.time()\n",
    "\n",
    "for d in directories:\n",
    "    fns = [i for i in os.listdir(d) if \".\" in i]\n",
    "    print(\"{} ({})\".format(d, len(fns)))\n",
    "    \n",
    "    for fn in fns:\n",
    "        f = open(os.path.join(d,fn), \"rb\").read()\n",
    "        try:\n",
    "            i = f.index(SUBSTR)\n",
    "            print(\"\\t{} ({})\".format(fn, hex(i)))\n",
    "        except:\n",
    "            pass\n",
    "    print(\"{}s\".format(time.time()-start))\n",
    "    start = time.time()\n",
    "        "
   ]
  },
  {
   "cell_type": "code",
   "execution_count": null,
   "metadata": {},
   "outputs": [],
   "source": []
  }
 ],
 "metadata": {
  "kernelspec": {
   "display_name": "Python 3",
   "language": "python",
   "name": "python3"
  },
  "language_info": {
   "codemirror_mode": {
    "name": "ipython",
    "version": 3
   },
   "file_extension": ".py",
   "mimetype": "text/x-python",
   "name": "python",
   "nbconvert_exporter": "python",
   "pygments_lexer": "ipython3",
   "version": "3.7.4"
  }
 },
 "nbformat": 4,
 "nbformat_minor": 2
}
